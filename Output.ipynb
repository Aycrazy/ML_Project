{
 "cells": [
  {
   "cell_type": "code",
   "execution_count": 1,
   "metadata": {
    "collapsed": true
   },
   "outputs": [],
   "source": [
    "import csv\n",
    "import pandas as pd\n",
    "import numpy as np\n",
    "import processing \n",
    "from datetime import datetime as dt\n",
    "import pylab as pl\n",
    "import matplotlib.pyplot as plt\n",
    "%matplotlib inline"
   ]
  },
  {
   "cell_type": "code",
   "execution_count": 2,
   "metadata": {
    "collapsed": true
   },
   "outputs": [],
   "source": [
    "def convert_to_datetime(series_row, date_format):\n",
    "    if str(series_row) == 'nan':\n",
    "        return float('nan')\n",
    "    return dt.strptime(series_row, date_format)\n",
    "    \n",
    "\n",
    "def convert_to_month(series_row):\n",
    "    if str(series_row) == 'NaT' or str(series_row)== 'nan':\n",
    "        return float('nan')\n",
    "    else:\n",
    "        return str(series_row.month)\n",
    "\n",
    "def convert_to_year(series_row):\n",
    "    if str(series_row) == 'NaT' or str(series_row)== 'nan':\n",
    "        return float('nan')\n",
    "    else:\n",
    "        return str(series_row.year)\n",
    "\n",
    "def get_month_year_col(df, date_column, date_format):\n",
    "    df[date_column+'_datetime'] = df[date_column].apply(convert_to_datetime, date_format=date_format)\n",
    "    df[date_column+'_month'] = df[date_column+'_datetime'].apply(convert_to_month)\n",
    "    df[date_column+'_year'] = df[date_column+'_datetime'].apply(convert_to_year)\n",
    "    return df"
   ]
  },
  {
   "cell_type": "code",
   "execution_count": 4,
   "metadata": {
    "collapsed": false
   },
   "outputs": [],
   "source": [
    "violhist = pd.read_csv('data/ICIS-AIR_VIOLATION_HISTORY.csv')"
   ]
  },
  {
   "cell_type": "code",
   "execution_count": 5,
   "metadata": {
    "collapsed": true
   },
   "outputs": [],
   "source": [
    "fce = pd.read_csv('data/ICIS-AIR_FCES_PCES.csv')"
   ]
  },
  {
   "cell_type": "code",
   "execution_count": 6,
   "metadata": {
    "collapsed": false
   },
   "outputs": [
    {
     "data": {
      "text/plain": [
       "Index(['PGM_SYS_ID', 'ACTIVITY_ID', 'AGENCY_TYPE_DESC', 'STATE_CODE',\n",
       "       'AIR_LCON_CODE', 'COMP_DETERMINATION_UID', 'ENF_RESPONSE_POLICY_CODE',\n",
       "       'PROGRAM_CODES', 'PROGRAM_DESCS', 'POLLUTANT_CODES', 'POLLUTANT_DESCS',\n",
       "       'EARLIEST_FRV_DETERM_DATE', 'HPV_DAYZERO_DATE', 'HPV_RESOLVED_DATE'],\n",
       "      dtype='object')"
      ]
     },
     "execution_count": 6,
     "metadata": {},
     "output_type": "execute_result"
    }
   ],
   "source": [
    "violhist.columns"
   ]
  },
  {
   "cell_type": "code",
   "execution_count": 8,
   "metadata": {
    "collapsed": false
   },
   "outputs": [
    {
     "data": {
      "text/plain": [
       "Index(['PGM_SYS_ID', 'ACTIVITY_ID', 'STATE_EPA_FLAG', 'ACTIVITY_TYPE_CODE',\n",
       "       'ACTIVITY_TYPE_DESC', 'COMP_MONITOR_TYPE_CODE',\n",
       "       'COMP_MONITOR_TYPE_DESC', 'ACTUAL_END_DATE', 'PROGRAM_CODES'],\n",
       "      dtype='object')"
      ]
     },
     "execution_count": 8,
     "metadata": {},
     "output_type": "execute_result"
    }
   ],
   "source": [
    "fce.columns"
   ]
  },
  {
   "cell_type": "code",
   "execution_count": 9,
   "metadata": {
    "collapsed": false
   },
   "outputs": [],
   "source": [
    "violhist = get_month_year_col(violhist, 'EARLIEST_FRV_DETERM_DATE', '%m-%d-%Y')"
   ]
  },
  {
   "cell_type": "code",
   "execution_count": 10,
   "metadata": {
    "collapsed": false
   },
   "outputs": [],
   "source": [
    "violhist = get_month_year_col(violhist, 'HPV_DAYZERO_DATE', '%m-%d-%Y')"
   ]
  },
  {
   "cell_type": "code",
   "execution_count": 11,
   "metadata": {
    "collapsed": true
   },
   "outputs": [],
   "source": [
    "violhist = get_month_year_col(violhist, 'HPV_RESOLVED_DATE', '%m-%d-%Y')"
   ]
  },
  {
   "cell_type": "code",
   "execution_count": 54,
   "metadata": {
    "collapsed": false
   },
   "outputs": [],
   "source": [
    "#removing FRVs\n",
    "violhist = violhist[violhist.ENF_RESPONSE_POLICY_CODE != 'FRV']"
   ]
  },
  {
   "cell_type": "code",
   "execution_count": 55,
   "metadata": {
    "collapsed": true
   },
   "outputs": [],
   "source": [
    "fce = get_month_year_col(fce, 'ACTUAL_END_DATE', '%m-%d-%Y')"
   ]
  },
  {
   "cell_type": "code",
   "execution_count": 58,
   "metadata": {
    "collapsed": false
   },
   "outputs": [],
   "source": [
    "merged_hpv_fce = pd.merge(violhist, fce, how='outer', left_on=['PGM_SYS_ID', 'HPV_DAYZERO_DATE'], right_on=['PGM_SYS_ID','ACTUAL_END_DATE'])"
   ]
  },
  {
   "cell_type": "code",
   "execution_count": 105,
   "metadata": {
    "collapsed": false
   },
   "outputs": [
    {
     "name": "stderr",
     "output_type": "stream",
     "text": [
      "C:\\ProgramData\\Anaconda3\\lib\\site-packages\\ipykernel\\__main__.py:3: SettingWithCopyWarning: \n",
      "A value is trying to be set on a copy of a slice from a DataFrame.\n",
      "Try using .loc[row_indexer,col_indexer] = value instead\n",
      "\n",
      "See the caveats in the documentation: http://pandas.pydata.org/pandas-docs/stable/indexing.html#indexing-view-versus-copy\n",
      "  app.launch_new_instance()\n",
      "C:\\ProgramData\\Anaconda3\\lib\\site-packages\\ipykernel\\__main__.py:8: SettingWithCopyWarning: \n",
      "A value is trying to be set on a copy of a slice from a DataFrame.\n",
      "Try using .loc[row_indexer,col_indexer] = value instead\n",
      "\n",
      "See the caveats in the documentation: http://pandas.pydata.org/pandas-docs/stable/indexing.html#indexing-view-versus-copy\n"
     ]
    }
   ],
   "source": [
    "#finding 0's\n",
    "non_viol = merged_hpv_fce[merged_hpv_fce.HPV_DAYZERO_DATE.isnull() & merged_hpv_fce.ACTUAL_END_DATE.notnull() ]\n",
    "non_viol['is_violation'] = 0\n",
    "non_viol = non_viol.filter(['PGM_SYS_ID', 'ACTUAL_END_DATE', 'is_violation'], axis = 1)\n",
    "non_viol.rename(columns={'ACTUAL_END_DATE': 'HPV_DAYZERO_DATE'}, inplace=True)\n",
    "#finding 1's\n",
    "viol = merged_hpv_fce[merged_hpv_fce.HPV_DAYZERO_DATE.notnull()]\n",
    "viol['is_violation'] = 1\n",
    "viol = viol.filter(['PGM_SYS_ID', 'HPV_DAYZERO_DATE', 'is_violation'], axis = 1)"
   ]
  },
  {
   "cell_type": "code",
   "execution_count": 113,
   "metadata": {
    "collapsed": false
   },
   "outputs": [
    {
     "name": "stdout",
     "output_type": "stream",
     "text": [
      "(1404806, 34) (1366990, 3) (37782, 3) (1404772, 3)\n"
     ]
    }
   ],
   "source": [
    "output = pd.concat([viol,non_viol])\n",
    "print(merged_hpv_fce.shape, non_viol.shape, viol.shape, output.shape)"
   ]
  },
  {
   "cell_type": "code",
   "execution_count": null,
   "metadata": {
    "collapsed": false
   },
   "outputs": [],
   "source": []
  },
  {
   "cell_type": "code",
   "execution_count": null,
   "metadata": {
    "collapsed": false
   },
   "outputs": [],
   "source": []
  },
  {
   "cell_type": "code",
   "execution_count": null,
   "metadata": {
    "collapsed": true
   },
   "outputs": [],
   "source": []
  }
 ],
 "metadata": {
  "kernelspec": {
   "display_name": "Python 3",
   "language": "python",
   "name": "python3"
  },
  "language_info": {
   "codemirror_mode": {
    "name": "ipython",
    "version": 3
   },
   "file_extension": ".py",
   "mimetype": "text/x-python",
   "name": "python",
   "nbconvert_exporter": "python",
   "pygments_lexer": "ipython3",
   "version": "3.6.0"
  }
 },
 "nbformat": 4,
 "nbformat_minor": 2
}
