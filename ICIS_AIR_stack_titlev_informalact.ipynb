{
 "cells": [
  {
   "cell_type": "code",
   "execution_count": 1,
   "metadata": {
    "collapsed": false
   },
   "outputs": [],
   "source": [
    "import csv\n",
    "import pandas as pd\n",
    "import numpy as np\n",
    "import processing \n",
    "import preprocess\n",
    "%run processing\n",
    "%run preprocess"
   ]
  },
  {
   "cell_type": "markdown",
   "metadata": {},
   "source": [
    "# Stack test file"
   ]
  },
  {
   "cell_type": "code",
   "execution_count": 3,
   "metadata": {
    "collapsed": false
   },
   "outputs": [],
   "source": [
    "stack_df = pd.read_csv('ICIS-AIR_STACK_TESTS.csv')"
   ]
  },
  {
   "cell_type": "code",
   "execution_count": 3,
   "metadata": {
    "collapsed": false
   },
   "outputs": [
    {
     "data": {
      "text/html": [
       "<div>\n",
       "<table border=\"1\" class=\"dataframe\">\n",
       "  <thead>\n",
       "    <tr style=\"text-align: right;\">\n",
       "      <th></th>\n",
       "      <th>PGM_SYS_ID</th>\n",
       "      <th>ACTIVITY_ID</th>\n",
       "      <th>COMP_MONITOR_TYPE_CODE</th>\n",
       "      <th>COMP_MONITOR_TYPE_DESC</th>\n",
       "      <th>STATE_EPA_FLAG</th>\n",
       "      <th>ACTUAL_END_DATE</th>\n",
       "      <th>POLLUTANT_CODES</th>\n",
       "      <th>POLLUTANT_DESCS</th>\n",
       "      <th>AIR_STACK_TEST_STATUS_CODE</th>\n",
       "      <th>AIR_STACK_TEST_STATUS_DESC</th>\n",
       "    </tr>\n",
       "  </thead>\n",
       "  <tbody>\n",
       "    <tr>\n",
       "      <th>0</th>\n",
       "      <td>RI0000004400900016</td>\n",
       "      <td>600078981</td>\n",
       "      <td>CST</td>\n",
       "      <td>Stack Test</td>\n",
       "      <td>E</td>\n",
       "      <td>10/03/2007</td>\n",
       "      <td>Volatile organic compounds</td>\n",
       "      <td>NaN</td>\n",
       "      <td>NaN</td>\n",
       "      <td>NaN</td>\n",
       "    </tr>\n",
       "    <tr>\n",
       "      <th>1</th>\n",
       "      <td>CT0000000900900001</td>\n",
       "      <td>600035891</td>\n",
       "      <td>CST</td>\n",
       "      <td>Stack Test</td>\n",
       "      <td>E</td>\n",
       "      <td>01/17/2007</td>\n",
       "      <td>Volatile organic compounds</td>\n",
       "      <td>NaN</td>\n",
       "      <td>NaN</td>\n",
       "      <td>NaN</td>\n",
       "    </tr>\n",
       "    <tr>\n",
       "      <th>2</th>\n",
       "      <td>CT0000000900900001</td>\n",
       "      <td>600035898</td>\n",
       "      <td>CST</td>\n",
       "      <td>Stack Test</td>\n",
       "      <td>E</td>\n",
       "      <td>01/18/2007</td>\n",
       "      <td>Volatile organic compounds</td>\n",
       "      <td>NaN</td>\n",
       "      <td>NaN</td>\n",
       "      <td>NaN</td>\n",
       "    </tr>\n",
       "    <tr>\n",
       "      <th>3</th>\n",
       "      <td>ME0000002301300004</td>\n",
       "      <td>600049983</td>\n",
       "      <td>CST</td>\n",
       "      <td>Stack Test</td>\n",
       "      <td>E</td>\n",
       "      <td>05/30/2007</td>\n",
       "      <td>Volatile organic compounds</td>\n",
       "      <td>NaN</td>\n",
       "      <td>NaN</td>\n",
       "      <td>NaN</td>\n",
       "    </tr>\n",
       "    <tr>\n",
       "      <th>4</th>\n",
       "      <td>MA0000002511900605</td>\n",
       "      <td>3400446154</td>\n",
       "      <td>CST</td>\n",
       "      <td>Stack Test</td>\n",
       "      <td>S</td>\n",
       "      <td>09/28/2011</td>\n",
       "      <td>VOLATILE ORGANIC COMPOUNDS (VOCS)</td>\n",
       "      <td>NaN</td>\n",
       "      <td>PSS</td>\n",
       "      <td>Pass</td>\n",
       "    </tr>\n",
       "  </tbody>\n",
       "</table>\n",
       "</div>"
      ],
      "text/plain": [
       "           PGM_SYS_ID  ACTIVITY_ID COMP_MONITOR_TYPE_CODE  \\\n",
       "0  RI0000004400900016    600078981                    CST   \n",
       "1  CT0000000900900001    600035891                    CST   \n",
       "2  CT0000000900900001    600035898                    CST   \n",
       "3  ME0000002301300004    600049983                    CST   \n",
       "4  MA0000002511900605   3400446154                    CST   \n",
       "\n",
       "  COMP_MONITOR_TYPE_DESC STATE_EPA_FLAG ACTUAL_END_DATE  \\\n",
       "0             Stack Test              E      10/03/2007   \n",
       "1             Stack Test              E      01/17/2007   \n",
       "2             Stack Test              E      01/18/2007   \n",
       "3             Stack Test              E      05/30/2007   \n",
       "4             Stack Test              S      09/28/2011   \n",
       "\n",
       "                     POLLUTANT_CODES  POLLUTANT_DESCS  \\\n",
       "0         Volatile organic compounds              NaN   \n",
       "1         Volatile organic compounds              NaN   \n",
       "2         Volatile organic compounds              NaN   \n",
       "3         Volatile organic compounds              NaN   \n",
       "4  VOLATILE ORGANIC COMPOUNDS (VOCS)              NaN   \n",
       "\n",
       "  AIR_STACK_TEST_STATUS_CODE AIR_STACK_TEST_STATUS_DESC  \n",
       "0                        NaN                        NaN  \n",
       "1                        NaN                        NaN  \n",
       "2                        NaN                        NaN  \n",
       "3                        NaN                        NaN  \n",
       "4                        PSS                       Pass  "
      ]
     },
     "execution_count": 3,
     "metadata": {},
     "output_type": "execute_result"
    }
   ],
   "source": [
    "stack_df.head()"
   ]
  },
  {
   "cell_type": "code",
   "execution_count": 29,
   "metadata": {
    "collapsed": false
   },
   "outputs": [
    {
     "name": "stdout",
     "output_type": "stream",
     "text": [
      "value                        False   True \n",
      "variable                                  \n",
      "ACTIVITY_ID                 315709       0\n",
      "ACTUAL_END_DATE             315707       2\n",
      "ACTUAL_END_DATE_datetime    315707       2\n",
      "ACTUAL_END_DATE_month       315707       2\n",
      "ACTUAL_END_DATE_year        315707       2\n",
      "AIR_STACK_TEST_STATUS_CODE  315709       0\n",
      "AIR_STACK_TEST_STATUS_DESC  315709       0\n",
      "COMP_MONITOR_TYPE_CODE      315709       0\n",
      "COMP_MONITOR_TYPE_DESC      315709       0\n",
      "PGM_SYS_ID                  315709       0\n",
      "POLLUTANT_CODES             225895   89814\n",
      "POLLUTANT_DESCS                  0  315709\n",
      "STATE_EPA_FLAG              315709       0\n"
     ]
    }
   ],
   "source": [
    "print_null_freq(stack_df)"
   ]
  },
  {
   "cell_type": "code",
   "execution_count": 30,
   "metadata": {
    "collapsed": false
   },
   "outputs": [],
   "source": [
    "# Data is not useful when AIR_STACK_TEST_STATUS_DESC is null -- drop nulls (But why so many?)\n",
    "dropnan_df = stack_df.dropna(subset=['AIR_STACK_TEST_STATUS_DESC'])"
   ]
  },
  {
   "cell_type": "code",
   "execution_count": 32,
   "metadata": {
    "collapsed": false
   },
   "outputs": [
    {
     "name": "stdout",
     "output_type": "stream",
     "text": [
      "value                        False   True \n",
      "variable                                  \n",
      "ACTIVITY_ID                 315709       0\n",
      "ACTUAL_END_DATE             315707       2\n",
      "ACTUAL_END_DATE_datetime    315707       2\n",
      "ACTUAL_END_DATE_month       315707       2\n",
      "ACTUAL_END_DATE_year        315707       2\n",
      "AIR_STACK_TEST_STATUS_CODE  315709       0\n",
      "AIR_STACK_TEST_STATUS_DESC  315709       0\n",
      "COMP_MONITOR_TYPE_CODE      315709       0\n",
      "COMP_MONITOR_TYPE_DESC      315709       0\n",
      "PGM_SYS_ID                  315709       0\n",
      "POLLUTANT_CODES             225895   89814\n",
      "POLLUTANT_DESCS                  0  315709\n",
      "STATE_EPA_FLAG              315709       0\n"
     ]
    }
   ],
   "source": [
    "print_null_freq(dropnan_df)"
   ]
  },
  {
   "cell_type": "code",
   "execution_count": 34,
   "metadata": {
    "collapsed": true
   },
   "outputs": [],
   "source": [
    "# Add date, filter post 2006, needed variables\n",
    "\n",
    "date_format = '%m/%d/%Y'\n",
    "date_col = 'ACTUAL_END_DATE'\n",
    "interest_var = ['AIR_STACK_TEST_STATUS_DESC']\n",
    "fac_id = 'PGM_SYS_ID'"
   ]
  },
  {
   "cell_type": "code",
   "execution_count": 35,
   "metadata": {
    "collapsed": false
   },
   "outputs": [],
   "source": [
    "filtered_df = processing.date_and_filter(dropnan_df, date_format, date_col, interest_var, fac_id)"
   ]
  },
  {
   "cell_type": "code",
   "execution_count": 36,
   "metadata": {
    "collapsed": false
   },
   "outputs": [
    {
     "data": {
      "text/html": [
       "<div>\n",
       "<table border=\"1\" class=\"dataframe\">\n",
       "  <thead>\n",
       "    <tr style=\"text-align: right;\">\n",
       "      <th></th>\n",
       "      <th>AIR_STACK_TEST_STATUS_DESC</th>\n",
       "      <th>PGM_SYS_ID</th>\n",
       "      <th>ACTUAL_END_DATE_datetime</th>\n",
       "      <th>ACTUAL_END_DATE_year</th>\n",
       "    </tr>\n",
       "  </thead>\n",
       "  <tbody>\n",
       "    <tr>\n",
       "      <th>4</th>\n",
       "      <td>Pass</td>\n",
       "      <td>MA0000002511900605</td>\n",
       "      <td>2011-09-28 00:00:00</td>\n",
       "      <td>2011</td>\n",
       "    </tr>\n",
       "    <tr>\n",
       "      <th>5</th>\n",
       "      <td>Pass</td>\n",
       "      <td>CT0000000900300005</td>\n",
       "      <td>2007-04-26 00:00:00</td>\n",
       "      <td>2007</td>\n",
       "    </tr>\n",
       "    <tr>\n",
       "      <th>6</th>\n",
       "      <td>Pass</td>\n",
       "      <td>CT0000000900300005</td>\n",
       "      <td>2007-04-26 00:00:00</td>\n",
       "      <td>2007</td>\n",
       "    </tr>\n",
       "    <tr>\n",
       "      <th>7</th>\n",
       "      <td>Pass</td>\n",
       "      <td>CT0000000900300005</td>\n",
       "      <td>2008-05-01 00:00:00</td>\n",
       "      <td>2008</td>\n",
       "    </tr>\n",
       "    <tr>\n",
       "      <th>8</th>\n",
       "      <td>Pass</td>\n",
       "      <td>CT0000000900300005</td>\n",
       "      <td>2009-04-28 00:00:00</td>\n",
       "      <td>2009</td>\n",
       "    </tr>\n",
       "  </tbody>\n",
       "</table>\n",
       "</div>"
      ],
      "text/plain": [
       "  AIR_STACK_TEST_STATUS_DESC          PGM_SYS_ID ACTUAL_END_DATE_datetime  \\\n",
       "4                       Pass  MA0000002511900605      2011-09-28 00:00:00   \n",
       "5                       Pass  CT0000000900300005      2007-04-26 00:00:00   \n",
       "6                       Pass  CT0000000900300005      2007-04-26 00:00:00   \n",
       "7                       Pass  CT0000000900300005      2008-05-01 00:00:00   \n",
       "8                       Pass  CT0000000900300005      2009-04-28 00:00:00   \n",
       "\n",
       "  ACTUAL_END_DATE_year  \n",
       "4                 2011  \n",
       "5                 2007  \n",
       "6                 2007  \n",
       "7                 2008  \n",
       "8                 2009  "
      ]
     },
     "execution_count": 36,
     "metadata": {},
     "output_type": "execute_result"
    }
   ],
   "source": [
    "filtered_df.head()"
   ]
  },
  {
   "cell_type": "code",
   "execution_count": 37,
   "metadata": {
    "collapsed": false
   },
   "outputs": [
    {
     "data": {
      "text/plain": [
       "(315709, 13)"
      ]
     },
     "execution_count": 37,
     "metadata": {},
     "output_type": "execute_result"
    }
   ],
   "source": [
    "stack_df.shape  "
   ]
  },
  {
   "cell_type": "code",
   "execution_count": 38,
   "metadata": {
    "collapsed": false
   },
   "outputs": [
    {
     "data": {
      "text/plain": [
       "(231927, 4)"
      ]
     },
     "execution_count": 38,
     "metadata": {},
     "output_type": "execute_result"
    }
   ],
   "source": [
    "filtered_df.shape #about 84,000 have been filtered out"
   ]
  },
  {
   "cell_type": "code",
   "execution_count": 10,
   "metadata": {
    "collapsed": false
   },
   "outputs": [],
   "source": [
    "#sum up how many times happened in each year\n",
    "df_counts = processing.add_count_cols(filtered_df, fac_id, date_col+'_year', interest_var, 'stacktest') "
   ]
  },
  {
   "cell_type": "code",
   "execution_count": 11,
   "metadata": {
    "collapsed": false
   },
   "outputs": [
    {
     "data": {
      "text/html": [
       "<div>\n",
       "<table border=\"1\" class=\"dataframe\">\n",
       "  <thead>\n",
       "    <tr style=\"text-align: right;\">\n",
       "      <th></th>\n",
       "      <th>2007_stacktest_Fail</th>\n",
       "      <th>2007_stacktest_Pass</th>\n",
       "      <th>2007_stacktest_Pending</th>\n",
       "      <th>2008_stacktest_Fail</th>\n",
       "      <th>2008_stacktest_Pass</th>\n",
       "      <th>2008_stacktest_Pending</th>\n",
       "      <th>2009_stacktest_Fail</th>\n",
       "      <th>2009_stacktest_Pass</th>\n",
       "      <th>2009_stacktest_Pending</th>\n",
       "      <th>2010_stacktest_Fail</th>\n",
       "      <th>...</th>\n",
       "      <th>2015_stacktest_Pass</th>\n",
       "      <th>2015_stacktest_Pending</th>\n",
       "      <th>2016_stacktest_Fail</th>\n",
       "      <th>2016_stacktest_Incomplete</th>\n",
       "      <th>2016_stacktest_Pass</th>\n",
       "      <th>2016_stacktest_Pending</th>\n",
       "      <th>2017_stacktest_Fail</th>\n",
       "      <th>2017_stacktest_Incomplete</th>\n",
       "      <th>2017_stacktest_Pass</th>\n",
       "      <th>2017_stacktest_Pending</th>\n",
       "    </tr>\n",
       "    <tr>\n",
       "      <th>PGM_SYS_ID</th>\n",
       "      <th></th>\n",
       "      <th></th>\n",
       "      <th></th>\n",
       "      <th></th>\n",
       "      <th></th>\n",
       "      <th></th>\n",
       "      <th></th>\n",
       "      <th></th>\n",
       "      <th></th>\n",
       "      <th></th>\n",
       "      <th></th>\n",
       "      <th></th>\n",
       "      <th></th>\n",
       "      <th></th>\n",
       "      <th></th>\n",
       "      <th></th>\n",
       "      <th></th>\n",
       "      <th></th>\n",
       "      <th></th>\n",
       "      <th></th>\n",
       "      <th></th>\n",
       "    </tr>\n",
       "  </thead>\n",
       "  <tbody>\n",
       "    <tr>\n",
       "      <th>06000000481136E376</th>\n",
       "      <td>0.0</td>\n",
       "      <td>0.0</td>\n",
       "      <td>0.0</td>\n",
       "      <td>0.0</td>\n",
       "      <td>0.0</td>\n",
       "      <td>0.0</td>\n",
       "      <td>0.0</td>\n",
       "      <td>0.0</td>\n",
       "      <td>0.0</td>\n",
       "      <td>0.0</td>\n",
       "      <td>...</td>\n",
       "      <td>0.0</td>\n",
       "      <td>0.0</td>\n",
       "      <td>0.0</td>\n",
       "      <td>0.0</td>\n",
       "      <td>0.0</td>\n",
       "      <td>0.0</td>\n",
       "      <td>0.0</td>\n",
       "      <td>0.0</td>\n",
       "      <td>0.0</td>\n",
       "      <td>0.0</td>\n",
       "    </tr>\n",
       "    <tr>\n",
       "      <th>080000003802500045</th>\n",
       "      <td>0.0</td>\n",
       "      <td>0.0</td>\n",
       "      <td>0.0</td>\n",
       "      <td>0.0</td>\n",
       "      <td>0.0</td>\n",
       "      <td>0.0</td>\n",
       "      <td>0.0</td>\n",
       "      <td>0.0</td>\n",
       "      <td>0.0</td>\n",
       "      <td>0.0</td>\n",
       "      <td>...</td>\n",
       "      <td>1.0</td>\n",
       "      <td>0.0</td>\n",
       "      <td>0.0</td>\n",
       "      <td>0.0</td>\n",
       "      <td>3.0</td>\n",
       "      <td>0.0</td>\n",
       "      <td>0.0</td>\n",
       "      <td>0.0</td>\n",
       "      <td>0.0</td>\n",
       "      <td>0.0</td>\n",
       "    </tr>\n",
       "    <tr>\n",
       "      <th>080000003802500046</th>\n",
       "      <td>0.0</td>\n",
       "      <td>0.0</td>\n",
       "      <td>0.0</td>\n",
       "      <td>0.0</td>\n",
       "      <td>0.0</td>\n",
       "      <td>0.0</td>\n",
       "      <td>0.0</td>\n",
       "      <td>0.0</td>\n",
       "      <td>0.0</td>\n",
       "      <td>0.0</td>\n",
       "      <td>...</td>\n",
       "      <td>1.0</td>\n",
       "      <td>0.0</td>\n",
       "      <td>0.0</td>\n",
       "      <td>0.0</td>\n",
       "      <td>3.0</td>\n",
       "      <td>0.0</td>\n",
       "      <td>0.0</td>\n",
       "      <td>0.0</td>\n",
       "      <td>0.0</td>\n",
       "      <td>0.0</td>\n",
       "    </tr>\n",
       "    <tr>\n",
       "      <th>080000003802500047</th>\n",
       "      <td>0.0</td>\n",
       "      <td>0.0</td>\n",
       "      <td>0.0</td>\n",
       "      <td>0.0</td>\n",
       "      <td>0.0</td>\n",
       "      <td>0.0</td>\n",
       "      <td>0.0</td>\n",
       "      <td>0.0</td>\n",
       "      <td>0.0</td>\n",
       "      <td>0.0</td>\n",
       "      <td>...</td>\n",
       "      <td>2.0</td>\n",
       "      <td>0.0</td>\n",
       "      <td>0.0</td>\n",
       "      <td>0.0</td>\n",
       "      <td>2.0</td>\n",
       "      <td>0.0</td>\n",
       "      <td>0.0</td>\n",
       "      <td>0.0</td>\n",
       "      <td>0.0</td>\n",
       "      <td>0.0</td>\n",
       "    </tr>\n",
       "    <tr>\n",
       "      <th>080000003805300002</th>\n",
       "      <td>0.0</td>\n",
       "      <td>0.0</td>\n",
       "      <td>0.0</td>\n",
       "      <td>0.0</td>\n",
       "      <td>0.0</td>\n",
       "      <td>0.0</td>\n",
       "      <td>0.0</td>\n",
       "      <td>0.0</td>\n",
       "      <td>0.0</td>\n",
       "      <td>0.0</td>\n",
       "      <td>...</td>\n",
       "      <td>1.0</td>\n",
       "      <td>0.0</td>\n",
       "      <td>0.0</td>\n",
       "      <td>0.0</td>\n",
       "      <td>1.0</td>\n",
       "      <td>0.0</td>\n",
       "      <td>0.0</td>\n",
       "      <td>0.0</td>\n",
       "      <td>0.0</td>\n",
       "      <td>0.0</td>\n",
       "    </tr>\n",
       "  </tbody>\n",
       "</table>\n",
       "<p>5 rows × 38 columns</p>\n",
       "</div>"
      ],
      "text/plain": [
       "                    2007_stacktest_Fail  2007_stacktest_Pass  \\\n",
       "PGM_SYS_ID                                                     \n",
       "06000000481136E376                  0.0                  0.0   \n",
       "080000003802500045                  0.0                  0.0   \n",
       "080000003802500046                  0.0                  0.0   \n",
       "080000003802500047                  0.0                  0.0   \n",
       "080000003805300002                  0.0                  0.0   \n",
       "\n",
       "                    2007_stacktest_Pending  2008_stacktest_Fail  \\\n",
       "PGM_SYS_ID                                                        \n",
       "06000000481136E376                     0.0                  0.0   \n",
       "080000003802500045                     0.0                  0.0   \n",
       "080000003802500046                     0.0                  0.0   \n",
       "080000003802500047                     0.0                  0.0   \n",
       "080000003805300002                     0.0                  0.0   \n",
       "\n",
       "                    2008_stacktest_Pass  2008_stacktest_Pending  \\\n",
       "PGM_SYS_ID                                                        \n",
       "06000000481136E376                  0.0                     0.0   \n",
       "080000003802500045                  0.0                     0.0   \n",
       "080000003802500046                  0.0                     0.0   \n",
       "080000003802500047                  0.0                     0.0   \n",
       "080000003805300002                  0.0                     0.0   \n",
       "\n",
       "                    2009_stacktest_Fail  2009_stacktest_Pass  \\\n",
       "PGM_SYS_ID                                                     \n",
       "06000000481136E376                  0.0                  0.0   \n",
       "080000003802500045                  0.0                  0.0   \n",
       "080000003802500046                  0.0                  0.0   \n",
       "080000003802500047                  0.0                  0.0   \n",
       "080000003805300002                  0.0                  0.0   \n",
       "\n",
       "                    2009_stacktest_Pending  2010_stacktest_Fail  \\\n",
       "PGM_SYS_ID                                                        \n",
       "06000000481136E376                     0.0                  0.0   \n",
       "080000003802500045                     0.0                  0.0   \n",
       "080000003802500046                     0.0                  0.0   \n",
       "080000003802500047                     0.0                  0.0   \n",
       "080000003805300002                     0.0                  0.0   \n",
       "\n",
       "                             ...            2015_stacktest_Pass  \\\n",
       "PGM_SYS_ID                   ...                                  \n",
       "06000000481136E376           ...                            0.0   \n",
       "080000003802500045           ...                            1.0   \n",
       "080000003802500046           ...                            1.0   \n",
       "080000003802500047           ...                            2.0   \n",
       "080000003805300002           ...                            1.0   \n",
       "\n",
       "                    2015_stacktest_Pending  2016_stacktest_Fail  \\\n",
       "PGM_SYS_ID                                                        \n",
       "06000000481136E376                     0.0                  0.0   \n",
       "080000003802500045                     0.0                  0.0   \n",
       "080000003802500046                     0.0                  0.0   \n",
       "080000003802500047                     0.0                  0.0   \n",
       "080000003805300002                     0.0                  0.0   \n",
       "\n",
       "                    2016_stacktest_Incomplete  2016_stacktest_Pass  \\\n",
       "PGM_SYS_ID                                                           \n",
       "06000000481136E376                        0.0                  0.0   \n",
       "080000003802500045                        0.0                  3.0   \n",
       "080000003802500046                        0.0                  3.0   \n",
       "080000003802500047                        0.0                  2.0   \n",
       "080000003805300002                        0.0                  1.0   \n",
       "\n",
       "                    2016_stacktest_Pending  2017_stacktest_Fail  \\\n",
       "PGM_SYS_ID                                                        \n",
       "06000000481136E376                     0.0                  0.0   \n",
       "080000003802500045                     0.0                  0.0   \n",
       "080000003802500046                     0.0                  0.0   \n",
       "080000003802500047                     0.0                  0.0   \n",
       "080000003805300002                     0.0                  0.0   \n",
       "\n",
       "                    2017_stacktest_Incomplete  2017_stacktest_Pass  \\\n",
       "PGM_SYS_ID                                                           \n",
       "06000000481136E376                        0.0                  0.0   \n",
       "080000003802500045                        0.0                  0.0   \n",
       "080000003802500046                        0.0                  0.0   \n",
       "080000003802500047                        0.0                  0.0   \n",
       "080000003805300002                        0.0                  0.0   \n",
       "\n",
       "                    2017_stacktest_Pending  \n",
       "PGM_SYS_ID                                  \n",
       "06000000481136E376                     0.0  \n",
       "080000003802500045                     0.0  \n",
       "080000003802500046                     0.0  \n",
       "080000003802500047                     0.0  \n",
       "080000003805300002                     0.0  \n",
       "\n",
       "[5 rows x 38 columns]"
      ]
     },
     "execution_count": 11,
     "metadata": {},
     "output_type": "execute_result"
    }
   ],
   "source": [
    "df_counts.head()"
   ]
  },
  {
   "cell_type": "code",
   "execution_count": 12,
   "metadata": {
    "collapsed": false
   },
   "outputs": [],
   "source": [
    "# Print to file\n",
    "df_counts.to_csv('air_stacktest_for_sql.csv')"
   ]
  },
  {
   "cell_type": "code",
   "execution_count": 13,
   "metadata": {
    "collapsed": false
   },
   "outputs": [
    {
     "data": {
      "text/plain": [
       "Index(['2007_stacktest_Fail', '2007_stacktest_Pass', '2007_stacktest_Pending',\n",
       "       '2008_stacktest_Fail', '2008_stacktest_Pass', '2008_stacktest_Pending',\n",
       "       '2009_stacktest_Fail', '2009_stacktest_Pass', '2009_stacktest_Pending',\n",
       "       '2010_stacktest_Fail', '2010_stacktest_Pass', '2010_stacktest_Pending',\n",
       "       '2011_stacktest_Fail', '2011_stacktest_Pass', '2011_stacktest_Pending',\n",
       "       '2012_stacktest_Fail', '2012_stacktest_Pass', '2012_stacktest_Pending',\n",
       "       '2013_stacktest_Fail', '2013_stacktest_Incomplete',\n",
       "       '2013_stacktest_Pass', '2013_stacktest_Pending', '2014_stacktest_Fail',\n",
       "       '2014_stacktest_Incomplete', '2014_stacktest_Pass',\n",
       "       '2014_stacktest_Pending', '2015_stacktest_Fail',\n",
       "       '2015_stacktest_Incomplete', '2015_stacktest_Pass',\n",
       "       '2015_stacktest_Pending', '2016_stacktest_Fail',\n",
       "       '2016_stacktest_Incomplete', '2016_stacktest_Pass',\n",
       "       '2016_stacktest_Pending', '2017_stacktest_Fail',\n",
       "       '2017_stacktest_Incomplete', '2017_stacktest_Pass',\n",
       "       '2017_stacktest_Pending'],\n",
       "      dtype='object')"
      ]
     },
     "execution_count": 13,
     "metadata": {},
     "output_type": "execute_result"
    }
   ],
   "source": [
    "df_counts.columns"
   ]
  },
  {
   "cell_type": "markdown",
   "metadata": {},
   "source": [
    "# Title V file"
   ]
  },
  {
   "cell_type": "code",
   "execution_count": 39,
   "metadata": {
    "collapsed": true
   },
   "outputs": [],
   "source": [
    "titlefive_df = pd.read_csv('ICIS-AIR_TITLEV_CERTS.csv')"
   ]
  },
  {
   "cell_type": "code",
   "execution_count": 40,
   "metadata": {
    "collapsed": false
   },
   "outputs": [
    {
     "data": {
      "text/html": [
       "<div>\n",
       "<table border=\"1\" class=\"dataframe\">\n",
       "  <thead>\n",
       "    <tr style=\"text-align: right;\">\n",
       "      <th></th>\n",
       "      <th>PGM_SYS_ID</th>\n",
       "      <th>ACTIVITY_ID</th>\n",
       "      <th>COMP_MONITOR_TYPE_CODE</th>\n",
       "      <th>COMP_MONITOR_TYPE_DESC</th>\n",
       "      <th>STATE_EPA_FLAG</th>\n",
       "      <th>ACTUAL_END_DATE</th>\n",
       "      <th>FACILITY_RPT_DEVIATION_FLAG</th>\n",
       "    </tr>\n",
       "  </thead>\n",
       "  <tbody>\n",
       "    <tr>\n",
       "      <th>0</th>\n",
       "      <td>UT0000004903500210</td>\n",
       "      <td>3600154556</td>\n",
       "      <td>TVA</td>\n",
       "      <td>TV ACC Receipt/Review</td>\n",
       "      <td>S</td>\n",
       "      <td>04/30/2015</td>\n",
       "      <td>Y</td>\n",
       "    </tr>\n",
       "    <tr>\n",
       "      <th>1</th>\n",
       "      <td>UT0000004903500210</td>\n",
       "      <td>3600154556</td>\n",
       "      <td>TVA</td>\n",
       "      <td>TV ACC Receipt/Review</td>\n",
       "      <td>S</td>\n",
       "      <td>04/30/2015</td>\n",
       "      <td>Y</td>\n",
       "    </tr>\n",
       "    <tr>\n",
       "      <th>2</th>\n",
       "      <td>UT0000004903500210</td>\n",
       "      <td>3600154556</td>\n",
       "      <td>TVA</td>\n",
       "      <td>TV ACC Receipt/Review</td>\n",
       "      <td>S</td>\n",
       "      <td>04/30/2015</td>\n",
       "      <td>Y</td>\n",
       "    </tr>\n",
       "    <tr>\n",
       "      <th>3</th>\n",
       "      <td>UT0000004903500210</td>\n",
       "      <td>3600154556</td>\n",
       "      <td>TVA</td>\n",
       "      <td>TV ACC Receipt/Review</td>\n",
       "      <td>S</td>\n",
       "      <td>04/30/2015</td>\n",
       "      <td>Y</td>\n",
       "    </tr>\n",
       "    <tr>\n",
       "      <th>4</th>\n",
       "      <td>UT0000004903500210</td>\n",
       "      <td>3600154556</td>\n",
       "      <td>TVA</td>\n",
       "      <td>TV ACC Receipt/Review</td>\n",
       "      <td>S</td>\n",
       "      <td>04/30/2015</td>\n",
       "      <td>Y</td>\n",
       "    </tr>\n",
       "  </tbody>\n",
       "</table>\n",
       "</div>"
      ],
      "text/plain": [
       "           PGM_SYS_ID  ACTIVITY_ID COMP_MONITOR_TYPE_CODE  \\\n",
       "0  UT0000004903500210   3600154556                    TVA   \n",
       "1  UT0000004903500210   3600154556                    TVA   \n",
       "2  UT0000004903500210   3600154556                    TVA   \n",
       "3  UT0000004903500210   3600154556                    TVA   \n",
       "4  UT0000004903500210   3600154556                    TVA   \n",
       "\n",
       "  COMP_MONITOR_TYPE_DESC STATE_EPA_FLAG ACTUAL_END_DATE  \\\n",
       "0  TV ACC Receipt/Review              S      04/30/2015   \n",
       "1  TV ACC Receipt/Review              S      04/30/2015   \n",
       "2  TV ACC Receipt/Review              S      04/30/2015   \n",
       "3  TV ACC Receipt/Review              S      04/30/2015   \n",
       "4  TV ACC Receipt/Review              S      04/30/2015   \n",
       "\n",
       "  FACILITY_RPT_DEVIATION_FLAG  \n",
       "0                           Y  \n",
       "1                           Y  \n",
       "2                           Y  \n",
       "3                           Y  \n",
       "4                           Y  "
      ]
     },
     "execution_count": 40,
     "metadata": {},
     "output_type": "execute_result"
    }
   ],
   "source": [
    "titlefive_df.head()"
   ]
  },
  {
   "cell_type": "code",
   "execution_count": 20,
   "metadata": {
    "collapsed": false
   },
   "outputs": [
    {
     "name": "stdout",
     "output_type": "stream",
     "text": [
      "value                          False    True \n",
      "variable                                     \n",
      "ACTIVITY_ID                  1720800        0\n",
      "ACTUAL_END_DATE              1690770    30030\n",
      "COMP_MONITOR_TYPE_CODE       1720800        0\n",
      "COMP_MONITOR_TYPE_DESC       1720800        0\n",
      "FACILITY_RPT_DEVIATION_FLAG   632470  1088330\n",
      "PGM_SYS_ID                   1720800        0\n",
      "STATE_EPA_FLAG               1720800        0\n"
     ]
    }
   ],
   "source": [
    "print_null_freq(titlefive_df)"
   ]
  },
  {
   "cell_type": "code",
   "execution_count": 41,
   "metadata": {
    "collapsed": true
   },
   "outputs": [],
   "source": [
    "# drop nulls\n",
    "dropnan_df = titlefive_df.dropna(subset=['ACTUAL_END_DATE'])\n",
    "dropnan_df = dropnan_df.dropna(subset=['FACILITY_RPT_DEVIATION_FLAG'])"
   ]
  },
  {
   "cell_type": "code",
   "execution_count": 42,
   "metadata": {
    "collapsed": false
   },
   "outputs": [
    {
     "name": "stdout",
     "output_type": "stream",
     "text": [
      "value                         False\n",
      "variable                           \n",
      "ACTIVITY_ID                  632470\n",
      "ACTUAL_END_DATE              632470\n",
      "COMP_MONITOR_TYPE_CODE       632470\n",
      "COMP_MONITOR_TYPE_DESC       632470\n",
      "FACILITY_RPT_DEVIATION_FLAG  632470\n",
      "PGM_SYS_ID                   632470\n",
      "STATE_EPA_FLAG               632470\n"
     ]
    }
   ],
   "source": [
    "print_null_freq(dropnan_df)"
   ]
  },
  {
   "cell_type": "code",
   "execution_count": 43,
   "metadata": {
    "collapsed": true
   },
   "outputs": [],
   "source": [
    "# Add date, filter post 2006, needed variables\n",
    "\n",
    "date_format = '%m/%d/%Y'\n",
    "date_col = 'ACTUAL_END_DATE'\n",
    "interest_var = ['FACILITY_RPT_DEVIATION_FLAG']\n",
    "fac_id = 'PGM_SYS_ID'"
   ]
  },
  {
   "cell_type": "code",
   "execution_count": 44,
   "metadata": {
    "collapsed": true
   },
   "outputs": [],
   "source": [
    "filtered_df = processing.date_and_filter(dropnan_df, date_format, date_col, interest_var, fac_id)"
   ]
  },
  {
   "cell_type": "code",
   "execution_count": 45,
   "metadata": {
    "collapsed": false
   },
   "outputs": [
    {
     "data": {
      "text/html": [
       "<div>\n",
       "<table border=\"1\" class=\"dataframe\">\n",
       "  <thead>\n",
       "    <tr style=\"text-align: right;\">\n",
       "      <th></th>\n",
       "      <th>FACILITY_RPT_DEVIATION_FLAG</th>\n",
       "      <th>PGM_SYS_ID</th>\n",
       "      <th>ACTUAL_END_DATE_datetime</th>\n",
       "      <th>ACTUAL_END_DATE_year</th>\n",
       "    </tr>\n",
       "  </thead>\n",
       "  <tbody>\n",
       "    <tr>\n",
       "      <th>0</th>\n",
       "      <td>Y</td>\n",
       "      <td>UT0000004903500210</td>\n",
       "      <td>2015-04-30 00:00:00</td>\n",
       "      <td>2015</td>\n",
       "    </tr>\n",
       "    <tr>\n",
       "      <th>1</th>\n",
       "      <td>Y</td>\n",
       "      <td>UT0000004903500210</td>\n",
       "      <td>2015-04-30 00:00:00</td>\n",
       "      <td>2015</td>\n",
       "    </tr>\n",
       "    <tr>\n",
       "      <th>2</th>\n",
       "      <td>Y</td>\n",
       "      <td>UT0000004903500210</td>\n",
       "      <td>2015-04-30 00:00:00</td>\n",
       "      <td>2015</td>\n",
       "    </tr>\n",
       "    <tr>\n",
       "      <th>3</th>\n",
       "      <td>Y</td>\n",
       "      <td>UT0000004903500210</td>\n",
       "      <td>2015-04-30 00:00:00</td>\n",
       "      <td>2015</td>\n",
       "    </tr>\n",
       "    <tr>\n",
       "      <th>4</th>\n",
       "      <td>Y</td>\n",
       "      <td>UT0000004903500210</td>\n",
       "      <td>2015-04-30 00:00:00</td>\n",
       "      <td>2015</td>\n",
       "    </tr>\n",
       "  </tbody>\n",
       "</table>\n",
       "</div>"
      ],
      "text/plain": [
       "  FACILITY_RPT_DEVIATION_FLAG          PGM_SYS_ID ACTUAL_END_DATE_datetime  \\\n",
       "0                           Y  UT0000004903500210      2015-04-30 00:00:00   \n",
       "1                           Y  UT0000004903500210      2015-04-30 00:00:00   \n",
       "2                           Y  UT0000004903500210      2015-04-30 00:00:00   \n",
       "3                           Y  UT0000004903500210      2015-04-30 00:00:00   \n",
       "4                           Y  UT0000004903500210      2015-04-30 00:00:00   \n",
       "\n",
       "  ACTUAL_END_DATE_year  \n",
       "0                 2015  \n",
       "1                 2015  \n",
       "2                 2015  \n",
       "3                 2015  \n",
       "4                 2015  "
      ]
     },
     "execution_count": 45,
     "metadata": {},
     "output_type": "execute_result"
    }
   ],
   "source": [
    "filtered_df.head()"
   ]
  },
  {
   "cell_type": "code",
   "execution_count": 46,
   "metadata": {
    "collapsed": false
   },
   "outputs": [
    {
     "data": {
      "text/plain": [
       "(1720800, 7)"
      ]
     },
     "execution_count": 46,
     "metadata": {},
     "output_type": "execute_result"
    }
   ],
   "source": [
    "titlefive_df.shape"
   ]
  },
  {
   "cell_type": "code",
   "execution_count": 28,
   "metadata": {
    "collapsed": false
   },
   "outputs": [
    {
     "data": {
      "text/plain": [
       "(526025, 4)"
      ]
     },
     "execution_count": 28,
     "metadata": {},
     "output_type": "execute_result"
    }
   ],
   "source": [
    "filtered_df.shape #over 1 million filtered out"
   ]
  },
  {
   "cell_type": "code",
   "execution_count": 47,
   "metadata": {
    "collapsed": true
   },
   "outputs": [],
   "source": [
    "#sum up how many times happened in each year\n",
    "df_counts = processing.add_count_cols(filtered_df, fac_id, date_col+'_year', interest_var, 'titlefive') "
   ]
  },
  {
   "cell_type": "code",
   "execution_count": 48,
   "metadata": {
    "collapsed": false
   },
   "outputs": [
    {
     "data": {
      "text/html": [
       "<div>\n",
       "<table border=\"1\" class=\"dataframe\">\n",
       "  <thead>\n",
       "    <tr style=\"text-align: right;\">\n",
       "      <th></th>\n",
       "      <th>2007_titlefive_N</th>\n",
       "      <th>2007_titlefive_Y</th>\n",
       "      <th>2008_titlefive_N</th>\n",
       "      <th>2008_titlefive_Y</th>\n",
       "      <th>2009_titlefive_N</th>\n",
       "      <th>2009_titlefive_Y</th>\n",
       "      <th>2010_titlefive_N</th>\n",
       "      <th>2010_titlefive_Y</th>\n",
       "      <th>2011_titlefive_N</th>\n",
       "      <th>2011_titlefive_Y</th>\n",
       "      <th>...</th>\n",
       "      <th>2013_titlefive_N</th>\n",
       "      <th>2013_titlefive_Y</th>\n",
       "      <th>2014_titlefive_N</th>\n",
       "      <th>2014_titlefive_Y</th>\n",
       "      <th>2015_titlefive_N</th>\n",
       "      <th>2015_titlefive_Y</th>\n",
       "      <th>2016_titlefive_N</th>\n",
       "      <th>2016_titlefive_Y</th>\n",
       "      <th>2017_titlefive_N</th>\n",
       "      <th>2017_titlefive_Y</th>\n",
       "    </tr>\n",
       "    <tr>\n",
       "      <th>PGM_SYS_ID</th>\n",
       "      <th></th>\n",
       "      <th></th>\n",
       "      <th></th>\n",
       "      <th></th>\n",
       "      <th></th>\n",
       "      <th></th>\n",
       "      <th></th>\n",
       "      <th></th>\n",
       "      <th></th>\n",
       "      <th></th>\n",
       "      <th></th>\n",
       "      <th></th>\n",
       "      <th></th>\n",
       "      <th></th>\n",
       "      <th></th>\n",
       "      <th></th>\n",
       "      <th></th>\n",
       "      <th></th>\n",
       "      <th></th>\n",
       "      <th></th>\n",
       "      <th></th>\n",
       "    </tr>\n",
       "  </thead>\n",
       "  <tbody>\n",
       "    <tr>\n",
       "      <th>080000004904500088</th>\n",
       "      <td>0</td>\n",
       "      <td>0</td>\n",
       "      <td>0</td>\n",
       "      <td>0</td>\n",
       "      <td>0</td>\n",
       "      <td>0</td>\n",
       "      <td>0</td>\n",
       "      <td>0</td>\n",
       "      <td>0</td>\n",
       "      <td>0</td>\n",
       "      <td>...</td>\n",
       "      <td>0</td>\n",
       "      <td>0</td>\n",
       "      <td>0</td>\n",
       "      <td>0</td>\n",
       "      <td>0</td>\n",
       "      <td>0</td>\n",
       "      <td>5</td>\n",
       "      <td>0</td>\n",
       "      <td>0</td>\n",
       "      <td>0</td>\n",
       "    </tr>\n",
       "    <tr>\n",
       "      <th>080000004904700001</th>\n",
       "      <td>0</td>\n",
       "      <td>0</td>\n",
       "      <td>0</td>\n",
       "      <td>0</td>\n",
       "      <td>0</td>\n",
       "      <td>0</td>\n",
       "      <td>0</td>\n",
       "      <td>0</td>\n",
       "      <td>0</td>\n",
       "      <td>0</td>\n",
       "      <td>...</td>\n",
       "      <td>0</td>\n",
       "      <td>0</td>\n",
       "      <td>0</td>\n",
       "      <td>0</td>\n",
       "      <td>0</td>\n",
       "      <td>0</td>\n",
       "      <td>5</td>\n",
       "      <td>0</td>\n",
       "      <td>0</td>\n",
       "      <td>5</td>\n",
       "    </tr>\n",
       "    <tr>\n",
       "      <th>080000004904700004</th>\n",
       "      <td>0</td>\n",
       "      <td>0</td>\n",
       "      <td>0</td>\n",
       "      <td>0</td>\n",
       "      <td>0</td>\n",
       "      <td>0</td>\n",
       "      <td>0</td>\n",
       "      <td>0</td>\n",
       "      <td>0</td>\n",
       "      <td>0</td>\n",
       "      <td>...</td>\n",
       "      <td>0</td>\n",
       "      <td>0</td>\n",
       "      <td>0</td>\n",
       "      <td>0</td>\n",
       "      <td>0</td>\n",
       "      <td>0</td>\n",
       "      <td>0</td>\n",
       "      <td>0</td>\n",
       "      <td>5</td>\n",
       "      <td>0</td>\n",
       "    </tr>\n",
       "    <tr>\n",
       "      <th>080000004904700021</th>\n",
       "      <td>0</td>\n",
       "      <td>0</td>\n",
       "      <td>0</td>\n",
       "      <td>0</td>\n",
       "      <td>0</td>\n",
       "      <td>0</td>\n",
       "      <td>0</td>\n",
       "      <td>0</td>\n",
       "      <td>0</td>\n",
       "      <td>0</td>\n",
       "      <td>...</td>\n",
       "      <td>0</td>\n",
       "      <td>0</td>\n",
       "      <td>0</td>\n",
       "      <td>0</td>\n",
       "      <td>0</td>\n",
       "      <td>0</td>\n",
       "      <td>0</td>\n",
       "      <td>0</td>\n",
       "      <td>0</td>\n",
       "      <td>5</td>\n",
       "    </tr>\n",
       "    <tr>\n",
       "      <th>080000004904700023</th>\n",
       "      <td>0</td>\n",
       "      <td>0</td>\n",
       "      <td>0</td>\n",
       "      <td>0</td>\n",
       "      <td>0</td>\n",
       "      <td>0</td>\n",
       "      <td>0</td>\n",
       "      <td>0</td>\n",
       "      <td>0</td>\n",
       "      <td>0</td>\n",
       "      <td>...</td>\n",
       "      <td>0</td>\n",
       "      <td>0</td>\n",
       "      <td>0</td>\n",
       "      <td>0</td>\n",
       "      <td>0</td>\n",
       "      <td>0</td>\n",
       "      <td>5</td>\n",
       "      <td>0</td>\n",
       "      <td>0</td>\n",
       "      <td>0</td>\n",
       "    </tr>\n",
       "  </tbody>\n",
       "</table>\n",
       "<p>5 rows × 22 columns</p>\n",
       "</div>"
      ],
      "text/plain": [
       "                    2007_titlefive_N  2007_titlefive_Y  2008_titlefive_N  \\\n",
       "PGM_SYS_ID                                                                 \n",
       "080000004904500088                 0                 0                 0   \n",
       "080000004904700001                 0                 0                 0   \n",
       "080000004904700004                 0                 0                 0   \n",
       "080000004904700021                 0                 0                 0   \n",
       "080000004904700023                 0                 0                 0   \n",
       "\n",
       "                    2008_titlefive_Y  2009_titlefive_N  2009_titlefive_Y  \\\n",
       "PGM_SYS_ID                                                                 \n",
       "080000004904500088                 0                 0                 0   \n",
       "080000004904700001                 0                 0                 0   \n",
       "080000004904700004                 0                 0                 0   \n",
       "080000004904700021                 0                 0                 0   \n",
       "080000004904700023                 0                 0                 0   \n",
       "\n",
       "                    2010_titlefive_N  2010_titlefive_Y  2011_titlefive_N  \\\n",
       "PGM_SYS_ID                                                                 \n",
       "080000004904500088                 0                 0                 0   \n",
       "080000004904700001                 0                 0                 0   \n",
       "080000004904700004                 0                 0                 0   \n",
       "080000004904700021                 0                 0                 0   \n",
       "080000004904700023                 0                 0                 0   \n",
       "\n",
       "                    2011_titlefive_Y        ...         2013_titlefive_N  \\\n",
       "PGM_SYS_ID                                  ...                            \n",
       "080000004904500088                 0        ...                        0   \n",
       "080000004904700001                 0        ...                        0   \n",
       "080000004904700004                 0        ...                        0   \n",
       "080000004904700021                 0        ...                        0   \n",
       "080000004904700023                 0        ...                        0   \n",
       "\n",
       "                    2013_titlefive_Y  2014_titlefive_N  2014_titlefive_Y  \\\n",
       "PGM_SYS_ID                                                                 \n",
       "080000004904500088                 0                 0                 0   \n",
       "080000004904700001                 0                 0                 0   \n",
       "080000004904700004                 0                 0                 0   \n",
       "080000004904700021                 0                 0                 0   \n",
       "080000004904700023                 0                 0                 0   \n",
       "\n",
       "                    2015_titlefive_N  2015_titlefive_Y  2016_titlefive_N  \\\n",
       "PGM_SYS_ID                                                                 \n",
       "080000004904500088                 0                 0                 5   \n",
       "080000004904700001                 0                 0                 5   \n",
       "080000004904700004                 0                 0                 0   \n",
       "080000004904700021                 0                 0                 0   \n",
       "080000004904700023                 0                 0                 5   \n",
       "\n",
       "                    2016_titlefive_Y  2017_titlefive_N  2017_titlefive_Y  \n",
       "PGM_SYS_ID                                                                \n",
       "080000004904500088                 0                 0                 0  \n",
       "080000004904700001                 0                 0                 5  \n",
       "080000004904700004                 0                 5                 0  \n",
       "080000004904700021                 0                 0                 5  \n",
       "080000004904700023                 0                 0                 0  \n",
       "\n",
       "[5 rows x 22 columns]"
      ]
     },
     "execution_count": 48,
     "metadata": {},
     "output_type": "execute_result"
    }
   ],
   "source": [
    "df_counts.head()"
   ]
  },
  {
   "cell_type": "code",
   "execution_count": 49,
   "metadata": {
    "collapsed": true
   },
   "outputs": [],
   "source": [
    "# Print to file\n",
    "df_counts.to_csv('air_titlefive_for_sql.csv')"
   ]
  },
  {
   "cell_type": "code",
   "execution_count": 50,
   "metadata": {
    "collapsed": false
   },
   "outputs": [
    {
     "data": {
      "text/plain": [
       "Index(['2007_titlefive_N', '2007_titlefive_Y', '2008_titlefive_N',\n",
       "       '2008_titlefive_Y', '2009_titlefive_N', '2009_titlefive_Y',\n",
       "       '2010_titlefive_N', '2010_titlefive_Y', '2011_titlefive_N',\n",
       "       '2011_titlefive_Y', '2012_titlefive_N', '2012_titlefive_Y',\n",
       "       '2013_titlefive_N', '2013_titlefive_Y', '2014_titlefive_N',\n",
       "       '2014_titlefive_Y', '2015_titlefive_N', '2015_titlefive_Y',\n",
       "       '2016_titlefive_N', '2016_titlefive_Y', '2017_titlefive_N',\n",
       "       '2017_titlefive_Y'],\n",
       "      dtype='object')"
      ]
     },
     "execution_count": 50,
     "metadata": {},
     "output_type": "execute_result"
    }
   ],
   "source": [
    "df_counts.columns"
   ]
  },
  {
   "cell_type": "markdown",
   "metadata": {},
   "source": [
    "# Informal Action file"
   ]
  },
  {
   "cell_type": "code",
   "execution_count": 51,
   "metadata": {
    "collapsed": true
   },
   "outputs": [],
   "source": [
    "informalact_df = pd.read_csv('ICIS-AIR_INFORMAL_ACTIONS.csv')"
   ]
  },
  {
   "cell_type": "code",
   "execution_count": 52,
   "metadata": {
    "collapsed": false
   },
   "outputs": [
    {
     "data": {
      "text/html": [
       "<div>\n",
       "<table border=\"1\" class=\"dataframe\">\n",
       "  <thead>\n",
       "    <tr style=\"text-align: right;\">\n",
       "      <th></th>\n",
       "      <th>PGM_SYS_ID</th>\n",
       "      <th>ACTIVITY_ID</th>\n",
       "      <th>ENF_IDENTIFIER</th>\n",
       "      <th>ACTIVITY_TYPE_CODE</th>\n",
       "      <th>ACTIVITY_TYPE_DESC</th>\n",
       "      <th>STATE_EPA_FLAG</th>\n",
       "      <th>ENF_TYPE_CODE</th>\n",
       "      <th>ENF_TYPE_DESC</th>\n",
       "      <th>ACHIEVED_DATE</th>\n",
       "    </tr>\n",
       "  </thead>\n",
       "  <tbody>\n",
       "    <tr>\n",
       "      <th>0</th>\n",
       "      <td>NH0000003300900020</td>\n",
       "      <td>119966</td>\n",
       "      <td>01-100020760</td>\n",
       "      <td>AIF</td>\n",
       "      <td>Administrative - Informal</td>\n",
       "      <td>E</td>\n",
       "      <td>LRE</td>\n",
       "      <td>Letter to Regulated Entity</td>\n",
       "      <td>05/24/2004</td>\n",
       "    </tr>\n",
       "    <tr>\n",
       "      <th>1</th>\n",
       "      <td>CT0000000900905468</td>\n",
       "      <td>119525</td>\n",
       "      <td>01-100020694</td>\n",
       "      <td>AIF</td>\n",
       "      <td>Administrative - Informal</td>\n",
       "      <td>E</td>\n",
       "      <td>LRE</td>\n",
       "      <td>Letter to Regulated Entity</td>\n",
       "      <td>06/15/2004</td>\n",
       "    </tr>\n",
       "    <tr>\n",
       "      <th>2</th>\n",
       "      <td>CT0000000900909912</td>\n",
       "      <td>157284</td>\n",
       "      <td>01-100021969</td>\n",
       "      <td>AIF</td>\n",
       "      <td>Administrative - Informal</td>\n",
       "      <td>E</td>\n",
       "      <td>NOV</td>\n",
       "      <td>Notice of Violation</td>\n",
       "      <td>09/20/2005</td>\n",
       "    </tr>\n",
       "    <tr>\n",
       "      <th>3</th>\n",
       "      <td>MA0000002511900793</td>\n",
       "      <td>115568</td>\n",
       "      <td>01-100020398</td>\n",
       "      <td>AIF</td>\n",
       "      <td>Administrative - Informal</td>\n",
       "      <td>E</td>\n",
       "      <td>LRE</td>\n",
       "      <td>Letter to Regulated Entity</td>\n",
       "      <td>04/02/2004</td>\n",
       "    </tr>\n",
       "    <tr>\n",
       "      <th>4</th>\n",
       "      <td>CASCA0000605900006</td>\n",
       "      <td>87573</td>\n",
       "      <td>HQ-100018673</td>\n",
       "      <td>AIF</td>\n",
       "      <td>Administrative - Informal</td>\n",
       "      <td>E</td>\n",
       "      <td>NOD</td>\n",
       "      <td>Notice of Determination</td>\n",
       "      <td>12/10/2001</td>\n",
       "    </tr>\n",
       "  </tbody>\n",
       "</table>\n",
       "</div>"
      ],
      "text/plain": [
       "           PGM_SYS_ID  ACTIVITY_ID ENF_IDENTIFIER ACTIVITY_TYPE_CODE  \\\n",
       "0  NH0000003300900020       119966   01-100020760                AIF   \n",
       "1  CT0000000900905468       119525   01-100020694                AIF   \n",
       "2  CT0000000900909912       157284   01-100021969                AIF   \n",
       "3  MA0000002511900793       115568   01-100020398                AIF   \n",
       "4  CASCA0000605900006        87573   HQ-100018673                AIF   \n",
       "\n",
       "          ACTIVITY_TYPE_DESC STATE_EPA_FLAG ENF_TYPE_CODE  \\\n",
       "0  Administrative - Informal              E           LRE   \n",
       "1  Administrative - Informal              E           LRE   \n",
       "2  Administrative - Informal              E           NOV   \n",
       "3  Administrative - Informal              E           LRE   \n",
       "4  Administrative - Informal              E           NOD   \n",
       "\n",
       "                ENF_TYPE_DESC ACHIEVED_DATE  \n",
       "0  Letter to Regulated Entity    05/24/2004  \n",
       "1  Letter to Regulated Entity    06/15/2004  \n",
       "2         Notice of Violation    09/20/2005  \n",
       "3  Letter to Regulated Entity    04/02/2004  \n",
       "4     Notice of Determination    12/10/2001  "
      ]
     },
     "execution_count": 52,
     "metadata": {},
     "output_type": "execute_result"
    }
   ],
   "source": [
    "informalact_df.head()"
   ]
  },
  {
   "cell_type": "code",
   "execution_count": 54,
   "metadata": {
    "collapsed": false
   },
   "outputs": [
    {
     "name": "stdout",
     "output_type": "stream",
     "text": [
      "value                False  True \n",
      "variable                         \n",
      "ACHIEVED_DATE       128940    370\n",
      "ACTIVITY_ID         129310      0\n",
      "ACTIVITY_TYPE_CODE  129310      0\n",
      "ACTIVITY_TYPE_DESC  129310      0\n",
      "ENF_IDENTIFIER      129310      0\n",
      "ENF_TYPE_CODE       129310      0\n",
      "ENF_TYPE_DESC       129310      0\n",
      "PGM_SYS_ID          129310      0\n",
      "STATE_EPA_FLAG      129310      0\n"
     ]
    }
   ],
   "source": [
    "print_null_freq(informalact_df)"
   ]
  },
  {
   "cell_type": "code",
   "execution_count": 55,
   "metadata": {
    "collapsed": true
   },
   "outputs": [],
   "source": [
    "dropnan = informalact_df.dropna(subset=['ACHIEVED_DATE'])"
   ]
  },
  {
   "cell_type": "code",
   "execution_count": 56,
   "metadata": {
    "collapsed": false
   },
   "outputs": [
    {
     "name": "stdout",
     "output_type": "stream",
     "text": [
      "value                False\n",
      "variable                  \n",
      "ACHIEVED_DATE       128940\n",
      "ACTIVITY_ID         128940\n",
      "ACTIVITY_TYPE_CODE  128940\n",
      "ACTIVITY_TYPE_DESC  128940\n",
      "ENF_IDENTIFIER      128940\n",
      "ENF_TYPE_CODE       128940\n",
      "ENF_TYPE_DESC       128940\n",
      "PGM_SYS_ID          128940\n",
      "STATE_EPA_FLAG      128940\n"
     ]
    }
   ],
   "source": [
    "print_null_freq(dropnan)"
   ]
  },
  {
   "cell_type": "code",
   "execution_count": 53,
   "metadata": {
    "collapsed": true
   },
   "outputs": [],
   "source": [
    "# Add date, filter post 2006, needed variables\n",
    "\n",
    "date_format = '%m/%d/%Y'\n",
    "date_col = 'ACHIEVED_DATE'\n",
    "interest_var = ['ENF_TYPE_DESC']\n",
    "fac_id = 'PGM_SYS_ID'"
   ]
  },
  {
   "cell_type": "code",
   "execution_count": 58,
   "metadata": {
    "collapsed": false
   },
   "outputs": [
    {
     "name": "stderr",
     "output_type": "stream",
     "text": [
      "C:\\Users\\Sun-joo Lee\\Dropbox\\ICIS-AIR_downloads\\processing.py:26: SettingWithCopyWarning: \n",
      "A value is trying to be set on a copy of a slice from a DataFrame.\n",
      "Try using .loc[row_indexer,col_indexer] = value instead\n",
      "\n",
      "See the caveats in the documentation: http://pandas.pydata.org/pandas-docs/stable/indexing.html#indexing-view-versus-copy\n",
      "  df[date_column+'_datetime'] = df[date_column].apply(convert_to_datetime, date_format=date_format)\n",
      "C:\\Users\\Sun-joo Lee\\Dropbox\\ICIS-AIR_downloads\\processing.py:27: SettingWithCopyWarning: \n",
      "A value is trying to be set on a copy of a slice from a DataFrame.\n",
      "Try using .loc[row_indexer,col_indexer] = value instead\n",
      "\n",
      "See the caveats in the documentation: http://pandas.pydata.org/pandas-docs/stable/indexing.html#indexing-view-versus-copy\n",
      "  df[date_column+'_month'] = df[date_column+'_datetime'].apply(convert_to_month)\n",
      "C:\\Users\\Sun-joo Lee\\Dropbox\\ICIS-AIR_downloads\\processing.py:28: SettingWithCopyWarning: \n",
      "A value is trying to be set on a copy of a slice from a DataFrame.\n",
      "Try using .loc[row_indexer,col_indexer] = value instead\n",
      "\n",
      "See the caveats in the documentation: http://pandas.pydata.org/pandas-docs/stable/indexing.html#indexing-view-versus-copy\n",
      "  df[date_column+'_year'] = df[date_column+'_datetime'].apply(convert_to_year)\n"
     ]
    }
   ],
   "source": [
    "filtered_df = processing.date_and_filter(dropnan, date_format, date_col, interest_var, fac_id)"
   ]
  },
  {
   "cell_type": "code",
   "execution_count": 59,
   "metadata": {
    "collapsed": false
   },
   "outputs": [
    {
     "data": {
      "text/html": [
       "<div>\n",
       "<table border=\"1\" class=\"dataframe\">\n",
       "  <thead>\n",
       "    <tr style=\"text-align: right;\">\n",
       "      <th></th>\n",
       "      <th>ENF_TYPE_DESC</th>\n",
       "      <th>PGM_SYS_ID</th>\n",
       "      <th>ACHIEVED_DATE_datetime</th>\n",
       "      <th>ACHIEVED_DATE_year</th>\n",
       "    </tr>\n",
       "  </thead>\n",
       "  <tbody>\n",
       "    <tr>\n",
       "      <th>84</th>\n",
       "      <td>Notice of Violation</td>\n",
       "      <td>AR0000000506900118</td>\n",
       "      <td>2007-08-10 00:00:00</td>\n",
       "      <td>2007</td>\n",
       "    </tr>\n",
       "    <tr>\n",
       "      <th>86</th>\n",
       "      <td>Notice of Violation</td>\n",
       "      <td>TX0000004844900005</td>\n",
       "      <td>2008-02-05 00:00:00</td>\n",
       "      <td>2008</td>\n",
       "    </tr>\n",
       "    <tr>\n",
       "      <th>87</th>\n",
       "      <td>Notice of Violation</td>\n",
       "      <td>LA0000002200500046</td>\n",
       "      <td>2008-06-26 00:00:00</td>\n",
       "      <td>2008</td>\n",
       "    </tr>\n",
       "    <tr>\n",
       "      <th>89</th>\n",
       "      <td>Notice of Violation</td>\n",
       "      <td>0900000006071R9800</td>\n",
       "      <td>2008-03-18 00:00:00</td>\n",
       "      <td>2008</td>\n",
       "    </tr>\n",
       "    <tr>\n",
       "      <th>90</th>\n",
       "      <td>Notice of Violation</td>\n",
       "      <td>0900000006099R9800</td>\n",
       "      <td>2008-03-08 00:00:00</td>\n",
       "      <td>2008</td>\n",
       "    </tr>\n",
       "  </tbody>\n",
       "</table>\n",
       "</div>"
      ],
      "text/plain": [
       "          ENF_TYPE_DESC          PGM_SYS_ID ACHIEVED_DATE_datetime  \\\n",
       "84  Notice of Violation  AR0000000506900118    2007-08-10 00:00:00   \n",
       "86  Notice of Violation  TX0000004844900005    2008-02-05 00:00:00   \n",
       "87  Notice of Violation  LA0000002200500046    2008-06-26 00:00:00   \n",
       "89  Notice of Violation  0900000006071R9800    2008-03-18 00:00:00   \n",
       "90  Notice of Violation  0900000006099R9800    2008-03-08 00:00:00   \n",
       "\n",
       "   ACHIEVED_DATE_year  \n",
       "84               2007  \n",
       "86               2008  \n",
       "87               2008  \n",
       "89               2008  \n",
       "90               2008  "
      ]
     },
     "execution_count": 59,
     "metadata": {},
     "output_type": "execute_result"
    }
   ],
   "source": [
    "filtered_df.head()"
   ]
  },
  {
   "cell_type": "code",
   "execution_count": 60,
   "metadata": {
    "collapsed": false
   },
   "outputs": [
    {
     "data": {
      "text/plain": [
       "(129310, 9)"
      ]
     },
     "execution_count": 60,
     "metadata": {},
     "output_type": "execute_result"
    }
   ],
   "source": [
    "informalact_df.shape"
   ]
  },
  {
   "cell_type": "code",
   "execution_count": 61,
   "metadata": {
    "collapsed": false
   },
   "outputs": [
    {
     "data": {
      "text/plain": [
       "(49726, 4)"
      ]
     },
     "execution_count": 61,
     "metadata": {},
     "output_type": "execute_result"
    }
   ],
   "source": [
    "filtered_df.shape  #80,000 filtered out"
   ]
  },
  {
   "cell_type": "code",
   "execution_count": 62,
   "metadata": {
    "collapsed": true
   },
   "outputs": [],
   "source": [
    "#sum up how many times happened in each year\n",
    "df_counts = processing.add_count_cols(filtered_df, fac_id, date_col+'_year', interest_var, 'informalact')"
   ]
  },
  {
   "cell_type": "code",
   "execution_count": 63,
   "metadata": {
    "collapsed": false
   },
   "outputs": [
    {
     "data": {
      "text/html": [
       "<div>\n",
       "<table border=\"1\" class=\"dataframe\">\n",
       "  <thead>\n",
       "    <tr style=\"text-align: right;\">\n",
       "      <th></th>\n",
       "      <th>2007_informalact_Notice of Violation</th>\n",
       "      <th>2007_informalact_Warning Letter</th>\n",
       "      <th>2008_informalact_Notice of Violation</th>\n",
       "      <th>2008_informalact_Warning Letter</th>\n",
       "      <th>2009_informalact_Notice of Violation</th>\n",
       "      <th>2009_informalact_Warning Letter</th>\n",
       "      <th>2010_informalact_Notice of Violation</th>\n",
       "      <th>2010_informalact_Warning Letter</th>\n",
       "      <th>2011_informalact_Letter to Regulated Entity</th>\n",
       "      <th>2011_informalact_Notice of Violation</th>\n",
       "      <th>...</th>\n",
       "      <th>2015_informalact_Warning Letter</th>\n",
       "      <th>2016_informalact_Letter of Violation/ Warning Letter</th>\n",
       "      <th>2016_informalact_Notice of Violation</th>\n",
       "      <th>2016_informalact_Warning Letter</th>\n",
       "      <th>2017_informalact_Notice of Violation</th>\n",
       "      <th>2017_informalact_Warning Letter</th>\n",
       "      <th>2020_informalact_Notice of Violation</th>\n",
       "      <th>2022_informalact_Notice of Violation</th>\n",
       "      <th>2104_informalact_Notice of Violation</th>\n",
       "      <th>2915_informalact_Warning Letter</th>\n",
       "    </tr>\n",
       "    <tr>\n",
       "      <th>PGM_SYS_ID</th>\n",
       "      <th></th>\n",
       "      <th></th>\n",
       "      <th></th>\n",
       "      <th></th>\n",
       "      <th></th>\n",
       "      <th></th>\n",
       "      <th></th>\n",
       "      <th></th>\n",
       "      <th></th>\n",
       "      <th></th>\n",
       "      <th></th>\n",
       "      <th></th>\n",
       "      <th></th>\n",
       "      <th></th>\n",
       "      <th></th>\n",
       "      <th></th>\n",
       "      <th></th>\n",
       "      <th></th>\n",
       "      <th></th>\n",
       "      <th></th>\n",
       "      <th></th>\n",
       "    </tr>\n",
       "  </thead>\n",
       "  <tbody>\n",
       "    <tr>\n",
       "      <th>020000003402318224</th>\n",
       "      <td>0</td>\n",
       "      <td>0</td>\n",
       "      <td>0</td>\n",
       "      <td>0</td>\n",
       "      <td>0</td>\n",
       "      <td>0</td>\n",
       "      <td>0</td>\n",
       "      <td>0</td>\n",
       "      <td>0</td>\n",
       "      <td>1</td>\n",
       "      <td>...</td>\n",
       "      <td>0</td>\n",
       "      <td>0</td>\n",
       "      <td>0</td>\n",
       "      <td>0</td>\n",
       "      <td>0</td>\n",
       "      <td>0</td>\n",
       "      <td>0</td>\n",
       "      <td>0</td>\n",
       "      <td>0</td>\n",
       "      <td>0</td>\n",
       "    </tr>\n",
       "    <tr>\n",
       "      <th>020000003402318231</th>\n",
       "      <td>0</td>\n",
       "      <td>0</td>\n",
       "      <td>0</td>\n",
       "      <td>0</td>\n",
       "      <td>0</td>\n",
       "      <td>0</td>\n",
       "      <td>0</td>\n",
       "      <td>0</td>\n",
       "      <td>0</td>\n",
       "      <td>1</td>\n",
       "      <td>...</td>\n",
       "      <td>0</td>\n",
       "      <td>0</td>\n",
       "      <td>0</td>\n",
       "      <td>0</td>\n",
       "      <td>0</td>\n",
       "      <td>0</td>\n",
       "      <td>0</td>\n",
       "      <td>0</td>\n",
       "      <td>0</td>\n",
       "      <td>0</td>\n",
       "    </tr>\n",
       "    <tr>\n",
       "      <th>020000003402700170</th>\n",
       "      <td>0</td>\n",
       "      <td>0</td>\n",
       "      <td>0</td>\n",
       "      <td>0</td>\n",
       "      <td>0</td>\n",
       "      <td>0</td>\n",
       "      <td>0</td>\n",
       "      <td>0</td>\n",
       "      <td>0</td>\n",
       "      <td>0</td>\n",
       "      <td>...</td>\n",
       "      <td>0</td>\n",
       "      <td>0</td>\n",
       "      <td>0</td>\n",
       "      <td>0</td>\n",
       "      <td>1</td>\n",
       "      <td>0</td>\n",
       "      <td>0</td>\n",
       "      <td>0</td>\n",
       "      <td>0</td>\n",
       "      <td>0</td>\n",
       "    </tr>\n",
       "    <tr>\n",
       "      <th>0200000036103LIERE</th>\n",
       "      <td>0</td>\n",
       "      <td>0</td>\n",
       "      <td>0</td>\n",
       "      <td>0</td>\n",
       "      <td>0</td>\n",
       "      <td>0</td>\n",
       "      <td>0</td>\n",
       "      <td>0</td>\n",
       "      <td>0</td>\n",
       "      <td>0</td>\n",
       "      <td>...</td>\n",
       "      <td>0</td>\n",
       "      <td>0</td>\n",
       "      <td>0</td>\n",
       "      <td>0</td>\n",
       "      <td>0</td>\n",
       "      <td>0</td>\n",
       "      <td>0</td>\n",
       "      <td>0</td>\n",
       "      <td>0</td>\n",
       "      <td>0</td>\n",
       "    </tr>\n",
       "    <tr>\n",
       "      <th>0500000017163U0011</th>\n",
       "      <td>0</td>\n",
       "      <td>0</td>\n",
       "      <td>0</td>\n",
       "      <td>0</td>\n",
       "      <td>0</td>\n",
       "      <td>0</td>\n",
       "      <td>0</td>\n",
       "      <td>0</td>\n",
       "      <td>0</td>\n",
       "      <td>0</td>\n",
       "      <td>...</td>\n",
       "      <td>0</td>\n",
       "      <td>0</td>\n",
       "      <td>0</td>\n",
       "      <td>0</td>\n",
       "      <td>0</td>\n",
       "      <td>0</td>\n",
       "      <td>0</td>\n",
       "      <td>0</td>\n",
       "      <td>0</td>\n",
       "      <td>0</td>\n",
       "    </tr>\n",
       "  </tbody>\n",
       "</table>\n",
       "<p>5 rows × 33 columns</p>\n",
       "</div>"
      ],
      "text/plain": [
       "                    2007_informalact_Notice of Violation  \\\n",
       "PGM_SYS_ID                                                 \n",
       "020000003402318224                                     0   \n",
       "020000003402318231                                     0   \n",
       "020000003402700170                                     0   \n",
       "0200000036103LIERE                                     0   \n",
       "0500000017163U0011                                     0   \n",
       "\n",
       "                    2007_informalact_Warning Letter  \\\n",
       "PGM_SYS_ID                                            \n",
       "020000003402318224                                0   \n",
       "020000003402318231                                0   \n",
       "020000003402700170                                0   \n",
       "0200000036103LIERE                                0   \n",
       "0500000017163U0011                                0   \n",
       "\n",
       "                    2008_informalact_Notice of Violation  \\\n",
       "PGM_SYS_ID                                                 \n",
       "020000003402318224                                     0   \n",
       "020000003402318231                                     0   \n",
       "020000003402700170                                     0   \n",
       "0200000036103LIERE                                     0   \n",
       "0500000017163U0011                                     0   \n",
       "\n",
       "                    2008_informalact_Warning Letter  \\\n",
       "PGM_SYS_ID                                            \n",
       "020000003402318224                                0   \n",
       "020000003402318231                                0   \n",
       "020000003402700170                                0   \n",
       "0200000036103LIERE                                0   \n",
       "0500000017163U0011                                0   \n",
       "\n",
       "                    2009_informalact_Notice of Violation  \\\n",
       "PGM_SYS_ID                                                 \n",
       "020000003402318224                                     0   \n",
       "020000003402318231                                     0   \n",
       "020000003402700170                                     0   \n",
       "0200000036103LIERE                                     0   \n",
       "0500000017163U0011                                     0   \n",
       "\n",
       "                    2009_informalact_Warning Letter  \\\n",
       "PGM_SYS_ID                                            \n",
       "020000003402318224                                0   \n",
       "020000003402318231                                0   \n",
       "020000003402700170                                0   \n",
       "0200000036103LIERE                                0   \n",
       "0500000017163U0011                                0   \n",
       "\n",
       "                    2010_informalact_Notice of Violation  \\\n",
       "PGM_SYS_ID                                                 \n",
       "020000003402318224                                     0   \n",
       "020000003402318231                                     0   \n",
       "020000003402700170                                     0   \n",
       "0200000036103LIERE                                     0   \n",
       "0500000017163U0011                                     0   \n",
       "\n",
       "                    2010_informalact_Warning Letter  \\\n",
       "PGM_SYS_ID                                            \n",
       "020000003402318224                                0   \n",
       "020000003402318231                                0   \n",
       "020000003402700170                                0   \n",
       "0200000036103LIERE                                0   \n",
       "0500000017163U0011                                0   \n",
       "\n",
       "                    2011_informalact_Letter to Regulated Entity  \\\n",
       "PGM_SYS_ID                                                        \n",
       "020000003402318224                                            0   \n",
       "020000003402318231                                            0   \n",
       "020000003402700170                                            0   \n",
       "0200000036103LIERE                                            0   \n",
       "0500000017163U0011                                            0   \n",
       "\n",
       "                    2011_informalact_Notice of Violation  \\\n",
       "PGM_SYS_ID                                                 \n",
       "020000003402318224                                     1   \n",
       "020000003402318231                                     1   \n",
       "020000003402700170                                     0   \n",
       "0200000036103LIERE                                     0   \n",
       "0500000017163U0011                                     0   \n",
       "\n",
       "                                 ...                 \\\n",
       "PGM_SYS_ID                       ...                  \n",
       "020000003402318224               ...                  \n",
       "020000003402318231               ...                  \n",
       "020000003402700170               ...                  \n",
       "0200000036103LIERE               ...                  \n",
       "0500000017163U0011               ...                  \n",
       "\n",
       "                    2015_informalact_Warning Letter  \\\n",
       "PGM_SYS_ID                                            \n",
       "020000003402318224                                0   \n",
       "020000003402318231                                0   \n",
       "020000003402700170                                0   \n",
       "0200000036103LIERE                                0   \n",
       "0500000017163U0011                                0   \n",
       "\n",
       "                    2016_informalact_Letter of Violation/ Warning Letter  \\\n",
       "PGM_SYS_ID                                                                 \n",
       "020000003402318224                                                  0      \n",
       "020000003402318231                                                  0      \n",
       "020000003402700170                                                  0      \n",
       "0200000036103LIERE                                                  0      \n",
       "0500000017163U0011                                                  0      \n",
       "\n",
       "                    2016_informalact_Notice of Violation  \\\n",
       "PGM_SYS_ID                                                 \n",
       "020000003402318224                                     0   \n",
       "020000003402318231                                     0   \n",
       "020000003402700170                                     0   \n",
       "0200000036103LIERE                                     0   \n",
       "0500000017163U0011                                     0   \n",
       "\n",
       "                    2016_informalact_Warning Letter  \\\n",
       "PGM_SYS_ID                                            \n",
       "020000003402318224                                0   \n",
       "020000003402318231                                0   \n",
       "020000003402700170                                0   \n",
       "0200000036103LIERE                                0   \n",
       "0500000017163U0011                                0   \n",
       "\n",
       "                    2017_informalact_Notice of Violation  \\\n",
       "PGM_SYS_ID                                                 \n",
       "020000003402318224                                     0   \n",
       "020000003402318231                                     0   \n",
       "020000003402700170                                     1   \n",
       "0200000036103LIERE                                     0   \n",
       "0500000017163U0011                                     0   \n",
       "\n",
       "                    2017_informalact_Warning Letter  \\\n",
       "PGM_SYS_ID                                            \n",
       "020000003402318224                                0   \n",
       "020000003402318231                                0   \n",
       "020000003402700170                                0   \n",
       "0200000036103LIERE                                0   \n",
       "0500000017163U0011                                0   \n",
       "\n",
       "                    2020_informalact_Notice of Violation  \\\n",
       "PGM_SYS_ID                                                 \n",
       "020000003402318224                                     0   \n",
       "020000003402318231                                     0   \n",
       "020000003402700170                                     0   \n",
       "0200000036103LIERE                                     0   \n",
       "0500000017163U0011                                     0   \n",
       "\n",
       "                    2022_informalact_Notice of Violation  \\\n",
       "PGM_SYS_ID                                                 \n",
       "020000003402318224                                     0   \n",
       "020000003402318231                                     0   \n",
       "020000003402700170                                     0   \n",
       "0200000036103LIERE                                     0   \n",
       "0500000017163U0011                                     0   \n",
       "\n",
       "                    2104_informalact_Notice of Violation  \\\n",
       "PGM_SYS_ID                                                 \n",
       "020000003402318224                                     0   \n",
       "020000003402318231                                     0   \n",
       "020000003402700170                                     0   \n",
       "0200000036103LIERE                                     0   \n",
       "0500000017163U0011                                     0   \n",
       "\n",
       "                    2915_informalact_Warning Letter  \n",
       "PGM_SYS_ID                                           \n",
       "020000003402318224                                0  \n",
       "020000003402318231                                0  \n",
       "020000003402700170                                0  \n",
       "0200000036103LIERE                                0  \n",
       "0500000017163U0011                                0  \n",
       "\n",
       "[5 rows x 33 columns]"
      ]
     },
     "execution_count": 63,
     "metadata": {},
     "output_type": "execute_result"
    }
   ],
   "source": [
    "df_counts.head()"
   ]
  },
  {
   "cell_type": "code",
   "execution_count": 64,
   "metadata": {
    "collapsed": true
   },
   "outputs": [],
   "source": [
    "# Print to file\n",
    "df_counts.to_csv('air_informalact_for_sql.csv')"
   ]
  },
  {
   "cell_type": "code",
   "execution_count": 65,
   "metadata": {
    "collapsed": false
   },
   "outputs": [
    {
     "data": {
      "text/plain": [
       "Index(['2007_informalact_Notice of Violation',\n",
       "       '2007_informalact_Warning Letter',\n",
       "       '2008_informalact_Notice of Violation',\n",
       "       '2008_informalact_Warning Letter',\n",
       "       '2009_informalact_Notice of Violation',\n",
       "       '2009_informalact_Warning Letter',\n",
       "       '2010_informalact_Notice of Violation',\n",
       "       '2010_informalact_Warning Letter',\n",
       "       '2011_informalact_Letter to Regulated Entity',\n",
       "       '2011_informalact_Notice of Violation',\n",
       "       '2011_informalact_Warning Letter',\n",
       "       '2012_informalact_Information Request Letter',\n",
       "       '2012_informalact_Notice of Violation',\n",
       "       '2012_informalact_Warning Letter',\n",
       "       '2013_informalact_Information Request Letter',\n",
       "       '2013_informalact_Notice of Violation',\n",
       "       '2013_informalact_Warning Letter',\n",
       "       '2014_informalact_Notice of Violation',\n",
       "       '2014_informalact_Warning Letter',\n",
       "       '2015_informalact_Letter of Violation/ Warning Letter',\n",
       "       '2015_informalact_Notice of Noncompliance Issued',\n",
       "       '2015_informalact_Notice of Violation',\n",
       "       '2015_informalact_Show Cause Letter', '2015_informalact_Warning Letter',\n",
       "       '2016_informalact_Letter of Violation/ Warning Letter',\n",
       "       '2016_informalact_Notice of Violation',\n",
       "       '2016_informalact_Warning Letter',\n",
       "       '2017_informalact_Notice of Violation',\n",
       "       '2017_informalact_Warning Letter',\n",
       "       '2020_informalact_Notice of Violation',\n",
       "       '2022_informalact_Notice of Violation',\n",
       "       '2104_informalact_Notice of Violation',\n",
       "       '2915_informalact_Warning Letter'],\n",
       "      dtype='object')"
      ]
     },
     "execution_count": 65,
     "metadata": {},
     "output_type": "execute_result"
    }
   ],
   "source": [
    "df_counts.columns"
   ]
  },
  {
   "cell_type": "code",
   "execution_count": null,
   "metadata": {
    "collapsed": true
   },
   "outputs": [],
   "source": []
  },
  {
   "cell_type": "code",
   "execution_count": null,
   "metadata": {
    "collapsed": true
   },
   "outputs": [],
   "source": []
  },
  {
   "cell_type": "code",
   "execution_count": 18,
   "metadata": {
    "collapsed": true
   },
   "outputs": [],
   "source": [
    "def print_null_freq(df):\n",
    "    \"\"\"\n",
    "    DataGotham2013 (GitID) function to check nulls per column\n",
    "    for a given DataFrame, calculates how many values for each variable is null\n",
    "    and prints the resulting table to stdout\n",
    "    \"\"\"\n",
    "    df_lng = pd.melt(df)\n",
    "    null_variables = df_lng.value.isnull()\n",
    "    print (pd.crosstab(df_lng.variable, null_variables))"
   ]
  }
 ],
 "metadata": {
  "kernelspec": {
   "display_name": "Python 3",
   "language": "python",
   "name": "python3"
  },
  "language_info": {
   "codemirror_mode": {
    "name": "ipython",
    "version": 3
   },
   "file_extension": ".py",
   "mimetype": "text/x-python",
   "name": "python",
   "nbconvert_exporter": "python",
   "pygments_lexer": "ipython3",
   "version": "3.6.0"
  }
 },
 "nbformat": 4,
 "nbformat_minor": 2
}
