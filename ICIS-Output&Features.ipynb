{
 "cells": [
  {
   "cell_type": "code",
   "execution_count": 412,
   "metadata": {
    "collapsed": false,
    "deletable": true,
    "editable": true
   },
   "outputs": [],
   "source": [
    "import pandas as pd\n",
    "%matplotlib inline\n",
    "%run Pipeline//upload_and_vizualize \n",
    "%run Pipeline//classify_and_evaluate \n",
    "%run Pipeline//aux\n",
    "%run Pipeline//ULAB_ML_Pipeline\n",
    "%run Pipeline//processing\n",
    "%run Pipeline//cleaning\n",
    "%run processing\n",
    "import numpy as np \n",
    "import matplotlib.pyplot as plt\n",
    "import pylab\n",
    "import sys\n",
    "import random\n",
    "import sklearn as sk \n",
    "import json \n",
    "import re\n",
    "from multiprocessing import Pool\n",
    "from functools import partial\n",
    "from time import time\n",
    "from sklearn import svm, ensemble\n",
    "from sklearn.ensemble import RandomForestClassifier, ExtraTreesClassifier\n",
    "from sklearn.ensemble import GradientBoostingClassifier, AdaBoostClassifier\n",
    "from sklearn.linear_model import LogisticRegression, Perceptron, SGDClassifier\n",
    "from sklearn.linear_model import OrthogonalMatchingPursuit, RandomizedLogisticRegression\n",
    "from sklearn.neighbors.nearest_centroid import NearestCentroid\n",
    "from sklearn.naive_bayes import GaussianNB, MultinomialNB, BernoulliNB\n",
    "from sklearn.tree import DecisionTreeClassifier\n",
    "from sklearn.neighbors import KNeighborsClassifier, KNeighborsRegressor\n",
    "from sklearn.cross_validation import train_test_split, KFold\n",
    "from sklearn.preprocessing import *\n",
    "from sklearn.feature_selection import RFE\n",
    "from sklearn.grid_search import ParameterGrid\n",
    "from sklearn.svm import LinearSVC\n",
    "from sklearn.metrics import *\n",
    "import csv\n",
    "from errno import EEXIST\n",
    "from os import makedirs,path\n",
    "from datetime import datetime as dr\n",
    "from datetime import date\n",
    "import numpy as np\n",
    "import matplotlib\n",
    "matplotlib.style.use('ggplot')\n",
    "import pylab as pl\n",
    "from upload_and_vizualize import camel_to_snake\n",
    "from datetime import datetime as dt\n",
    "from datetime import date"
   ]
  },
  {
   "cell_type": "code",
   "execution_count": 416,
   "metadata": {
    "collapsed": false
   },
   "outputs": [
    {
     "data": {
      "text/plain": [
       "\"\\ndate_types = ['year']\\ndate_format = df_dict['violation']['date_format']\\ndate_col = [df_dict['violation']['date_col']]\\n#print(date_format,date_col)\\nget_occupied_frame(violation,date_col,date_format,date_types)\\n\\ndate_col = [df_dict['inspection']['date_col']]\\nget_occupied_frame(inspection,date_col,date_format,date_types)\\n\\nfce = inspection[['PGM_SYS_ID','STATE_EPA_FLAG','COMP_MONITOR_TYPE_CODE','PROGRAM_CODES','ACTUAL_END_DATE','ACTUAL_END_DATE_year','ACTUAL_END_DATE_datetime']]\\nviolation = violation[['PGM_SYS_ID','AGENCY_TYPE_DESC','AIR_LCON_CODE','ENF_RESPONSE_POLICY_CODE','POLLUTANT_CODES','PROGRAM_CODES','HPV_DAYZERO_DATE','HPV_DAYZERO_DATE_year','HPV_DAYZERO_DATE_datetime']]\\nviolation = violation[violation.ENF_RESPONSE_POLICY_CODE == 'HPV']\\n\""
      ]
     },
     "execution_count": 416,
     "metadata": {},
     "output_type": "execute_result"
    }
   ],
   "source": [
    "'''\n",
    "date_types = ['year']\n",
    "date_format = df_dict['violation']['date_format']\n",
    "date_col = [df_dict['violation']['date_col']]\n",
    "#print(date_format,date_col)\n",
    "get_occupied_frame(violation,date_col,date_format,date_types)\n",
    "\n",
    "date_col = [df_dict['inspection']['date_col']]\n",
    "get_occupied_frame(inspection,date_col,date_format,date_types)\n",
    "\n",
    "fce = inspection[['PGM_SYS_ID','STATE_EPA_FLAG','COMP_MONITOR_TYPE_CODE','PROGRAM_CODES','ACTUAL_END_DATE','ACTUAL_END_DATE_year','ACTUAL_END_DATE_datetime']]\n",
    "violation = violation[['PGM_SYS_ID','AGENCY_TYPE_DESC','AIR_LCON_CODE','ENF_RESPONSE_POLICY_CODE','POLLUTANT_CODES','PROGRAM_CODES','HPV_DAYZERO_DATE','HPV_DAYZERO_DATE_year','HPV_DAYZERO_DATE_datetime']]\n",
    "violation = violation[violation.ENF_RESPONSE_POLICY_CODE == 'HPV']\n",
    "'''"
   ]
  },
  {
   "cell_type": "code",
   "execution_count": 419,
   "metadata": {
    "collapsed": false
   },
   "outputs": [
    {
     "data": {
      "text/html": [
       "<div>\n",
       "<table border=\"1\" class=\"dataframe\">\n",
       "  <thead>\n",
       "    <tr style=\"text-align: right;\">\n",
       "      <th></th>\n",
       "      <th>PGM_SYS_ID</th>\n",
       "      <th>ACTIVITY_ID</th>\n",
       "      <th>STATE_EPA_FLAG</th>\n",
       "      <th>ACTIVITY_TYPE_CODE</th>\n",
       "      <th>ACTIVITY_TYPE_DESC</th>\n",
       "      <th>COMP_MONITOR_TYPE_CODE</th>\n",
       "      <th>COMP_MONITOR_TYPE_DESC</th>\n",
       "      <th>ACTUAL_END_DATE</th>\n",
       "      <th>PROGRAM_CODES</th>\n",
       "    </tr>\n",
       "  </thead>\n",
       "  <tbody>\n",
       "    <tr>\n",
       "      <th>0</th>\n",
       "      <td>MI00000000000A1932</td>\n",
       "      <td>3600154506</td>\n",
       "      <td>E</td>\n",
       "      <td>INS</td>\n",
       "      <td>Inspection/Evaluation</td>\n",
       "      <td>PCE</td>\n",
       "      <td>PCE On-Site</td>\n",
       "      <td>06-09-2015</td>\n",
       "      <td>CAAFESOP, CAASIP</td>\n",
       "    </tr>\n",
       "    <tr>\n",
       "      <th>1</th>\n",
       "      <td>CASJV00006029S2076</td>\n",
       "      <td>3600154515</td>\n",
       "      <td>L</td>\n",
       "      <td>INS</td>\n",
       "      <td>Inspection/Evaluation</td>\n",
       "      <td>FOO</td>\n",
       "      <td>FCE On-Site</td>\n",
       "      <td>06-10-2015</td>\n",
       "      <td>CAATVP</td>\n",
       "    </tr>\n",
       "    <tr>\n",
       "      <th>2</th>\n",
       "      <td>CASJV00006039C2587</td>\n",
       "      <td>3600154514</td>\n",
       "      <td>L</td>\n",
       "      <td>INS</td>\n",
       "      <td>Inspection/Evaluation</td>\n",
       "      <td>FOO</td>\n",
       "      <td>FCE On-Site</td>\n",
       "      <td>06-08-2015</td>\n",
       "      <td>CAASIP</td>\n",
       "    </tr>\n",
       "    <tr>\n",
       "      <th>3</th>\n",
       "      <td>CASJV00006029S1234</td>\n",
       "      <td>3600154512</td>\n",
       "      <td>L</td>\n",
       "      <td>INS</td>\n",
       "      <td>Inspection/Evaluation</td>\n",
       "      <td>FOO</td>\n",
       "      <td>FCE On-Site</td>\n",
       "      <td>06-10-2015</td>\n",
       "      <td>CAATVP</td>\n",
       "    </tr>\n",
       "    <tr>\n",
       "      <th>4</th>\n",
       "      <td>CASJV00006099N7478</td>\n",
       "      <td>3600154520</td>\n",
       "      <td>L</td>\n",
       "      <td>INS</td>\n",
       "      <td>Inspection/Evaluation</td>\n",
       "      <td>FOO</td>\n",
       "      <td>FCE On-Site</td>\n",
       "      <td>06-11-2015</td>\n",
       "      <td>CAATVP</td>\n",
       "    </tr>\n",
       "  </tbody>\n",
       "</table>\n",
       "</div>"
      ],
      "text/plain": [
       "           PGM_SYS_ID  ACTIVITY_ID STATE_EPA_FLAG ACTIVITY_TYPE_CODE  \\\n",
       "0  MI00000000000A1932   3600154506              E                INS   \n",
       "1  CASJV00006029S2076   3600154515              L                INS   \n",
       "2  CASJV00006039C2587   3600154514              L                INS   \n",
       "3  CASJV00006029S1234   3600154512              L                INS   \n",
       "4  CASJV00006099N7478   3600154520              L                INS   \n",
       "\n",
       "      ACTIVITY_TYPE_DESC COMP_MONITOR_TYPE_CODE COMP_MONITOR_TYPE_DESC  \\\n",
       "0  Inspection/Evaluation                    PCE            PCE On-Site   \n",
       "1  Inspection/Evaluation                    FOO            FCE On-Site   \n",
       "2  Inspection/Evaluation                    FOO            FCE On-Site   \n",
       "3  Inspection/Evaluation                    FOO            FCE On-Site   \n",
       "4  Inspection/Evaluation                    FOO            FCE On-Site   \n",
       "\n",
       "  ACTUAL_END_DATE     PROGRAM_CODES  \n",
       "0      06-09-2015  CAAFESOP, CAASIP  \n",
       "1      06-10-2015            CAATVP  \n",
       "2      06-08-2015            CAASIP  \n",
       "3      06-10-2015            CAATVP  \n",
       "4      06-11-2015            CAATVP  "
      ]
     },
     "execution_count": 419,
     "metadata": {},
     "output_type": "execute_result"
    }
   ],
   "source": [
    "inspection.head()"
   ]
  },
  {
   "cell_type": "code",
   "execution_count": 366,
   "metadata": {
    "collapsed": true
   },
   "outputs": [],
   "source": [
    "#### FAILED LABEL #####"
   ]
  },
  {
   "cell_type": "code",
   "execution_count": 429,
   "metadata": {
    "collapsed": false
   },
   "outputs": [],
   "source": [
    "def change_to_zero(series_row):\n",
    "    if type(series_row) != str:\n",
    "        return 0\n",
    "    else:\n",
    "        return 1\n",
    "\n",
    "def change_to_zero_float(series_row):\n",
    "    if series_row >= 1:\n",
    "        return 1\n",
    "    else:\n",
    "        return 0\n",
    "    \n",
    "def generate_label(start_year, end_year):\n",
    "    \n",
    "    violhist = read_file('data/ICIS-AIR_downloads/ICIS-AIR_VIOLATION_HISTORY.csv')\n",
    "    fce = read_file('data/ICIS-AIR_downloads/ICIS-AIR_FCES_PCES.csv')\n",
    "\n",
    "    \n",
    "    date_types = ['year']\n",
    "    date_format = df_dict['violation']['date_format']\n",
    "    date_col = [df_dict['violation']['date_col']]\n",
    "    #print(date_format,date_col)\n",
    "    get_occupied_frame(violhist,date_col,date_format,date_types)\n",
    "\n",
    "    date_col = [df_dict['inspection']['date_col']]\n",
    "    get_occupied_frame(fce,date_col,date_format,date_types)\n",
    "\n",
    "    fce = inspection[['PGM_SYS_ID','STATE_EPA_FLAG','COMP_MONITOR_TYPE_CODE','PROGRAM_CODES','ACTUAL_END_DATE','ACTUAL_END_DATE_year','ACTUAL_END_DATE_datetime']]\n",
    "    violhist = violhist[['PGM_SYS_ID','AGENCY_TYPE_DESC','AIR_LCON_CODE','ENF_RESPONSE_POLICY_CODE','POLLUTANT_CODES','PROGRAM_CODES','HPV_DAYZERO_DATE','HPV_DAYZERO_DATE_year','HPV_DAYZERO_DATE_datetime']]\n",
    "    violhist = violhist[violhist.ENF_RESPONSE_POLICY_CODE == 'HPV']\n",
    "    #removing FRVs\n",
    "    #violhist = violhist[violhist.ENF_RESPONSE_POLICY_CODE != 'FRV']\n",
    "    violhist = violhist[violhist['HPV_DAYZERO_DATE_year'] >= start_year]\n",
    "    violhist = violhist[violhist['HPV_DAYZERO_DATE_year'] <= end_year]\n",
    "    \n",
    "    #for fce\n",
    "    fce = fce[fce['ACTUAL_END_DATE_year'] >= start_year]\n",
    "    fce = fce[fce['ACTUAL_END_DATE_year'] <= end_year]\n",
    "    \n",
    "    merged_hpv_fce = pd.merge(violhist, fce, how='right', left_on=['PGM_SYS_ID', 'HPV_DAYZERO_DATE'], right_on=['PGM_SYS_ID','ACTUAL_END_DATE'])\n",
    "    \n",
    "    merged_hpv_fce['Outcome'] = merged_hpv_fce.ENF_RESPONSE_POLICY_CODE.apply(change_to_zero)\n",
    "    #finding 0's\n",
    "    \n",
    "    output = merged_hpv_fce.groupby(['PGM_SYS_ID', 'ACTUAL_END_DATE_year']).sum().reset_index()\n",
    "    \n",
    "    output.Outcome = output.Outcome.apply(change_to_zero_float)\n",
    "    \n",
    "    return output, merged_hpv_fce"
   ]
  },
  {
   "cell_type": "code",
   "execution_count": 430,
   "metadata": {
    "collapsed": false
   },
   "outputs": [],
   "source": [
    "start_date = '2007'\n",
    "end_date = '2016'\n",
    "out, merged = generate_label(start_date, end_date)"
   ]
  },
  {
   "cell_type": "code",
   "execution_count": 431,
   "metadata": {
    "collapsed": false
   },
   "outputs": [
    {
     "data": {
      "text/html": [
       "<div>\n",
       "<table border=\"1\" class=\"dataframe\">\n",
       "  <thead>\n",
       "    <tr style=\"text-align: right;\">\n",
       "      <th></th>\n",
       "      <th>PGM_SYS_ID</th>\n",
       "      <th>ACTUAL_END_DATE_year</th>\n",
       "      <th>Outcome</th>\n",
       "    </tr>\n",
       "  </thead>\n",
       "  <tbody>\n",
       "    <tr>\n",
       "      <th>0</th>\n",
       "      <td>020000000003605590</td>\n",
       "      <td>2015</td>\n",
       "      <td>0</td>\n",
       "    </tr>\n",
       "    <tr>\n",
       "      <th>1</th>\n",
       "      <td>020000003400500100</td>\n",
       "      <td>2014</td>\n",
       "      <td>0</td>\n",
       "    </tr>\n",
       "    <tr>\n",
       "      <th>2</th>\n",
       "      <td>020000003400546143</td>\n",
       "      <td>2010</td>\n",
       "      <td>0</td>\n",
       "    </tr>\n",
       "    <tr>\n",
       "      <th>3</th>\n",
       "      <td>020000003400710001</td>\n",
       "      <td>2015</td>\n",
       "      <td>0</td>\n",
       "    </tr>\n",
       "    <tr>\n",
       "      <th>4</th>\n",
       "      <td>020000003400900010</td>\n",
       "      <td>2013</td>\n",
       "      <td>0</td>\n",
       "    </tr>\n",
       "  </tbody>\n",
       "</table>\n",
       "</div>"
      ],
      "text/plain": [
       "           PGM_SYS_ID ACTUAL_END_DATE_year  Outcome\n",
       "0  020000000003605590                 2015        0\n",
       "1  020000003400500100                 2014        0\n",
       "2  020000003400546143                 2010        0\n",
       "3  020000003400710001                 2015        0\n",
       "4  020000003400900010                 2013        0"
      ]
     },
     "execution_count": 431,
     "metadata": {},
     "output_type": "execute_result"
    }
   ],
   "source": [
    "out.head()"
   ]
  },
  {
   "cell_type": "code",
   "execution_count": 432,
   "metadata": {
    "collapsed": false
   },
   "outputs": [
    {
     "data": {
      "text/plain": [
       "0    338010\n",
       "1      1984\n",
       "Name: Outcome, dtype: int64"
      ]
     },
     "execution_count": 432,
     "metadata": {},
     "output_type": "execute_result"
    }
   ],
   "source": [
    "out.Outcome.value_counts()"
   ]
  },
  {
   "cell_type": "code",
   "execution_count": 400,
   "metadata": {
    "collapsed": false
   },
   "outputs": [
    {
     "data": {
      "text/plain": [
       "0    683079\n",
       "1      4784\n",
       "Name: Outcome, dtype: int64"
      ]
     },
     "execution_count": 400,
     "metadata": {},
     "output_type": "execute_result"
    }
   ],
   "source": [
    "merged.Outcome.value_counts()"
   ]
  },
  {
   "cell_type": "code",
   "execution_count": 414,
   "metadata": {
    "collapsed": true,
    "deletable": true,
    "editable": true
   },
   "outputs": [],
   "source": [
    "## CONFIG DATA ##\n",
    "START_DATE= '2007/01/01'\n",
    "END_DATE = '2016/12/31'\n",
    "fac_id = 'PGM_SYS_ID'\n",
    "df_dict ={'violation': {#'data_file': 'data/ICIS-AIR_downloads/ICIS-AIR_VIOLATION_HISTORY.csv',\n",
    "                        'interest_var': ['AGENCY_TYPE_DESC','AIR_LCON_CODE','ENF_RESPONSE_POLICY_CODE','POLLUTANT_CODES','PROGRAM_CODES','HPV_RESOLVED_DATE'],\n",
    "                         'date_col': 'HPV_DAYZERO_DATE',\n",
    "                       'date_format':'%m-%d-%Y'},\n",
    "          \n",
    "           'inspection': {'interest_var': ['STATE_EPA_FLAG','COMP_MONITOR_TYPE_CODE','PROGRAM_CODES'],\n",
    "                         'date_col': 'ACTUAL_END_DATE',\n",
    "                         'date_format':'%m-%d-%Y'},\n",
    "          \n",
    "           'stacktest': {'interest_var':['COMP_MONITOR_TYPE_CODE','POLLUTANT_CODES','AIR_STACK_TEST_STATUS_CODE'],\n",
    "                        'date_col': 'ACTUAL_END_DATE',\n",
    "                        'date_format':'%m/%d/%Y'},\n",
    "          \n",
    "           'titlev':{'interest_var':['COMP_MONITOR_TYPE_CODE','FACILITY_RPT_DEVIATION_FLAG'],\n",
    "                        'date_col': 'ACTUAL_END_DATE',\n",
    "                    'date_format':'%m/%d/%Y'},\n",
    "          \n",
    "           'formalact':{'interest_var':['ENF_TYPE_CODE','PENALTY_AMOUNT'],\n",
    "                        'date_col': 'SETTLEMENT_ENTERED_DATE',\n",
    "                       'date_format':'%m/%d/%Y'},\n",
    "          \n",
    "           'informalact':{'interest_var':['ENF_TYPE_CODE'],\n",
    "                        'date_col': 'ACHIEVED_DATE',\n",
    "                         'date_format':'%m/%d/%Y'}}\n",
    "\n",
    "#general_df = pd.DataFrame()"
   ]
  },
  {
   "cell_type": "code",
   "execution_count": 406,
   "metadata": {
    "collapsed": true
   },
   "outputs": [],
   "source": [
    "def generate_features(start_date, end_date):\n",
    "    #violation, inspection, titlev, stacktest, formalact, informalact = general_read_file(df_dict, START_DATE, END_DATE)\n",
    "    \n",
    "    violation_df = process_violation(violation, start_date, end_date)\n",
    "    inspection_df = process_titlev(titlev, start_date, end_date)\n",
    "    stacktest_df = process_stacktest(stacktest, start_date, end_date)\n",
    "    formalact_df = process_formalact(formalact, start_date, end_date)\n",
    "    informalact_df = process_informalact(informalact, start_date, end_date)\n",
    "    noninspectHPV_df = process_noninspectHPV(violation, inspection, start_date, end_date)\n",
    "    \n",
    "    final_df = pd.merge(inspection_df, violation_df, how = 'left', right_on = [\"id_+_date\"], left_on = [\"id_+_date\"])\n",
    "    final_df = pd.merge(final_df, stacktest_df, how = 'left', right_on = [\"id_+_date\"], left_on = [\"id_+_date\"])\n",
    "    final_df = pd.merge(final_df, formalact_df, how = 'left', right_on = [\"id_+_date\"], left_on = [\"id_+_date\"])\n",
    "    final_df = pd.merge(final_df, informalact_df, how = 'left', right_on = [\"id_+_date\"], left_on = [\"id_+_date\"])\n",
    "    final_df = pd.merge(final_df, noninspectHPV_df, how = 'left', right_on = [\"id_+_date\"], left_on = [\"id_+_date\"])\n",
    "\n",
    "    re_separate = r'(.[^_]*)_(.*)'\n",
    "    sep = lambda x: pd.Series([i for i in re.split(re_separate,x)])\n",
    "    final_id_year = final_df['id_+_date'].apply(sep)\n",
    "    final_df =pd.concat([final_id_year.rename(columns={1:'PGM_SYS_ID',2:'HPV_DAYZERO_DATE_year'}), final_df], axis=1)\n",
    "    final_df.drop([0, 3, 'id_+_date'], axis = 1, inplace = True)\n",
    "\n",
    "    return final_df"
   ]
  },
  {
   "cell_type": "code",
   "execution_count": 173,
   "metadata": {
    "collapsed": false
   },
   "outputs": [],
   "source": [
    "## READ INITIAL FILTERED FILE ##\n",
    "violation, inspection, titlev, stacktest, formalact, informalact = general_read_file(df_dict, START_DATE, END_DATE)"
   ]
  },
  {
   "cell_type": "code",
   "execution_count": 413,
   "metadata": {
    "collapsed": false,
    "deletable": true,
    "editable": true
   },
   "outputs": [],
   "source": [
    "FACILITY = 'data/ICIS-AIR_downloads/ICIS-AIR_FACILITIES.csv'\n",
    "VIOLATION = 'data/ICIS-AIR_downloads/ICIS-AIR_VIOLATION_HISTORY.csv'\n",
    "INSPECTION = 'data/ICIS-AIR_downloads/ICIS-AIR_FCES_PCES.csv'\n",
    "FORMALACT = 'data/ICIS-AIR_downloads/ICIS-AIR_FORMAL_ACTIONS.csv'\n",
    "INFORMALACT = 'data/ICIS-AIR_downloads/ICIS-AIR_INFORMAL_ACTIONS.csv'\n",
    "STACKTEST = 'data/ICIS-AIR_downloads/ICIS-AIR_STACK_TESTS.csv'\n",
    "TITLEV = 'data/ICIS-AIR_downloads/ICIS-AIR_TITLEV_CERTS.csv'\n",
    "\n",
    "#facilities = read_file('ICIS-AIR_downloads/ICIS-AIR_FACILITIES.csv')\n",
    "#pd_violations = read_file('ICIS-AIR_downloads/ICIS-AIR_VIOLATION_HISTORY.csv')\n",
    "#pd_inspection = read_file('ICIS-AIR_downloads/ICIS-AIR_FCES_PCES.csv')\n",
    "#pd_formalact = read_file('ICIS-AIR_downloads/ICIS-AIR_FORMAL_ACTIONS.csv')\n",
    "#pd_informalact = read_file('ICIS-AIR_downloads/ICIS-AIR_INFORMAL_ACTIONS.csv')\n",
    "#pd_stacktest = read_file('ICIS-AIR_downloads/ICIS-AIR_STACK_TESTS.csv')\n",
    "#pd_titlev = read_file('ICIS-AIR_downloads/ICIS-AIR_TITLEV_CERTS.csv')"
   ]
  },
  {
   "cell_type": "code",
   "execution_count": 407,
   "metadata": {
    "collapsed": false
   },
   "outputs": [
    {
     "data": {
      "text/plain": [
       "(56246, 173)"
      ]
     },
     "execution_count": 407,
     "metadata": {},
     "output_type": "execute_result"
    }
   ],
   "source": [
    "#Checking for feature generation\n",
    "start_date = '2009'\n",
    "end_date = '2012'\n",
    "feat = generate_features(start_date, end_date)\n",
    "feat.shape"
   ]
  },
  {
   "cell_type": "code",
   "execution_count": null,
   "metadata": {
    "collapsed": true
   },
   "outputs": [],
   "source": []
  }
 ],
 "metadata": {
  "kernelspec": {
   "display_name": "Python [Root]",
   "language": "python",
   "name": "Python [Root]"
  },
  "language_info": {
   "codemirror_mode": {
    "name": "ipython",
    "version": 3
   },
   "file_extension": ".py",
   "mimetype": "text/x-python",
   "name": "python",
   "nbconvert_exporter": "python",
   "pygments_lexer": "ipython3",
   "version": "3.5.2"
  }
 },
 "nbformat": 4,
 "nbformat_minor": 2
}
