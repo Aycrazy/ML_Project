{
 "cells": [
  {
   "cell_type": "code",
   "execution_count": 1,
   "metadata": {
    "collapsed": true
   },
   "outputs": [],
   "source": [
    "import pandas as pd"
   ]
  },
  {
   "cell_type": "markdown",
   "metadata": {},
   "source": [
    "# About Programs"
   ]
  },
  {
   "cell_type": "code",
   "execution_count": 2,
   "metadata": {
    "collapsed": true
   },
   "outputs": [],
   "source": [
    "df = pd.read_csv('ICIS-AIR_PROGRAMS.csv')"
   ]
  },
  {
   "cell_type": "code",
   "execution_count": 3,
   "metadata": {
    "collapsed": false
   },
   "outputs": [
    {
     "data": {
      "text/html": [
       "<div>\n",
       "<table border=\"1\" class=\"dataframe\">\n",
       "  <thead>\n",
       "    <tr style=\"text-align: right;\">\n",
       "      <th></th>\n",
       "      <th>PGM_SYS_ID</th>\n",
       "      <th>PROGRAM_CODE</th>\n",
       "      <th>PROGRAM_DESC</th>\n",
       "      <th>AIR_OPERATING_STATUS_CODE</th>\n",
       "      <th>AIR_OPERATING_STATUS_DESC</th>\n",
       "    </tr>\n",
       "  </thead>\n",
       "  <tbody>\n",
       "    <tr>\n",
       "      <th>0</th>\n",
       "      <td>NH0000003300190201</td>\n",
       "      <td>CAASIP</td>\n",
       "      <td>State Implementation Plan for National Primary...</td>\n",
       "      <td>OPR</td>\n",
       "      <td>Operating</td>\n",
       "    </tr>\n",
       "    <tr>\n",
       "      <th>1</th>\n",
       "      <td>NH0000003300700012</td>\n",
       "      <td>CAASIP</td>\n",
       "      <td>State Implementation Plan for National Primary...</td>\n",
       "      <td>OPR</td>\n",
       "      <td>Operating</td>\n",
       "    </tr>\n",
       "    <tr>\n",
       "      <th>2</th>\n",
       "      <td>NH0000003300700013</td>\n",
       "      <td>CAASIP</td>\n",
       "      <td>State Implementation Plan for National Primary...</td>\n",
       "      <td>CLS</td>\n",
       "      <td>Permanently Closed</td>\n",
       "    </tr>\n",
       "    <tr>\n",
       "      <th>3</th>\n",
       "      <td>NH0000003300700013</td>\n",
       "      <td>CAANSPS</td>\n",
       "      <td>New Source Performance Standards</td>\n",
       "      <td>CLS</td>\n",
       "      <td>Permanently Closed</td>\n",
       "    </tr>\n",
       "    <tr>\n",
       "      <th>4</th>\n",
       "      <td>NH0000003300100001</td>\n",
       "      <td>CAAGACTM</td>\n",
       "      <td>40 CFR Part 63 Area Sources</td>\n",
       "      <td>OPR</td>\n",
       "      <td>Operating</td>\n",
       "    </tr>\n",
       "  </tbody>\n",
       "</table>\n",
       "</div>"
      ],
      "text/plain": [
       "           PGM_SYS_ID PROGRAM_CODE  \\\n",
       "0  NH0000003300190201       CAASIP   \n",
       "1  NH0000003300700012       CAASIP   \n",
       "2  NH0000003300700013       CAASIP   \n",
       "3  NH0000003300700013      CAANSPS   \n",
       "4  NH0000003300100001     CAAGACTM   \n",
       "\n",
       "                                        PROGRAM_DESC  \\\n",
       "0  State Implementation Plan for National Primary...   \n",
       "1  State Implementation Plan for National Primary...   \n",
       "2  State Implementation Plan for National Primary...   \n",
       "3                   New Source Performance Standards   \n",
       "4                        40 CFR Part 63 Area Sources   \n",
       "\n",
       "  AIR_OPERATING_STATUS_CODE AIR_OPERATING_STATUS_DESC  \n",
       "0                       OPR                 Operating  \n",
       "1                       OPR                 Operating  \n",
       "2                       CLS        Permanently Closed  \n",
       "3                       CLS        Permanently Closed  \n",
       "4                       OPR                 Operating  "
      ]
     },
     "execution_count": 3,
     "metadata": {},
     "output_type": "execute_result"
    }
   ],
   "source": [
    "df.head()"
   ]
  },
  {
   "cell_type": "code",
   "execution_count": 58,
   "metadata": {
    "collapsed": true
   },
   "outputs": [],
   "source": [
    "def get_groupby_counts(df, col_name):\n",
    "    tot_count = df[col_name].count()\n",
    "    count_per_group = df[col_name].value_counts().to_frame()\n",
    "    count_per_group['Proportion'] = count_per_group[col_name] / tot_count\n",
    "    \n",
    "    count_per_count = count_per_group[col_name].value_counts().to_frame()\n",
    "    count_per_count['Proportion'] = count_per_count[col_name] / count_per_count[col_name].sum()\n",
    "    return tot_count, count_per_group, count_per_count"
   ]
  },
  {
   "cell_type": "code",
   "execution_count": 59,
   "metadata": {
    "collapsed": true
   },
   "outputs": [],
   "source": [
    "tot_count, count_per_group, count_per_count = get_groupby_counts(df, 'PGM_SYS_ID')"
   ]
  },
  {
   "cell_type": "code",
   "execution_count": 60,
   "metadata": {
    "collapsed": false
   },
   "outputs": [
    {
     "data": {
      "text/plain": [
       "388371"
      ]
     },
     "execution_count": 60,
     "metadata": {},
     "output_type": "execute_result"
    }
   ],
   "source": [
    "tot_count"
   ]
  },
  {
   "cell_type": "code",
   "execution_count": 62,
   "metadata": {
    "collapsed": false
   },
   "outputs": [
    {
     "data": {
      "text/html": [
       "<div>\n",
       "<table border=\"1\" class=\"dataframe\">\n",
       "  <thead>\n",
       "    <tr style=\"text-align: right;\">\n",
       "      <th></th>\n",
       "      <th>PGM_SYS_ID</th>\n",
       "      <th>Proportion</th>\n",
       "    </tr>\n",
       "  </thead>\n",
       "  <tbody>\n",
       "    <tr>\n",
       "      <th>1</th>\n",
       "      <td>148827</td>\n",
       "      <td>0.631793</td>\n",
       "    </tr>\n",
       "    <tr>\n",
       "      <th>2</th>\n",
       "      <td>44944</td>\n",
       "      <td>0.190794</td>\n",
       "    </tr>\n",
       "    <tr>\n",
       "      <th>3</th>\n",
       "      <td>27565</td>\n",
       "      <td>0.117018</td>\n",
       "    </tr>\n",
       "    <tr>\n",
       "      <th>4</th>\n",
       "      <td>7919</td>\n",
       "      <td>0.033617</td>\n",
       "    </tr>\n",
       "    <tr>\n",
       "      <th>5</th>\n",
       "      <td>3989</td>\n",
       "      <td>0.016934</td>\n",
       "    </tr>\n",
       "    <tr>\n",
       "      <th>6</th>\n",
       "      <td>1421</td>\n",
       "      <td>0.006032</td>\n",
       "    </tr>\n",
       "    <tr>\n",
       "      <th>7</th>\n",
       "      <td>520</td>\n",
       "      <td>0.002207</td>\n",
       "    </tr>\n",
       "    <tr>\n",
       "      <th>8</th>\n",
       "      <td>259</td>\n",
       "      <td>0.001099</td>\n",
       "    </tr>\n",
       "    <tr>\n",
       "      <th>9</th>\n",
       "      <td>90</td>\n",
       "      <td>0.000382</td>\n",
       "    </tr>\n",
       "    <tr>\n",
       "      <th>10</th>\n",
       "      <td>27</td>\n",
       "      <td>0.000115</td>\n",
       "    </tr>\n",
       "    <tr>\n",
       "      <th>11</th>\n",
       "      <td>2</td>\n",
       "      <td>0.000008</td>\n",
       "    </tr>\n",
       "  </tbody>\n",
       "</table>\n",
       "</div>"
      ],
      "text/plain": [
       "    PGM_SYS_ID  Proportion\n",
       "1       148827    0.631793\n",
       "2        44944    0.190794\n",
       "3        27565    0.117018\n",
       "4         7919    0.033617\n",
       "5         3989    0.016934\n",
       "6         1421    0.006032\n",
       "7          520    0.002207\n",
       "8          259    0.001099\n",
       "9           90    0.000382\n",
       "10          27    0.000115\n",
       "11           2    0.000008"
      ]
     },
     "execution_count": 62,
     "metadata": {},
     "output_type": "execute_result"
    }
   ],
   "source": [
    "count_per_count"
   ]
  },
  {
   "cell_type": "code",
   "execution_count": 35,
   "metadata": {
    "collapsed": true
   },
   "outputs": [],
   "source": [
    "# Over 60% of facilities are under 1 program program, over 80% are under 1-2 programs"
   ]
  },
  {
   "cell_type": "code",
   "execution_count": 63,
   "metadata": {
    "collapsed": false
   },
   "outputs": [],
   "source": [
    "tot_count, count_per_group, count_per_count = get_groupby_counts(df, 'PROGRAM_DESC')"
   ]
  },
  {
   "cell_type": "code",
   "execution_count": 64,
   "metadata": {
    "collapsed": false
   },
   "outputs": [
    {
     "data": {
      "text/html": [
       "<div>\n",
       "<table border=\"1\" class=\"dataframe\">\n",
       "  <thead>\n",
       "    <tr style=\"text-align: right;\">\n",
       "      <th></th>\n",
       "      <th>PROGRAM_DESC</th>\n",
       "      <th>Proportion</th>\n",
       "    </tr>\n",
       "  </thead>\n",
       "  <tbody>\n",
       "    <tr>\n",
       "      <th>State Implementation Plan for National Primary and Secondary Ambient Air Quality Standards</th>\n",
       "      <td>213347</td>\n",
       "      <td>0.549338</td>\n",
       "    </tr>\n",
       "    <tr>\n",
       "      <th>MACT Standards (40 CFR Part 63)</th>\n",
       "      <td>50259</td>\n",
       "      <td>0.129410</td>\n",
       "    </tr>\n",
       "    <tr>\n",
       "      <th>New Source Performance Standards</th>\n",
       "      <td>45041</td>\n",
       "      <td>0.115974</td>\n",
       "    </tr>\n",
       "    <tr>\n",
       "      <th>Title V Permits</th>\n",
       "      <td>28005</td>\n",
       "      <td>0.072109</td>\n",
       "    </tr>\n",
       "    <tr>\n",
       "      <th>Federally-Enforceable State Operating Permit - Non Title V</th>\n",
       "      <td>9510</td>\n",
       "      <td>0.024487</td>\n",
       "    </tr>\n",
       "    <tr>\n",
       "      <th>Stratospheric Ozone Protection</th>\n",
       "      <td>8245</td>\n",
       "      <td>0.021230</td>\n",
       "    </tr>\n",
       "    <tr>\n",
       "      <th>New Source Review Permit Requirements</th>\n",
       "      <td>8159</td>\n",
       "      <td>0.021008</td>\n",
       "    </tr>\n",
       "    <tr>\n",
       "      <th>40 CFR Part 63 Area Sources</th>\n",
       "      <td>7194</td>\n",
       "      <td>0.018524</td>\n",
       "    </tr>\n",
       "    <tr>\n",
       "      <th>Prevention of Significant Deterioration of Air Quality</th>\n",
       "      <td>7094</td>\n",
       "      <td>0.018266</td>\n",
       "    </tr>\n",
       "    <tr>\n",
       "      <th>National Emission Standards for Hazardous Air Pollutants (40 CFR Part 61)</th>\n",
       "      <td>4926</td>\n",
       "      <td>0.012684</td>\n",
       "    </tr>\n",
       "    <tr>\n",
       "      <th>New Source Performance Standards (Non-Major)</th>\n",
       "      <td>1550</td>\n",
       "      <td>0.003991</td>\n",
       "    </tr>\n",
       "    <tr>\n",
       "      <th>Not defined as federally-reportable</th>\n",
       "      <td>1363</td>\n",
       "      <td>0.003510</td>\n",
       "    </tr>\n",
       "    <tr>\n",
       "      <th>Prevention of Accidental Release/General Duty Clause</th>\n",
       "      <td>813</td>\n",
       "      <td>0.002093</td>\n",
       "    </tr>\n",
       "    <tr>\n",
       "      <th>Federal Implementation Plan for National Primary and Secondary Ambient Air Quality Standards</th>\n",
       "      <td>811</td>\n",
       "      <td>0.002088</td>\n",
       "    </tr>\n",
       "    <tr>\n",
       "      <th>Acid Rain Deposition Control (CAA Title IV)</th>\n",
       "      <td>720</td>\n",
       "      <td>0.001854</td>\n",
       "    </tr>\n",
       "    <tr>\n",
       "      <th>Tribal Rule Not Otherwise Covered</th>\n",
       "      <td>637</td>\n",
       "      <td>0.001640</td>\n",
       "    </tr>\n",
       "    <tr>\n",
       "      <th>The Mandatory Greenhouse Gas Reporting Rule</th>\n",
       "      <td>347</td>\n",
       "      <td>0.000893</td>\n",
       "    </tr>\n",
       "    <tr>\n",
       "      <th>Tribal Implementation Plan for National Primary and Secondary Ambient Air Quality Standards</th>\n",
       "      <td>97</td>\n",
       "      <td>0.000250</td>\n",
       "    </tr>\n",
       "    <tr>\n",
       "      <th>Federally-Enforceable Requirement, Non Specified</th>\n",
       "      <td>70</td>\n",
       "      <td>0.000180</td>\n",
       "    </tr>\n",
       "    <tr>\n",
       "      <th>Mobile Sources</th>\n",
       "      <td>62</td>\n",
       "      <td>0.000160</td>\n",
       "    </tr>\n",
       "    <tr>\n",
       "      <th>Operating Permits</th>\n",
       "      <td>42</td>\n",
       "      <td>0.000108</td>\n",
       "    </tr>\n",
       "    <tr>\n",
       "      <th>Risk Management Program</th>\n",
       "      <td>33</td>\n",
       "      <td>0.000085</td>\n",
       "    </tr>\n",
       "    <tr>\n",
       "      <th>State Permit Programs</th>\n",
       "      <td>16</td>\n",
       "      <td>0.000041</td>\n",
       "    </tr>\n",
       "    <tr>\n",
       "      <th>State or Local rule or regulation that is not federally-enforceable</th>\n",
       "      <td>13</td>\n",
       "      <td>0.000033</td>\n",
       "    </tr>\n",
       "    <tr>\n",
       "      <th>National Ambient Air Quality Standards (NAAQS)</th>\n",
       "      <td>6</td>\n",
       "      <td>0.000015</td>\n",
       "    </tr>\n",
       "    <tr>\n",
       "      <th>Monitoring, Reporting</th>\n",
       "      <td>5</td>\n",
       "      <td>0.000013</td>\n",
       "    </tr>\n",
       "    <tr>\n",
       "      <th>Part 62 - State and Federal Plans for Control of Designated Pollutants from Existing Facilities</th>\n",
       "      <td>3</td>\n",
       "      <td>0.000008</td>\n",
       "    </tr>\n",
       "    <tr>\n",
       "      <th>Hazardous Air Pollutants</th>\n",
       "      <td>1</td>\n",
       "      <td>0.000003</td>\n",
       "    </tr>\n",
       "    <tr>\n",
       "      <th>PSD Preconstruction Requirements</th>\n",
       "      <td>1</td>\n",
       "      <td>0.000003</td>\n",
       "    </tr>\n",
       "    <tr>\n",
       "      <th>Information Requests, Monitoring, &amp; Recordkeeping</th>\n",
       "      <td>1</td>\n",
       "      <td>0.000003</td>\n",
       "    </tr>\n",
       "  </tbody>\n",
       "</table>\n",
       "</div>"
      ],
      "text/plain": [
       "                                                    PROGRAM_DESC  Proportion\n",
       "State Implementation Plan for National Primary ...        213347    0.549338\n",
       "MACT Standards (40 CFR Part 63)                            50259    0.129410\n",
       "New Source Performance Standards                           45041    0.115974\n",
       "Title V Permits                                            28005    0.072109\n",
       "Federally-Enforceable State Operating Permit - ...          9510    0.024487\n",
       "Stratospheric Ozone Protection                              8245    0.021230\n",
       "New Source Review Permit Requirements                       8159    0.021008\n",
       "40 CFR Part 63 Area Sources                                 7194    0.018524\n",
       "Prevention of Significant Deterioration of Air ...          7094    0.018266\n",
       "National Emission Standards for Hazardous Air P...          4926    0.012684\n",
       "New Source Performance Standards (Non-Major)                1550    0.003991\n",
       "Not defined as federally-reportable                         1363    0.003510\n",
       "Prevention of Accidental Release/General Duty C...           813    0.002093\n",
       "Federal Implementation Plan for National Primar...           811    0.002088\n",
       "Acid Rain Deposition Control (CAA Title IV)                  720    0.001854\n",
       "Tribal Rule Not Otherwise Covered                            637    0.001640\n",
       "The Mandatory Greenhouse Gas Reporting Rule                  347    0.000893\n",
       "Tribal Implementation Plan for National Primary...            97    0.000250\n",
       "Federally-Enforceable Requirement, Non Specified              70    0.000180\n",
       "Mobile Sources                                                62    0.000160\n",
       "Operating Permits                                             42    0.000108\n",
       "Risk Management Program                                       33    0.000085\n",
       "State Permit Programs                                         16    0.000041\n",
       "State or Local rule or regulation that is not f...            13    0.000033\n",
       "National Ambient Air Quality Standards (NAAQS)                 6    0.000015\n",
       "Monitoring, Reporting                                          5    0.000013\n",
       "Part 62 - State and Federal Plans for Control o...             3    0.000008\n",
       "Hazardous Air Pollutants                                       1    0.000003\n",
       "PSD Preconstruction Requirements                               1    0.000003\n",
       "Information Requests, Monitoring, & Recordkeeping              1    0.000003"
      ]
     },
     "execution_count": 64,
     "metadata": {},
     "output_type": "execute_result"
    }
   ],
   "source": [
    "count_per_group"
   ]
  },
  {
   "cell_type": "code",
   "execution_count": null,
   "metadata": {
    "collapsed": true
   },
   "outputs": [],
   "source": [
    "# Over 50% are under SIP"
   ]
  },
  {
   "cell_type": "code",
   "execution_count": 66,
   "metadata": {
    "collapsed": true
   },
   "outputs": [],
   "source": [
    "tot_count, count_per_group, count_per_count = get_groupby_counts(df, 'AIR_OPERATING_STATUS_DESC')"
   ]
  },
  {
   "cell_type": "code",
   "execution_count": 67,
   "metadata": {
    "collapsed": false
   },
   "outputs": [
    {
     "data": {
      "text/html": [
       "<div>\n",
       "<table border=\"1\" class=\"dataframe\">\n",
       "  <thead>\n",
       "    <tr style=\"text-align: right;\">\n",
       "      <th></th>\n",
       "      <th>AIR_OPERATING_STATUS_DESC</th>\n",
       "      <th>Proportion</th>\n",
       "    </tr>\n",
       "  </thead>\n",
       "  <tbody>\n",
       "    <tr>\n",
       "      <th>Operating</th>\n",
       "      <td>277659</td>\n",
       "      <td>0.714932</td>\n",
       "    </tr>\n",
       "    <tr>\n",
       "      <th>Permanently Closed</th>\n",
       "      <td>101206</td>\n",
       "      <td>0.260591</td>\n",
       "    </tr>\n",
       "    <tr>\n",
       "      <th>Temporarily Closed</th>\n",
       "      <td>5444</td>\n",
       "      <td>0.014018</td>\n",
       "    </tr>\n",
       "    <tr>\n",
       "      <th>Planned Facility</th>\n",
       "      <td>2286</td>\n",
       "      <td>0.005886</td>\n",
       "    </tr>\n",
       "    <tr>\n",
       "      <th>Under Construction</th>\n",
       "      <td>1455</td>\n",
       "      <td>0.003746</td>\n",
       "    </tr>\n",
       "    <tr>\n",
       "      <th>Seasonal</th>\n",
       "      <td>321</td>\n",
       "      <td>0.000827</td>\n",
       "    </tr>\n",
       "  </tbody>\n",
       "</table>\n",
       "</div>"
      ],
      "text/plain": [
       "                    AIR_OPERATING_STATUS_DESC  Proportion\n",
       "Operating                              277659    0.714932\n",
       "Permanently Closed                     101206    0.260591\n",
       "Temporarily Closed                       5444    0.014018\n",
       "Planned Facility                         2286    0.005886\n",
       "Under Construction                       1455    0.003746\n",
       "Seasonal                                  321    0.000827"
      ]
     },
     "execution_count": 67,
     "metadata": {},
     "output_type": "execute_result"
    }
   ],
   "source": [
    "count_per_group"
   ]
  },
  {
   "cell_type": "code",
   "execution_count": 69,
   "metadata": {
    "collapsed": true
   },
   "outputs": [],
   "source": [
    "# Over 70% are operating, over a quarter are permanently closed!"
   ]
  },
  {
   "cell_type": "markdown",
   "metadata": {},
   "source": [
    "# About Facilities"
   ]
  },
  {
   "cell_type": "code",
   "execution_count": null,
   "metadata": {
    "collapsed": true
   },
   "outputs": [],
   "source": []
  }
 ],
 "metadata": {
  "kernelspec": {
   "display_name": "Python 3",
   "language": "python",
   "name": "python3"
  },
  "language_info": {
   "codemirror_mode": {
    "name": "ipython",
    "version": 3
   },
   "file_extension": ".py",
   "mimetype": "text/x-python",
   "name": "python",
   "nbconvert_exporter": "python",
   "pygments_lexer": "ipython3",
   "version": "3.6.0"
  }
 },
 "nbformat": 4,
 "nbformat_minor": 2
}
