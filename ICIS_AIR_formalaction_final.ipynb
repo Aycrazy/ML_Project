{
 "cells": [
  {
   "cell_type": "code",
   "execution_count": 1,
   "metadata": {
    "collapsed": false
   },
   "outputs": [],
   "source": [
    "import csv\n",
    "import pandas as pd\n",
    "import numpy as np\n",
    "import processing \n",
    "%run processing"
   ]
  },
  {
   "cell_type": "code",
   "execution_count": 2,
   "metadata": {
    "collapsed": false
   },
   "outputs": [],
   "source": [
    "formact_df = pd.read_csv('ICIS-AIR_FORMAL_ACTIONS.csv')"
   ]
  },
  {
   "cell_type": "code",
   "execution_count": 3,
   "metadata": {
    "collapsed": false
   },
   "outputs": [
    {
     "data": {
      "text/html": [
       "<div>\n",
       "<table border=\"1\" class=\"dataframe\">\n",
       "  <thead>\n",
       "    <tr style=\"text-align: right;\">\n",
       "      <th></th>\n",
       "      <th>PGM_SYS_ID</th>\n",
       "      <th>ACTIVITY_ID</th>\n",
       "      <th>ENF_IDENTIFIER</th>\n",
       "      <th>ACTIVITY_TYPE_CODE</th>\n",
       "      <th>ACTIVITY_TYPE_DESC</th>\n",
       "      <th>STATE_EPA_FLAG</th>\n",
       "      <th>ENF_TYPE_CODE</th>\n",
       "      <th>ENF_TYPE_DESC</th>\n",
       "      <th>SETTLEMENT_ENTERED_DATE</th>\n",
       "      <th>PENALTY_AMOUNT</th>\n",
       "    </tr>\n",
       "  </thead>\n",
       "  <tbody>\n",
       "    <tr>\n",
       "      <th>0</th>\n",
       "      <td>020000003400701000</td>\n",
       "      <td>8761</td>\n",
       "      <td>02-2002-1284</td>\n",
       "      <td>AFR</td>\n",
       "      <td>Administrative - Formal</td>\n",
       "      <td>E</td>\n",
       "      <td>113D1</td>\n",
       "      <td>CAA 113D1 Action For Penalty</td>\n",
       "      <td>12/24/2003</td>\n",
       "      <td>500.0</td>\n",
       "    </tr>\n",
       "    <tr>\n",
       "      <th>1</th>\n",
       "      <td>NY0000002620201210</td>\n",
       "      <td>6927</td>\n",
       "      <td>02-1999-1264</td>\n",
       "      <td>AFR</td>\n",
       "      <td>Administrative - Formal</td>\n",
       "      <td>E</td>\n",
       "      <td>113D1</td>\n",
       "      <td>CAA 113D1 Action For Penalty</td>\n",
       "      <td>06/06/2000</td>\n",
       "      <td>0.0</td>\n",
       "    </tr>\n",
       "    <tr>\n",
       "      <th>2</th>\n",
       "      <td>IL000197800AAA</td>\n",
       "      <td>32608</td>\n",
       "      <td>05-2000-0612</td>\n",
       "      <td>JDC</td>\n",
       "      <td>Judicial</td>\n",
       "      <td>E</td>\n",
       "      <td>CIV</td>\n",
       "      <td>Civil Judicial Action</td>\n",
       "      <td>01/27/2009</td>\n",
       "      <td>0.0</td>\n",
       "    </tr>\n",
       "    <tr>\n",
       "      <th>3</th>\n",
       "      <td>IL000197800AAA</td>\n",
       "      <td>32608</td>\n",
       "      <td>05-2000-0612</td>\n",
       "      <td>JDC</td>\n",
       "      <td>Judicial</td>\n",
       "      <td>E</td>\n",
       "      <td>CIV</td>\n",
       "      <td>Civil Judicial Action</td>\n",
       "      <td>12/13/2005</td>\n",
       "      <td>1429089.0</td>\n",
       "    </tr>\n",
       "    <tr>\n",
       "      <th>4</th>\n",
       "      <td>IL000021816AAQ</td>\n",
       "      <td>33331</td>\n",
       "      <td>05-2001-0710</td>\n",
       "      <td>JDC</td>\n",
       "      <td>Judicial</td>\n",
       "      <td>E</td>\n",
       "      <td>CIV</td>\n",
       "      <td>Civil Judicial Action</td>\n",
       "      <td>04/07/2015</td>\n",
       "      <td>0.0</td>\n",
       "    </tr>\n",
       "  </tbody>\n",
       "</table>\n",
       "</div>"
      ],
      "text/plain": [
       "           PGM_SYS_ID  ACTIVITY_ID ENF_IDENTIFIER ACTIVITY_TYPE_CODE  \\\n",
       "0  020000003400701000         8761   02-2002-1284                AFR   \n",
       "1  NY0000002620201210         6927   02-1999-1264                AFR   \n",
       "2      IL000197800AAA        32608   05-2000-0612                JDC   \n",
       "3      IL000197800AAA        32608   05-2000-0612                JDC   \n",
       "4      IL000021816AAQ        33331   05-2001-0710                JDC   \n",
       "\n",
       "        ACTIVITY_TYPE_DESC STATE_EPA_FLAG ENF_TYPE_CODE  \\\n",
       "0  Administrative - Formal              E         113D1   \n",
       "1  Administrative - Formal              E         113D1   \n",
       "2                 Judicial              E           CIV   \n",
       "3                 Judicial              E           CIV   \n",
       "4                 Judicial              E           CIV   \n",
       "\n",
       "                  ENF_TYPE_DESC SETTLEMENT_ENTERED_DATE  PENALTY_AMOUNT  \n",
       "0  CAA 113D1 Action For Penalty              12/24/2003           500.0  \n",
       "1  CAA 113D1 Action For Penalty              06/06/2000             0.0  \n",
       "2         Civil Judicial Action              01/27/2009             0.0  \n",
       "3         Civil Judicial Action              12/13/2005       1429089.0  \n",
       "4         Civil Judicial Action              04/07/2015             0.0  "
      ]
     },
     "execution_count": 3,
     "metadata": {},
     "output_type": "execute_result"
    }
   ],
   "source": [
    "formact_df.head()"
   ]
  },
  {
   "cell_type": "code",
   "execution_count": 4,
   "metadata": {
    "collapsed": true
   },
   "outputs": [],
   "source": [
    "# Add date, filter post 2006, needed variables\n",
    "\n",
    "date_format = '%m/%d/%Y'\n",
    "date_col = 'SETTLEMENT_ENTERED_DATE'\n",
    "interest_var = ['ACTIVITY_TYPE_DESC']\n",
    "fac_id = 'PGM_SYS_ID'"
   ]
  },
  {
   "cell_type": "code",
   "execution_count": 5,
   "metadata": {
    "collapsed": false
   },
   "outputs": [],
   "source": [
    "filtered_df = processing.date_and_filter(formact_df, date_format, date_col, interest_var, fac_id)"
   ]
  },
  {
   "cell_type": "code",
   "execution_count": 6,
   "metadata": {
    "collapsed": false
   },
   "outputs": [
    {
     "data": {
      "text/html": [
       "<div>\n",
       "<table border=\"1\" class=\"dataframe\">\n",
       "  <thead>\n",
       "    <tr style=\"text-align: right;\">\n",
       "      <th></th>\n",
       "      <th>ACTIVITY_TYPE_DESC</th>\n",
       "      <th>PGM_SYS_ID</th>\n",
       "      <th>SETTLEMENT_ENTERED_DATE_datetime</th>\n",
       "      <th>SETTLEMENT_ENTERED_DATE_year</th>\n",
       "    </tr>\n",
       "  </thead>\n",
       "  <tbody>\n",
       "    <tr>\n",
       "      <th>2</th>\n",
       "      <td>Judicial</td>\n",
       "      <td>IL000197800AAA</td>\n",
       "      <td>2009-01-27</td>\n",
       "      <td>2009</td>\n",
       "    </tr>\n",
       "    <tr>\n",
       "      <th>4</th>\n",
       "      <td>Judicial</td>\n",
       "      <td>IL000021816AAQ</td>\n",
       "      <td>2015-04-07</td>\n",
       "      <td>2015</td>\n",
       "    </tr>\n",
       "    <tr>\n",
       "      <th>5</th>\n",
       "      <td>Judicial</td>\n",
       "      <td>IL000143065AFM</td>\n",
       "      <td>2015-04-07</td>\n",
       "      <td>2015</td>\n",
       "    </tr>\n",
       "    <tr>\n",
       "      <th>6</th>\n",
       "      <td>Judicial</td>\n",
       "      <td>OH0000000374010102</td>\n",
       "      <td>2015-04-07</td>\n",
       "      <td>2015</td>\n",
       "    </tr>\n",
       "    <tr>\n",
       "      <th>7</th>\n",
       "      <td>Judicial</td>\n",
       "      <td>MN0000002704900001</td>\n",
       "      <td>2015-04-07</td>\n",
       "      <td>2015</td>\n",
       "    </tr>\n",
       "  </tbody>\n",
       "</table>\n",
       "</div>"
      ],
      "text/plain": [
       "  ACTIVITY_TYPE_DESC          PGM_SYS_ID SETTLEMENT_ENTERED_DATE_datetime  \\\n",
       "2           Judicial      IL000197800AAA                       2009-01-27   \n",
       "4           Judicial      IL000021816AAQ                       2015-04-07   \n",
       "5           Judicial      IL000143065AFM                       2015-04-07   \n",
       "6           Judicial  OH0000000374010102                       2015-04-07   \n",
       "7           Judicial  MN0000002704900001                       2015-04-07   \n",
       "\n",
       "  SETTLEMENT_ENTERED_DATE_year  \n",
       "2                         2009  \n",
       "4                         2015  \n",
       "5                         2015  \n",
       "6                         2015  \n",
       "7                         2015  "
      ]
     },
     "execution_count": 6,
     "metadata": {},
     "output_type": "execute_result"
    }
   ],
   "source": [
    "filtered_df.head()"
   ]
  },
  {
   "cell_type": "code",
   "execution_count": 7,
   "metadata": {
    "collapsed": false
   },
   "outputs": [
    {
     "data": {
      "text/plain": [
       "(77839, 13)"
      ]
     },
     "execution_count": 7,
     "metadata": {},
     "output_type": "execute_result"
    }
   ],
   "source": [
    "formact_df.shape  "
   ]
  },
  {
   "cell_type": "code",
   "execution_count": 8,
   "metadata": {
    "collapsed": false
   },
   "outputs": [
    {
     "data": {
      "text/plain": [
       "(32309, 4)"
      ]
     },
     "execution_count": 8,
     "metadata": {},
     "output_type": "execute_result"
    }
   ],
   "source": [
    "filtered_df.shape #about 45,000 have been filtered out"
   ]
  },
  {
   "cell_type": "code",
   "execution_count": 9,
   "metadata": {
    "collapsed": false
   },
   "outputs": [],
   "source": [
    "#sum up how many times happened in each year\n",
    "df_counts = processing.add_count_cols(filtered_df, fac_id, date_col+'_year', interest_var, 'formalaction') "
   ]
  },
  {
   "cell_type": "code",
   "execution_count": 10,
   "metadata": {
    "collapsed": false
   },
   "outputs": [
    {
     "data": {
      "text/html": [
       "<div>\n",
       "<table border=\"1\" class=\"dataframe\">\n",
       "  <thead>\n",
       "    <tr style=\"text-align: right;\">\n",
       "      <th></th>\n",
       "      <th>2007_formalaction_Administrative - Formal</th>\n",
       "      <th>2007_formalaction_Judicial</th>\n",
       "      <th>2008_formalaction_Administrative - Formal</th>\n",
       "      <th>2008_formalaction_Judicial</th>\n",
       "      <th>2009_formalaction_Administrative - Formal</th>\n",
       "      <th>2009_formalaction_Judicial</th>\n",
       "      <th>2010_formalaction_Administrative - Formal</th>\n",
       "      <th>2010_formalaction_Judicial</th>\n",
       "      <th>2011_formalaction_Administrative - Formal</th>\n",
       "      <th>2011_formalaction_Judicial</th>\n",
       "      <th>...</th>\n",
       "      <th>2013_formalaction_Judicial</th>\n",
       "      <th>2014_formalaction_Administrative - Formal</th>\n",
       "      <th>2014_formalaction_Judicial</th>\n",
       "      <th>2015_formalaction_Administrative - Formal</th>\n",
       "      <th>2015_formalaction_Judicial</th>\n",
       "      <th>2016_formalaction_Administrative - Formal</th>\n",
       "      <th>2016_formalaction_Judicial</th>\n",
       "      <th>2017_formalaction_Administrative - Formal</th>\n",
       "      <th>2017_formalaction_Judicial</th>\n",
       "      <th>2020_formalaction_Administrative - Formal</th>\n",
       "    </tr>\n",
       "    <tr>\n",
       "      <th>PGM_SYS_ID</th>\n",
       "      <th></th>\n",
       "      <th></th>\n",
       "      <th></th>\n",
       "      <th></th>\n",
       "      <th></th>\n",
       "      <th></th>\n",
       "      <th></th>\n",
       "      <th></th>\n",
       "      <th></th>\n",
       "      <th></th>\n",
       "      <th></th>\n",
       "      <th></th>\n",
       "      <th></th>\n",
       "      <th></th>\n",
       "      <th></th>\n",
       "      <th></th>\n",
       "      <th></th>\n",
       "      <th></th>\n",
       "      <th></th>\n",
       "      <th></th>\n",
       "      <th></th>\n",
       "    </tr>\n",
       "  </thead>\n",
       "  <tbody>\n",
       "    <tr>\n",
       "      <th>020000003400356439</th>\n",
       "      <td>1</td>\n",
       "      <td>0</td>\n",
       "      <td>0</td>\n",
       "      <td>0</td>\n",
       "      <td>1</td>\n",
       "      <td>0</td>\n",
       "      <td>0</td>\n",
       "      <td>0</td>\n",
       "      <td>0</td>\n",
       "      <td>0</td>\n",
       "      <td>...</td>\n",
       "      <td>0</td>\n",
       "      <td>0</td>\n",
       "      <td>0</td>\n",
       "      <td>0</td>\n",
       "      <td>0</td>\n",
       "      <td>0</td>\n",
       "      <td>0</td>\n",
       "      <td>0</td>\n",
       "      <td>0</td>\n",
       "      <td>0</td>\n",
       "    </tr>\n",
       "    <tr>\n",
       "      <th>020000003401300027</th>\n",
       "      <td>0</td>\n",
       "      <td>0</td>\n",
       "      <td>0</td>\n",
       "      <td>0</td>\n",
       "      <td>0</td>\n",
       "      <td>0</td>\n",
       "      <td>0</td>\n",
       "      <td>0</td>\n",
       "      <td>0</td>\n",
       "      <td>0</td>\n",
       "      <td>...</td>\n",
       "      <td>0</td>\n",
       "      <td>0</td>\n",
       "      <td>0</td>\n",
       "      <td>0</td>\n",
       "      <td>0</td>\n",
       "      <td>1</td>\n",
       "      <td>0</td>\n",
       "      <td>0</td>\n",
       "      <td>0</td>\n",
       "      <td>0</td>\n",
       "    </tr>\n",
       "    <tr>\n",
       "      <th>020000003401756440</th>\n",
       "      <td>1</td>\n",
       "      <td>0</td>\n",
       "      <td>0</td>\n",
       "      <td>0</td>\n",
       "      <td>0</td>\n",
       "      <td>0</td>\n",
       "      <td>0</td>\n",
       "      <td>0</td>\n",
       "      <td>0</td>\n",
       "      <td>0</td>\n",
       "      <td>...</td>\n",
       "      <td>0</td>\n",
       "      <td>0</td>\n",
       "      <td>0</td>\n",
       "      <td>0</td>\n",
       "      <td>0</td>\n",
       "      <td>0</td>\n",
       "      <td>0</td>\n",
       "      <td>0</td>\n",
       "      <td>0</td>\n",
       "      <td>0</td>\n",
       "    </tr>\n",
       "    <tr>\n",
       "      <th>020000003402135764</th>\n",
       "      <td>1</td>\n",
       "      <td>0</td>\n",
       "      <td>0</td>\n",
       "      <td>0</td>\n",
       "      <td>0</td>\n",
       "      <td>0</td>\n",
       "      <td>0</td>\n",
       "      <td>0</td>\n",
       "      <td>0</td>\n",
       "      <td>0</td>\n",
       "      <td>...</td>\n",
       "      <td>0</td>\n",
       "      <td>0</td>\n",
       "      <td>0</td>\n",
       "      <td>0</td>\n",
       "      <td>0</td>\n",
       "      <td>0</td>\n",
       "      <td>0</td>\n",
       "      <td>0</td>\n",
       "      <td>0</td>\n",
       "      <td>0</td>\n",
       "    </tr>\n",
       "    <tr>\n",
       "      <th>020000003402300479</th>\n",
       "      <td>1</td>\n",
       "      <td>0</td>\n",
       "      <td>0</td>\n",
       "      <td>0</td>\n",
       "      <td>0</td>\n",
       "      <td>0</td>\n",
       "      <td>0</td>\n",
       "      <td>0</td>\n",
       "      <td>0</td>\n",
       "      <td>0</td>\n",
       "      <td>...</td>\n",
       "      <td>0</td>\n",
       "      <td>0</td>\n",
       "      <td>0</td>\n",
       "      <td>0</td>\n",
       "      <td>0</td>\n",
       "      <td>0</td>\n",
       "      <td>0</td>\n",
       "      <td>0</td>\n",
       "      <td>0</td>\n",
       "      <td>0</td>\n",
       "    </tr>\n",
       "  </tbody>\n",
       "</table>\n",
       "<p>5 rows × 23 columns</p>\n",
       "</div>"
      ],
      "text/plain": [
       "                    2007_formalaction_Administrative - Formal  \\\n",
       "PGM_SYS_ID                                                      \n",
       "020000003400356439                                          1   \n",
       "020000003401300027                                          0   \n",
       "020000003401756440                                          1   \n",
       "020000003402135764                                          1   \n",
       "020000003402300479                                          1   \n",
       "\n",
       "                    2007_formalaction_Judicial  \\\n",
       "PGM_SYS_ID                                       \n",
       "020000003400356439                           0   \n",
       "020000003401300027                           0   \n",
       "020000003401756440                           0   \n",
       "020000003402135764                           0   \n",
       "020000003402300479                           0   \n",
       "\n",
       "                    2008_formalaction_Administrative - Formal  \\\n",
       "PGM_SYS_ID                                                      \n",
       "020000003400356439                                          0   \n",
       "020000003401300027                                          0   \n",
       "020000003401756440                                          0   \n",
       "020000003402135764                                          0   \n",
       "020000003402300479                                          0   \n",
       "\n",
       "                    2008_formalaction_Judicial  \\\n",
       "PGM_SYS_ID                                       \n",
       "020000003400356439                           0   \n",
       "020000003401300027                           0   \n",
       "020000003401756440                           0   \n",
       "020000003402135764                           0   \n",
       "020000003402300479                           0   \n",
       "\n",
       "                    2009_formalaction_Administrative - Formal  \\\n",
       "PGM_SYS_ID                                                      \n",
       "020000003400356439                                          1   \n",
       "020000003401300027                                          0   \n",
       "020000003401756440                                          0   \n",
       "020000003402135764                                          0   \n",
       "020000003402300479                                          0   \n",
       "\n",
       "                    2009_formalaction_Judicial  \\\n",
       "PGM_SYS_ID                                       \n",
       "020000003400356439                           0   \n",
       "020000003401300027                           0   \n",
       "020000003401756440                           0   \n",
       "020000003402135764                           0   \n",
       "020000003402300479                           0   \n",
       "\n",
       "                    2010_formalaction_Administrative - Formal  \\\n",
       "PGM_SYS_ID                                                      \n",
       "020000003400356439                                          0   \n",
       "020000003401300027                                          0   \n",
       "020000003401756440                                          0   \n",
       "020000003402135764                                          0   \n",
       "020000003402300479                                          0   \n",
       "\n",
       "                    2010_formalaction_Judicial  \\\n",
       "PGM_SYS_ID                                       \n",
       "020000003400356439                           0   \n",
       "020000003401300027                           0   \n",
       "020000003401756440                           0   \n",
       "020000003402135764                           0   \n",
       "020000003402300479                           0   \n",
       "\n",
       "                    2011_formalaction_Administrative - Formal  \\\n",
       "PGM_SYS_ID                                                      \n",
       "020000003400356439                                          0   \n",
       "020000003401300027                                          0   \n",
       "020000003401756440                                          0   \n",
       "020000003402135764                                          0   \n",
       "020000003402300479                                          0   \n",
       "\n",
       "                    2011_formalaction_Judicial  \\\n",
       "PGM_SYS_ID                                       \n",
       "020000003400356439                           0   \n",
       "020000003401300027                           0   \n",
       "020000003401756440                           0   \n",
       "020000003402135764                           0   \n",
       "020000003402300479                           0   \n",
       "\n",
       "                                      ...                      \\\n",
       "PGM_SYS_ID                            ...                       \n",
       "020000003400356439                    ...                       \n",
       "020000003401300027                    ...                       \n",
       "020000003401756440                    ...                       \n",
       "020000003402135764                    ...                       \n",
       "020000003402300479                    ...                       \n",
       "\n",
       "                    2013_formalaction_Judicial  \\\n",
       "PGM_SYS_ID                                       \n",
       "020000003400356439                           0   \n",
       "020000003401300027                           0   \n",
       "020000003401756440                           0   \n",
       "020000003402135764                           0   \n",
       "020000003402300479                           0   \n",
       "\n",
       "                    2014_formalaction_Administrative - Formal  \\\n",
       "PGM_SYS_ID                                                      \n",
       "020000003400356439                                          0   \n",
       "020000003401300027                                          0   \n",
       "020000003401756440                                          0   \n",
       "020000003402135764                                          0   \n",
       "020000003402300479                                          0   \n",
       "\n",
       "                    2014_formalaction_Judicial  \\\n",
       "PGM_SYS_ID                                       \n",
       "020000003400356439                           0   \n",
       "020000003401300027                           0   \n",
       "020000003401756440                           0   \n",
       "020000003402135764                           0   \n",
       "020000003402300479                           0   \n",
       "\n",
       "                    2015_formalaction_Administrative - Formal  \\\n",
       "PGM_SYS_ID                                                      \n",
       "020000003400356439                                          0   \n",
       "020000003401300027                                          0   \n",
       "020000003401756440                                          0   \n",
       "020000003402135764                                          0   \n",
       "020000003402300479                                          0   \n",
       "\n",
       "                    2015_formalaction_Judicial  \\\n",
       "PGM_SYS_ID                                       \n",
       "020000003400356439                           0   \n",
       "020000003401300027                           0   \n",
       "020000003401756440                           0   \n",
       "020000003402135764                           0   \n",
       "020000003402300479                           0   \n",
       "\n",
       "                    2016_formalaction_Administrative - Formal  \\\n",
       "PGM_SYS_ID                                                      \n",
       "020000003400356439                                          0   \n",
       "020000003401300027                                          1   \n",
       "020000003401756440                                          0   \n",
       "020000003402135764                                          0   \n",
       "020000003402300479                                          0   \n",
       "\n",
       "                    2016_formalaction_Judicial  \\\n",
       "PGM_SYS_ID                                       \n",
       "020000003400356439                           0   \n",
       "020000003401300027                           0   \n",
       "020000003401756440                           0   \n",
       "020000003402135764                           0   \n",
       "020000003402300479                           0   \n",
       "\n",
       "                    2017_formalaction_Administrative - Formal  \\\n",
       "PGM_SYS_ID                                                      \n",
       "020000003400356439                                          0   \n",
       "020000003401300027                                          0   \n",
       "020000003401756440                                          0   \n",
       "020000003402135764                                          0   \n",
       "020000003402300479                                          0   \n",
       "\n",
       "                    2017_formalaction_Judicial  \\\n",
       "PGM_SYS_ID                                       \n",
       "020000003400356439                           0   \n",
       "020000003401300027                           0   \n",
       "020000003401756440                           0   \n",
       "020000003402135764                           0   \n",
       "020000003402300479                           0   \n",
       "\n",
       "                    2020_formalaction_Administrative - Formal  \n",
       "PGM_SYS_ID                                                     \n",
       "020000003400356439                                          0  \n",
       "020000003401300027                                          0  \n",
       "020000003401756440                                          0  \n",
       "020000003402135764                                          0  \n",
       "020000003402300479                                          0  \n",
       "\n",
       "[5 rows x 23 columns]"
      ]
     },
     "execution_count": 10,
     "metadata": {},
     "output_type": "execute_result"
    }
   ],
   "source": [
    "df_counts.head()"
   ]
  },
  {
   "cell_type": "code",
   "execution_count": 12,
   "metadata": {
    "collapsed": false
   },
   "outputs": [],
   "source": [
    "# Print to file\n",
    "df_counts.to_csv('air_formalaction_for_sql.csv')"
   ]
  },
  {
   "cell_type": "code",
   "execution_count": 24,
   "metadata": {
    "collapsed": false
   },
   "outputs": [
    {
     "data": {
      "text/plain": [
       "Index(['2007_formalaction_Administrative - Formal',\n",
       "       '2007_formalaction_Judicial',\n",
       "       '2008_formalaction_Administrative - Formal',\n",
       "       '2008_formalaction_Judicial',\n",
       "       '2009_formalaction_Administrative - Formal',\n",
       "       '2009_formalaction_Judicial',\n",
       "       '2010_formalaction_Administrative - Formal',\n",
       "       '2010_formalaction_Judicial',\n",
       "       '2011_formalaction_Administrative - Formal',\n",
       "       '2011_formalaction_Judicial',\n",
       "       '2012_formalaction_Administrative - Formal',\n",
       "       '2012_formalaction_Judicial',\n",
       "       '2013_formalaction_Administrative - Formal',\n",
       "       '2013_formalaction_Judicial',\n",
       "       '2014_formalaction_Administrative - Formal',\n",
       "       '2014_formalaction_Judicial',\n",
       "       '2015_formalaction_Administrative - Formal',\n",
       "       '2015_formalaction_Judicial',\n",
       "       '2016_formalaction_Administrative - Formal',\n",
       "       '2016_formalaction_Judicial',\n",
       "       '2017_formalaction_Administrative - Formal',\n",
       "       '2017_formalaction_Judicial',\n",
       "       '2020_formalaction_Administrative - Formal'],\n",
       "      dtype='object')"
      ]
     },
     "execution_count": 24,
     "metadata": {},
     "output_type": "execute_result"
    }
   ],
   "source": [
    "df_counts.columns"
   ]
  },
  {
   "cell_type": "code",
   "execution_count": 25,
   "metadata": {
    "collapsed": true
   },
   "outputs": [],
   "source": [
    "# There is one continuous variable, which will be handled separately here"
   ]
  },
  {
   "cell_type": "code",
   "execution_count": 3,
   "metadata": {
    "collapsed": true
   },
   "outputs": [],
   "source": [
    "date_format = '%m/%d/%Y'\n",
    "date_col = 'SETTLEMENT_ENTERED_DATE'\n",
    "interest_var2 = ['PENALTY_AMOUNT']\n",
    "fac_id = 'PGM_SYS_ID'"
   ]
  },
  {
   "cell_type": "code",
   "execution_count": 4,
   "metadata": {
    "collapsed": true
   },
   "outputs": [],
   "source": [
    "# Add dates and filter\n",
    "filtered_df2 = processing.date_and_filter(formact_df, date_format, date_col, interest_var2, fac_id)"
   ]
  },
  {
   "cell_type": "code",
   "execution_count": 5,
   "metadata": {
    "collapsed": false
   },
   "outputs": [],
   "source": [
    "# More filter\n",
    "filtered_df2 = filtered_df2.drop('SETTLEMENT_ENTERED_DATE_datetime',1)"
   ]
  },
  {
   "cell_type": "code",
   "execution_count": 6,
   "metadata": {
    "collapsed": false
   },
   "outputs": [],
   "source": [
    "continuous_var = 'PENALTY_AMOUNT'\n",
    "year_var = 'SETTLEMENT_ENTERED_DATE_year'\n",
    "year_list = ['2007', '2008','2009','2010','2011','2012','2013','2014','2015','2016','2017']\n",
    "file = 'formalaction'"
   ]
  },
  {
   "cell_type": "code",
   "execution_count": 7,
   "metadata": {
    "collapsed": false
   },
   "outputs": [],
   "source": [
    "continuous_df = processing.sum_by_year_in_cols(filtered_df2, fac_id, year_list, continuous_var, year_var, file)"
   ]
  },
  {
   "cell_type": "code",
   "execution_count": 9,
   "metadata": {
    "collapsed": false
   },
   "outputs": [],
   "source": [
    "# Print to file\n",
    "continuous_df.to_csv('air_formalaction_penalty_for_sql.csv')"
   ]
  },
  {
   "cell_type": "code",
   "execution_count": 10,
   "metadata": {
    "collapsed": false
   },
   "outputs": [
    {
     "data": {
      "text/plain": [
       "Index(['PGM_SYS_ID', '2007_formalaction_SETTLEMENT_ENTERED_DATE_year',\n",
       "       '2008_formalaction_SETTLEMENT_ENTERED_DATE_year',\n",
       "       '2009_formalaction_SETTLEMENT_ENTERED_DATE_year',\n",
       "       '2010_formalaction_SETTLEMENT_ENTERED_DATE_year',\n",
       "       '2011_formalaction_SETTLEMENT_ENTERED_DATE_year',\n",
       "       '2012_formalaction_SETTLEMENT_ENTERED_DATE_year',\n",
       "       '2013_formalaction_SETTLEMENT_ENTERED_DATE_year',\n",
       "       '2014_formalaction_SETTLEMENT_ENTERED_DATE_year',\n",
       "       '2015_formalaction_SETTLEMENT_ENTERED_DATE_year',\n",
       "       '2016_formalaction_SETTLEMENT_ENTERED_DATE_year',\n",
       "       '2017_formalaction_SETTLEMENT_ENTERED_DATE_year'],\n",
       "      dtype='object')"
      ]
     },
     "execution_count": 10,
     "metadata": {},
     "output_type": "execute_result"
    }
   ],
   "source": [
    "continuous_df.columns"
   ]
  },
  {
   "cell_type": "code",
   "execution_count": null,
   "metadata": {
    "collapsed": true
   },
   "outputs": [],
   "source": []
  }
 ],
 "metadata": {
  "kernelspec": {
   "display_name": "Python 3",
   "language": "python",
   "name": "python3"
  },
  "language_info": {
   "codemirror_mode": {
    "name": "ipython",
    "version": 3
   },
   "file_extension": ".py",
   "mimetype": "text/x-python",
   "name": "python",
   "nbconvert_exporter": "python",
   "pygments_lexer": "ipython3",
   "version": "3.6.0"
  }
 },
 "nbformat": 4,
 "nbformat_minor": 2
}
