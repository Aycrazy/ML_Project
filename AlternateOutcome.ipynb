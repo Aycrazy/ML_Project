{
 "cells": [
  {
   "cell_type": "code",
   "execution_count": 83,
   "metadata": {
    "collapsed": true
   },
   "outputs": [],
   "source": [
    "from datetime import datetime as dt\n",
    "import pandas as pd\n",
    "import numpy as np"
   ]
  },
  {
   "cell_type": "code",
   "execution_count": 84,
   "metadata": {
    "collapsed": true
   },
   "outputs": [],
   "source": [
    "def convert_to_datetime(series_row, date_format):\n",
    "    if str(series_row) == 'nan':\n",
    "        return float('nan')\n",
    "    return dt.strptime(series_row, date_format)\n",
    "    \n",
    "\n",
    "def convert_to_month(series_row):\n",
    "    if str(series_row) == 'NaT' or str(series_row)== 'nan':\n",
    "        return float('nan')\n",
    "    else:\n",
    "        return str(series_row.month)\n",
    "\n",
    "def convert_to_year(series_row):\n",
    "    if str(series_row) == 'NaT' or str(series_row)== 'nan':\n",
    "        return float('nan')\n",
    "    else:\n",
    "        return str(series_row.year)\n",
    "    \n",
    "    \n",
    "def get_month_year_col(df, date_column, date_format):\n",
    "    df[date_column+'_datetime'] = df[date_column].apply(convert_to_datetime, date_format=date_format)\n",
    "    df[date_column+'_month'] = df[date_column+'_datetime'].apply(convert_to_month)\n",
    "    df[date_column+'_year'] = df[date_column+'_datetime'].apply(convert_to_year)\n",
    "    return df\n",
    "\n",
    "\n",
    "def date_and_filter(df, date_format, date_col, interest_var, fac_id):\n",
    "    #add datetime column\n",
    "    df = get_month_year_col(df, date_col, date_format)\n",
    "    \n",
    "    #filter year\n",
    "    year = dt.strptime('2006/12/31',\"%Y/%m/%d\")\n",
    "    df = df[df['SETTLEMENT_ENTERED_DATE_datetime'] > year ]\n",
    "    \n",
    "    #filter needed\n",
    "    date_time = date_col + '_datetime'\n",
    "    date_year = date_col + '_year'\n",
    "    df = df[interest_var + [fac_id] + [date_time] + [date_year]]\n",
    "    return df\n"
   ]
  },
  {
   "cell_type": "code",
   "execution_count": 85,
   "metadata": {
    "collapsed": true
   },
   "outputs": [],
   "source": [
    "violhist = pd.read_csv('ICIS-AIR_VIOLATION_HISTORY.csv')"
   ]
  },
  {
   "cell_type": "code",
   "execution_count": 86,
   "metadata": {
    "collapsed": false
   },
   "outputs": [
    {
     "data": {
      "text/plain": [
       "(59256, 14)"
      ]
     },
     "execution_count": 86,
     "metadata": {},
     "output_type": "execute_result"
    }
   ],
   "source": [
    "violhist.shape"
   ]
  },
  {
   "cell_type": "code",
   "execution_count": 87,
   "metadata": {
    "collapsed": true
   },
   "outputs": [],
   "source": [
    "fces = pd.read_csv('ICIS-AIR_FCES_PCES.csv')"
   ]
  },
  {
   "cell_type": "code",
   "execution_count": 88,
   "metadata": {
    "collapsed": false
   },
   "outputs": [
    {
     "data": {
      "text/plain": [
       "(1371977, 9)"
      ]
     },
     "execution_count": 88,
     "metadata": {},
     "output_type": "execute_result"
    }
   ],
   "source": [
    "fces.shape"
   ]
  },
  {
   "cell_type": "code",
   "execution_count": 89,
   "metadata": {
    "collapsed": false
   },
   "outputs": [],
   "source": [
    "violhist = violhist[violhist.ENF_RESPONSE_POLICY_CODE == 'HPV']"
   ]
  },
  {
   "cell_type": "code",
   "execution_count": 90,
   "metadata": {
    "collapsed": false
   },
   "outputs": [
    {
     "data": {
      "text/plain": [
       "(35489, 14)"
      ]
     },
     "execution_count": 90,
     "metadata": {},
     "output_type": "execute_result"
    }
   ],
   "source": [
    "violhist.shape"
   ]
  },
  {
   "cell_type": "code",
   "execution_count": 91,
   "metadata": {
    "collapsed": false
   },
   "outputs": [],
   "source": [
    "violhist = get_month_year_col(violhist, 'HPV_DAYZERO_DATE', '%m-%d-%Y') "
   ]
  },
  {
   "cell_type": "code",
   "execution_count": 92,
   "metadata": {
    "collapsed": true
   },
   "outputs": [],
   "source": [
    "fces = get_month_year_col(fces, 'ACTUAL_END_DATE', '%m-%d-%Y') "
   ]
  },
  {
   "cell_type": "code",
   "execution_count": 93,
   "metadata": {
    "collapsed": false
   },
   "outputs": [
    {
     "data": {
      "text/plain": [
       "Index(['PGM_SYS_ID', 'ACTIVITY_ID', 'STATE_EPA_FLAG', 'ACTIVITY_TYPE_CODE',\n",
       "       'ACTIVITY_TYPE_DESC', 'COMP_MONITOR_TYPE_CODE',\n",
       "       'COMP_MONITOR_TYPE_DESC', 'ACTUAL_END_DATE', 'PROGRAM_CODES',\n",
       "       'ACTUAL_END_DATE_datetime', 'ACTUAL_END_DATE_month',\n",
       "       'ACTUAL_END_DATE_year'],\n",
       "      dtype='object')"
      ]
     },
     "execution_count": 93,
     "metadata": {},
     "output_type": "execute_result"
    }
   ],
   "source": [
    "fces.columns"
   ]
  },
  {
   "cell_type": "code",
   "execution_count": 94,
   "metadata": {
    "collapsed": false
   },
   "outputs": [
    {
     "data": {
      "text/plain": [
       "Index(['PGM_SYS_ID', 'ACTIVITY_ID', 'AGENCY_TYPE_DESC', 'STATE_CODE',\n",
       "       'AIR_LCON_CODE', 'COMP_DETERMINATION_UID', 'ENF_RESPONSE_POLICY_CODE',\n",
       "       'PROGRAM_CODES', 'PROGRAM_DESCS', 'POLLUTANT_CODES', 'POLLUTANT_DESCS',\n",
       "       'EARLIEST_FRV_DETERM_DATE', 'HPV_DAYZERO_DATE', 'HPV_RESOLVED_DATE',\n",
       "       'HPV_DAYZERO_DATE_datetime', 'HPV_DAYZERO_DATE_month',\n",
       "       'HPV_DAYZERO_DATE_year'],\n",
       "      dtype='object')"
      ]
     },
     "execution_count": 94,
     "metadata": {},
     "output_type": "execute_result"
    }
   ],
   "source": [
    "violhist.columns"
   ]
  },
  {
   "cell_type": "code",
   "execution_count": 95,
   "metadata": {
    "collapsed": true
   },
   "outputs": [],
   "source": [
    "year1 = dt.strptime('2007/01/01',\"%Y/%m/%d\")\n",
    "year2 = dt.strptime('2016/12/31',\"%Y/%m/%d\")"
   ]
  },
  {
   "cell_type": "code",
   "execution_count": 96,
   "metadata": {
    "collapsed": false
   },
   "outputs": [],
   "source": [
    "violhist = violhist[violhist.HPV_DAYZERO_DATE_datetime >= year1]\n",
    "violhist = violhist[violhist.HPV_DAYZERO_DATE_datetime <= year2]"
   ]
  },
  {
   "cell_type": "code",
   "execution_count": 97,
   "metadata": {
    "collapsed": false
   },
   "outputs": [
    {
     "data": {
      "text/plain": [
       "(12273, 17)"
      ]
     },
     "execution_count": 97,
     "metadata": {},
     "output_type": "execute_result"
    }
   ],
   "source": [
    "violhist.shape"
   ]
  },
  {
   "cell_type": "code",
   "execution_count": 98,
   "metadata": {
    "collapsed": true
   },
   "outputs": [],
   "source": [
    "fces = fces[fces.ACTUAL_END_DATE_datetime >= year1]\n",
    "fces = fces[fces.ACTUAL_END_DATE_datetime <= year2]"
   ]
  },
  {
   "cell_type": "code",
   "execution_count": 99,
   "metadata": {
    "collapsed": false
   },
   "outputs": [
    {
     "data": {
      "text/plain": [
       "(687130, 12)"
      ]
     },
     "execution_count": 99,
     "metadata": {},
     "output_type": "execute_result"
    }
   ],
   "source": [
    "fces.shape"
   ]
  },
  {
   "cell_type": "code",
   "execution_count": 100,
   "metadata": {
    "collapsed": false
   },
   "outputs": [],
   "source": [
    "violhist = violhist.drop_duplicates(['PGM_SYS_ID', 'HPV_DAYZERO_DATE'], keep='first')"
   ]
  },
  {
   "cell_type": "code",
   "execution_count": 101,
   "metadata": {
    "collapsed": false
   },
   "outputs": [
    {
     "data": {
      "text/plain": [
       "(11224, 17)"
      ]
     },
     "execution_count": 101,
     "metadata": {},
     "output_type": "execute_result"
    }
   ],
   "source": [
    "violhist.shape"
   ]
  },
  {
   "cell_type": "code",
   "execution_count": 102,
   "metadata": {
    "collapsed": false
   },
   "outputs": [],
   "source": [
    "fces = fces.drop_duplicates(['PGM_SYS_ID','ACTUAL_END_DATE'], keep='first')"
   ]
  },
  {
   "cell_type": "code",
   "execution_count": 103,
   "metadata": {
    "collapsed": false
   },
   "outputs": [
    {
     "data": {
      "text/plain": [
       "(599365, 12)"
      ]
     },
     "execution_count": 103,
     "metadata": {},
     "output_type": "execute_result"
    }
   ],
   "source": [
    "fces.shape"
   ]
  },
  {
   "cell_type": "code",
   "execution_count": 104,
   "metadata": {
    "collapsed": false
   },
   "outputs": [],
   "source": [
    "merged_df = pd.merge(violhist, fces, how='right', left_on=['PGM_SYS_ID', 'HPV_DAYZERO_DATE'], right_on=['PGM_SYS_ID','ACTUAL_END_DATE'])"
   ]
  },
  {
   "cell_type": "code",
   "execution_count": 105,
   "metadata": {
    "collapsed": false
   },
   "outputs": [
    {
     "data": {
      "text/plain": [
       "(599365, 28)"
      ]
     },
     "execution_count": 105,
     "metadata": {},
     "output_type": "execute_result"
    }
   ],
   "source": [
    "merged_df.shape"
   ]
  },
  {
   "cell_type": "code",
   "execution_count": 124,
   "metadata": {
    "collapsed": false,
    "scrolled": false
   },
   "outputs": [
    {
     "data": {
      "text/html": [
       "<div>\n",
       "<table border=\"1\" class=\"dataframe\">\n",
       "  <thead>\n",
       "    <tr style=\"text-align: right;\">\n",
       "      <th></th>\n",
       "      <th>PGM_SYS_ID</th>\n",
       "      <th>ACTIVITY_ID_x</th>\n",
       "      <th>AGENCY_TYPE_DESC</th>\n",
       "      <th>STATE_CODE</th>\n",
       "      <th>AIR_LCON_CODE</th>\n",
       "      <th>COMP_DETERMINATION_UID</th>\n",
       "      <th>ENF_RESPONSE_POLICY_CODE</th>\n",
       "      <th>PROGRAM_CODES_x</th>\n",
       "      <th>PROGRAM_DESCS</th>\n",
       "      <th>POLLUTANT_CODES</th>\n",
       "      <th>...</th>\n",
       "      <th>STATE_EPA_FLAG</th>\n",
       "      <th>ACTIVITY_TYPE_CODE</th>\n",
       "      <th>ACTIVITY_TYPE_DESC</th>\n",
       "      <th>COMP_MONITOR_TYPE_CODE</th>\n",
       "      <th>COMP_MONITOR_TYPE_DESC</th>\n",
       "      <th>ACTUAL_END_DATE</th>\n",
       "      <th>PROGRAM_CODES_y</th>\n",
       "      <th>ACTUAL_END_DATE_datetime</th>\n",
       "      <th>ACTUAL_END_DATE_month</th>\n",
       "      <th>ACTUAL_END_DATE_year</th>\n",
       "    </tr>\n",
       "  </thead>\n",
       "  <tbody>\n",
       "    <tr>\n",
       "      <th>0</th>\n",
       "      <td>CT0000000900508907</td>\n",
       "      <td>3.400302e+09</td>\n",
       "      <td>State</td>\n",
       "      <td>CT</td>\n",
       "      <td>NaN</td>\n",
       "      <td>CT000A0000090050890700012</td>\n",
       "      <td>HPV</td>\n",
       "      <td>CAAFESOP</td>\n",
       "      <td>Federally-Enforceable State Operating Permit -...</td>\n",
       "      <td>300000329</td>\n",
       "      <td>...</td>\n",
       "      <td>S</td>\n",
       "      <td>INS</td>\n",
       "      <td>Inspection/Evaluation</td>\n",
       "      <td>PFF</td>\n",
       "      <td>PCE Off-Site</td>\n",
       "      <td>03-17-2010</td>\n",
       "      <td>CAAFESOP, CAASIP</td>\n",
       "      <td>2010-03-17 00:00:00</td>\n",
       "      <td>3</td>\n",
       "      <td>2010</td>\n",
       "    </tr>\n",
       "    <tr>\n",
       "      <th>1</th>\n",
       "      <td>CT0000000901100038</td>\n",
       "      <td>3.400302e+09</td>\n",
       "      <td>State</td>\n",
       "      <td>CT</td>\n",
       "      <td>NaN</td>\n",
       "      <td>CT000A0000090110003800165</td>\n",
       "      <td>HPV</td>\n",
       "      <td>CAASIP</td>\n",
       "      <td>State Implementation Plan for National Primary...</td>\n",
       "      <td>300000005</td>\n",
       "      <td>...</td>\n",
       "      <td>S</td>\n",
       "      <td>INS</td>\n",
       "      <td>Inspection/Evaluation</td>\n",
       "      <td>PFF</td>\n",
       "      <td>PCE Off-Site</td>\n",
       "      <td>10-01-2009</td>\n",
       "      <td>CAASIP</td>\n",
       "      <td>2009-10-01 00:00:00</td>\n",
       "      <td>10</td>\n",
       "      <td>2009</td>\n",
       "    </tr>\n",
       "    <tr>\n",
       "      <th>2</th>\n",
       "      <td>CT0000000900900016</td>\n",
       "      <td>3.400302e+09</td>\n",
       "      <td>State</td>\n",
       "      <td>CT</td>\n",
       "      <td>NaN</td>\n",
       "      <td>CT000A0000090090001600076</td>\n",
       "      <td>HPV</td>\n",
       "      <td>CAANSPS CAANSR CAASIP CAATVP</td>\n",
       "      <td>New Source Performance Standards New Source Re...</td>\n",
       "      <td>300000329</td>\n",
       "      <td>...</td>\n",
       "      <td>S</td>\n",
       "      <td>INS</td>\n",
       "      <td>Inspection/Evaluation</td>\n",
       "      <td>FOO</td>\n",
       "      <td>FCE On-Site</td>\n",
       "      <td>04-26-2010</td>\n",
       "      <td>CAANSPS, CAANSR, CAASIP, CAATVP</td>\n",
       "      <td>2010-04-26 00:00:00</td>\n",
       "      <td>4</td>\n",
       "      <td>2010</td>\n",
       "    </tr>\n",
       "    <tr>\n",
       "      <th>3</th>\n",
       "      <td>MA0000002511900766</td>\n",
       "      <td>3.400303e+09</td>\n",
       "      <td>State</td>\n",
       "      <td>MA</td>\n",
       "      <td>NaN</td>\n",
       "      <td>MA000A0000251190076690009</td>\n",
       "      <td>HPV</td>\n",
       "      <td>CAASIP CAATVP</td>\n",
       "      <td>State Implementation Plan for National Primary...</td>\n",
       "      <td>300000005</td>\n",
       "      <td>...</td>\n",
       "      <td>S</td>\n",
       "      <td>INS</td>\n",
       "      <td>Inspection/Evaluation</td>\n",
       "      <td>PFF</td>\n",
       "      <td>PCE Off-Site</td>\n",
       "      <td>09-13-2011</td>\n",
       "      <td>CAASIP, CAATVP</td>\n",
       "      <td>2011-09-13 00:00:00</td>\n",
       "      <td>9</td>\n",
       "      <td>2011</td>\n",
       "    </tr>\n",
       "    <tr>\n",
       "      <th>4</th>\n",
       "      <td>NH0000003301390006</td>\n",
       "      <td>3.400303e+09</td>\n",
       "      <td>State</td>\n",
       "      <td>NH</td>\n",
       "      <td>NaN</td>\n",
       "      <td>NH000A0000330139000600003</td>\n",
       "      <td>HPV</td>\n",
       "      <td>CAAFESOP CAASIP</td>\n",
       "      <td>Federally-Enforceable State Operating Permit -...</td>\n",
       "      <td>300000005</td>\n",
       "      <td>...</td>\n",
       "      <td>S</td>\n",
       "      <td>INS</td>\n",
       "      <td>Inspection/Evaluation</td>\n",
       "      <td>PFF</td>\n",
       "      <td>PCE Off-Site</td>\n",
       "      <td>04-06-2007</td>\n",
       "      <td>CAASIP</td>\n",
       "      <td>2007-04-06 00:00:00</td>\n",
       "      <td>4</td>\n",
       "      <td>2007</td>\n",
       "    </tr>\n",
       "  </tbody>\n",
       "</table>\n",
       "<p>5 rows × 28 columns</p>\n",
       "</div>"
      ],
      "text/plain": [
       "           PGM_SYS_ID  ACTIVITY_ID_x AGENCY_TYPE_DESC STATE_CODE  \\\n",
       "0  CT0000000900508907   3.400302e+09            State         CT   \n",
       "1  CT0000000901100038   3.400302e+09            State         CT   \n",
       "2  CT0000000900900016   3.400302e+09            State         CT   \n",
       "3  MA0000002511900766   3.400303e+09            State         MA   \n",
       "4  NH0000003301390006   3.400303e+09            State         NH   \n",
       "\n",
       "  AIR_LCON_CODE     COMP_DETERMINATION_UID ENF_RESPONSE_POLICY_CODE  \\\n",
       "0           NaN  CT000A0000090050890700012                      HPV   \n",
       "1           NaN  CT000A0000090110003800165                      HPV   \n",
       "2           NaN  CT000A0000090090001600076                      HPV   \n",
       "3           NaN  MA000A0000251190076690009                      HPV   \n",
       "4           NaN  NH000A0000330139000600003                      HPV   \n",
       "\n",
       "                PROGRAM_CODES_x  \\\n",
       "0                      CAAFESOP   \n",
       "1                        CAASIP   \n",
       "2  CAANSPS CAANSR CAASIP CAATVP   \n",
       "3                 CAASIP CAATVP   \n",
       "4               CAAFESOP CAASIP   \n",
       "\n",
       "                                       PROGRAM_DESCS POLLUTANT_CODES  \\\n",
       "0  Federally-Enforceable State Operating Permit -...       300000329   \n",
       "1  State Implementation Plan for National Primary...       300000005   \n",
       "2  New Source Performance Standards New Source Re...       300000329   \n",
       "3  State Implementation Plan for National Primary...       300000005   \n",
       "4  Federally-Enforceable State Operating Permit -...       300000005   \n",
       "\n",
       "          ...          STATE_EPA_FLAG ACTIVITY_TYPE_CODE  \\\n",
       "0         ...                       S                INS   \n",
       "1         ...                       S                INS   \n",
       "2         ...                       S                INS   \n",
       "3         ...                       S                INS   \n",
       "4         ...                       S                INS   \n",
       "\n",
       "      ACTIVITY_TYPE_DESC COMP_MONITOR_TYPE_CODE COMP_MONITOR_TYPE_DESC  \\\n",
       "0  Inspection/Evaluation                    PFF           PCE Off-Site   \n",
       "1  Inspection/Evaluation                    PFF           PCE Off-Site   \n",
       "2  Inspection/Evaluation                    FOO            FCE On-Site   \n",
       "3  Inspection/Evaluation                    PFF           PCE Off-Site   \n",
       "4  Inspection/Evaluation                    PFF           PCE Off-Site   \n",
       "\n",
       "  ACTUAL_END_DATE                  PROGRAM_CODES_y  ACTUAL_END_DATE_datetime  \\\n",
       "0      03-17-2010                 CAAFESOP, CAASIP       2010-03-17 00:00:00   \n",
       "1      10-01-2009                           CAASIP       2009-10-01 00:00:00   \n",
       "2      04-26-2010  CAANSPS, CAANSR, CAASIP, CAATVP       2010-04-26 00:00:00   \n",
       "3      09-13-2011                   CAASIP, CAATVP       2011-09-13 00:00:00   \n",
       "4      04-06-2007                           CAASIP       2007-04-06 00:00:00   \n",
       "\n",
       "  ACTUAL_END_DATE_month ACTUAL_END_DATE_year  \n",
       "0                     3                 2010  \n",
       "1                    10                 2009  \n",
       "2                     4                 2010  \n",
       "3                     9                 2011  \n",
       "4                     4                 2007  \n",
       "\n",
       "[5 rows x 28 columns]"
      ]
     },
     "execution_count": 124,
     "metadata": {},
     "output_type": "execute_result"
    }
   ],
   "source": [
    "merged_df.head()"
   ]
  },
  {
   "cell_type": "code",
   "execution_count": 126,
   "metadata": {
    "collapsed": false
   },
   "outputs": [
    {
     "name": "stdout",
     "output_type": "stream",
     "text": [
      "2450 2450\n"
     ]
    }
   ],
   "source": [
    "print(merged_df.ACTIVITY_ID_x.count(), merged_df.HPV_DAYZERO_DATE.count())"
   ]
  },
  {
   "cell_type": "code",
   "execution_count": 108,
   "metadata": {
    "collapsed": false
   },
   "outputs": [],
   "source": [
    "merged = merged_df[['PGM_SYS_ID', 'ACTIVITY_ID_x', 'ACTUAL_END_DATE_year']]"
   ]
  },
  {
   "cell_type": "code",
   "execution_count": 109,
   "metadata": {
    "collapsed": false
   },
   "outputs": [
    {
     "data": {
      "text/plain": [
       "0         3.400302e+09\n",
       "1         3.400302e+09\n",
       "2         3.400302e+09\n",
       "3         3.400303e+09\n",
       "4         3.400303e+09\n",
       "5         3.400305e+09\n",
       "6         3.400305e+09\n",
       "7         3.400307e+09\n",
       "8         3.400308e+09\n",
       "9         3.400308e+09\n",
       "10        3.400309e+09\n",
       "11        3.400308e+09\n",
       "12        3.400308e+09\n",
       "13        3.400308e+09\n",
       "14        3.400308e+09\n",
       "15        3.400308e+09\n",
       "16        3.400308e+09\n",
       "17        3.400317e+09\n",
       "18        3.400316e+09\n",
       "19        3.400318e+09\n",
       "20        3.400312e+09\n",
       "21        3.400309e+09\n",
       "22        3.400309e+09\n",
       "23        3.400309e+09\n",
       "24        3.400309e+09\n",
       "25        3.400309e+09\n",
       "26        3.400310e+09\n",
       "27        3.400310e+09\n",
       "28        3.400309e+09\n",
       "29        3.400309e+09\n",
       "              ...     \n",
       "599335             NaN\n",
       "599336             NaN\n",
       "599337             NaN\n",
       "599338             NaN\n",
       "599339             NaN\n",
       "599340             NaN\n",
       "599341             NaN\n",
       "599342             NaN\n",
       "599343             NaN\n",
       "599344             NaN\n",
       "599345             NaN\n",
       "599346             NaN\n",
       "599347             NaN\n",
       "599348             NaN\n",
       "599349             NaN\n",
       "599350             NaN\n",
       "599351             NaN\n",
       "599352             NaN\n",
       "599353             NaN\n",
       "599354             NaN\n",
       "599355             NaN\n",
       "599356             NaN\n",
       "599357             NaN\n",
       "599358             NaN\n",
       "599359             NaN\n",
       "599360             NaN\n",
       "599361             NaN\n",
       "599362             NaN\n",
       "599363             NaN\n",
       "599364             NaN\n",
       "Name: ACTIVITY_ID_x, dtype: float64"
      ]
     },
     "execution_count": 109,
     "metadata": {},
     "output_type": "execute_result"
    }
   ],
   "source": [
    "merged.ACTIVITY_ID_x"
   ]
  },
  {
   "cell_type": "code",
   "execution_count": 110,
   "metadata": {
    "collapsed": false
   },
   "outputs": [
    {
     "name": "stderr",
     "output_type": "stream",
     "text": [
      "C:\\ProgramData\\Anaconda3\\lib\\site-packages\\pandas\\core\\generic.py:3295: SettingWithCopyWarning: \n",
      "A value is trying to be set on a copy of a slice from a DataFrame\n",
      "\n",
      "See the caveats in the documentation: http://pandas.pydata.org/pandas-docs/stable/indexing.html#indexing-view-versus-copy\n",
      "  self._update_inplace(new_data)\n"
     ]
    }
   ],
   "source": [
    "merged.ACTIVITY_ID_x.fillna(0, inplace=True)"
   ]
  },
  {
   "cell_type": "code",
   "execution_count": 111,
   "metadata": {
    "collapsed": false
   },
   "outputs": [
    {
     "name": "stderr",
     "output_type": "stream",
     "text": [
      "C:\\ProgramData\\Anaconda3\\lib\\site-packages\\pandas\\core\\indexing.py:477: SettingWithCopyWarning: \n",
      "A value is trying to be set on a copy of a slice from a DataFrame.\n",
      "Try using .loc[row_indexer,col_indexer] = value instead\n",
      "\n",
      "See the caveats in the documentation: http://pandas.pydata.org/pandas-docs/stable/indexing.html#indexing-view-versus-copy\n",
      "  self.obj[item] = s\n"
     ]
    }
   ],
   "source": [
    "merged.ix[merged.ACTIVITY_ID_x > 1, 'ACTIVITY_ID_x'] = 1"
   ]
  },
  {
   "cell_type": "code",
   "execution_count": 112,
   "metadata": {
    "collapsed": false
   },
   "outputs": [
    {
     "data": {
      "text/html": [
       "<div>\n",
       "<table border=\"1\" class=\"dataframe\">\n",
       "  <thead>\n",
       "    <tr style=\"text-align: right;\">\n",
       "      <th></th>\n",
       "      <th>PGM_SYS_ID</th>\n",
       "      <th>ACTIVITY_ID_x</th>\n",
       "      <th>ACTUAL_END_DATE_year</th>\n",
       "    </tr>\n",
       "  </thead>\n",
       "  <tbody>\n",
       "    <tr>\n",
       "      <th>0</th>\n",
       "      <td>CT0000000900508907</td>\n",
       "      <td>1.0</td>\n",
       "      <td>2010</td>\n",
       "    </tr>\n",
       "    <tr>\n",
       "      <th>1</th>\n",
       "      <td>CT0000000901100038</td>\n",
       "      <td>1.0</td>\n",
       "      <td>2009</td>\n",
       "    </tr>\n",
       "    <tr>\n",
       "      <th>2</th>\n",
       "      <td>CT0000000900900016</td>\n",
       "      <td>1.0</td>\n",
       "      <td>2010</td>\n",
       "    </tr>\n",
       "    <tr>\n",
       "      <th>3</th>\n",
       "      <td>MA0000002511900766</td>\n",
       "      <td>1.0</td>\n",
       "      <td>2011</td>\n",
       "    </tr>\n",
       "    <tr>\n",
       "      <th>4</th>\n",
       "      <td>NH0000003301390006</td>\n",
       "      <td>1.0</td>\n",
       "      <td>2007</td>\n",
       "    </tr>\n",
       "  </tbody>\n",
       "</table>\n",
       "</div>"
      ],
      "text/plain": [
       "           PGM_SYS_ID  ACTIVITY_ID_x ACTUAL_END_DATE_year\n",
       "0  CT0000000900508907            1.0                 2010\n",
       "1  CT0000000901100038            1.0                 2009\n",
       "2  CT0000000900900016            1.0                 2010\n",
       "3  MA0000002511900766            1.0                 2011\n",
       "4  NH0000003301390006            1.0                 2007"
      ]
     },
     "execution_count": 112,
     "metadata": {},
     "output_type": "execute_result"
    }
   ],
   "source": [
    "merged.head()"
   ]
  },
  {
   "cell_type": "code",
   "execution_count": 113,
   "metadata": {
    "collapsed": false
   },
   "outputs": [
    {
     "data": {
      "text/plain": [
       "(599365, 3)"
      ]
     },
     "execution_count": 113,
     "metadata": {},
     "output_type": "execute_result"
    }
   ],
   "source": [
    "merged.shape"
   ]
  },
  {
   "cell_type": "code",
   "execution_count": 114,
   "metadata": {
    "collapsed": false
   },
   "outputs": [],
   "source": [
    "merged_group = merged.groupby(['PGM_SYS_ID', 'ACTUAL_END_DATE_year']).sum().reset_index()"
   ]
  },
  {
   "cell_type": "code",
   "execution_count": 115,
   "metadata": {
    "collapsed": false
   },
   "outputs": [
    {
     "data": {
      "text/html": [
       "<div>\n",
       "<table border=\"1\" class=\"dataframe\">\n",
       "  <thead>\n",
       "    <tr style=\"text-align: right;\">\n",
       "      <th></th>\n",
       "      <th>PGM_SYS_ID</th>\n",
       "      <th>ACTUAL_END_DATE_year</th>\n",
       "      <th>ACTIVITY_ID_x</th>\n",
       "    </tr>\n",
       "  </thead>\n",
       "  <tbody>\n",
       "    <tr>\n",
       "      <th>0</th>\n",
       "      <td>020000000003605590</td>\n",
       "      <td>2015</td>\n",
       "      <td>0.0</td>\n",
       "    </tr>\n",
       "    <tr>\n",
       "      <th>1</th>\n",
       "      <td>020000003400500100</td>\n",
       "      <td>2014</td>\n",
       "      <td>0.0</td>\n",
       "    </tr>\n",
       "    <tr>\n",
       "      <th>2</th>\n",
       "      <td>020000003400546143</td>\n",
       "      <td>2010</td>\n",
       "      <td>0.0</td>\n",
       "    </tr>\n",
       "    <tr>\n",
       "      <th>3</th>\n",
       "      <td>020000003400710001</td>\n",
       "      <td>2015</td>\n",
       "      <td>0.0</td>\n",
       "    </tr>\n",
       "    <tr>\n",
       "      <th>4</th>\n",
       "      <td>020000003400900010</td>\n",
       "      <td>2013</td>\n",
       "      <td>0.0</td>\n",
       "    </tr>\n",
       "  </tbody>\n",
       "</table>\n",
       "</div>"
      ],
      "text/plain": [
       "           PGM_SYS_ID ACTUAL_END_DATE_year  ACTIVITY_ID_x\n",
       "0  020000000003605590                 2015            0.0\n",
       "1  020000003400500100                 2014            0.0\n",
       "2  020000003400546143                 2010            0.0\n",
       "3  020000003400710001                 2015            0.0\n",
       "4  020000003400900010                 2013            0.0"
      ]
     },
     "execution_count": 115,
     "metadata": {},
     "output_type": "execute_result"
    }
   ],
   "source": [
    "merged_group.head()"
   ]
  },
  {
   "cell_type": "code",
   "execution_count": 116,
   "metadata": {
    "collapsed": false
   },
   "outputs": [],
   "source": [
    "merged_group.rename(columns={'ACTUAL_END_DATE_year': 'Year', 'ACTIVITY_ID_x': 'Outcome'}, inplace=True)"
   ]
  },
  {
   "cell_type": "code",
   "execution_count": 117,
   "metadata": {
    "collapsed": false
   },
   "outputs": [
    {
     "data": {
      "text/html": [
       "<div>\n",
       "<table border=\"1\" class=\"dataframe\">\n",
       "  <thead>\n",
       "    <tr style=\"text-align: right;\">\n",
       "      <th></th>\n",
       "      <th>PGM_SYS_ID</th>\n",
       "      <th>Year</th>\n",
       "      <th>Outcome</th>\n",
       "    </tr>\n",
       "  </thead>\n",
       "  <tbody>\n",
       "    <tr>\n",
       "      <th>0</th>\n",
       "      <td>020000000003605590</td>\n",
       "      <td>2015</td>\n",
       "      <td>0.0</td>\n",
       "    </tr>\n",
       "    <tr>\n",
       "      <th>1</th>\n",
       "      <td>020000003400500100</td>\n",
       "      <td>2014</td>\n",
       "      <td>0.0</td>\n",
       "    </tr>\n",
       "    <tr>\n",
       "      <th>2</th>\n",
       "      <td>020000003400546143</td>\n",
       "      <td>2010</td>\n",
       "      <td>0.0</td>\n",
       "    </tr>\n",
       "    <tr>\n",
       "      <th>3</th>\n",
       "      <td>020000003400710001</td>\n",
       "      <td>2015</td>\n",
       "      <td>0.0</td>\n",
       "    </tr>\n",
       "    <tr>\n",
       "      <th>4</th>\n",
       "      <td>020000003400900010</td>\n",
       "      <td>2013</td>\n",
       "      <td>0.0</td>\n",
       "    </tr>\n",
       "  </tbody>\n",
       "</table>\n",
       "</div>"
      ],
      "text/plain": [
       "           PGM_SYS_ID  Year  Outcome\n",
       "0  020000000003605590  2015      0.0\n",
       "1  020000003400500100  2014      0.0\n",
       "2  020000003400546143  2010      0.0\n",
       "3  020000003400710001  2015      0.0\n",
       "4  020000003400900010  2013      0.0"
      ]
     },
     "execution_count": 117,
     "metadata": {},
     "output_type": "execute_result"
    }
   ],
   "source": [
    "merged_group.head()"
   ]
  },
  {
   "cell_type": "code",
   "execution_count": null,
   "metadata": {
    "collapsed": true
   },
   "outputs": [],
   "source": [
    "\n"
   ]
  },
  {
   "cell_type": "code",
   "execution_count": null,
   "metadata": {
    "collapsed": true
   },
   "outputs": [],
   "source": []
  },
  {
   "cell_type": "code",
   "execution_count": 118,
   "metadata": {
    "collapsed": false
   },
   "outputs": [
    {
     "data": {
      "text/plain": [
       "0.0     338007\n",
       "1.0       1747\n",
       "2.0        142\n",
       "3.0         42\n",
       "4.0         24\n",
       "5.0         11\n",
       "6.0          6\n",
       "9.0          4\n",
       "7.0          3\n",
       "8.0          3\n",
       "14.0         1\n",
       "11.0         1\n",
       "Name: Outcome, dtype: int64"
      ]
     },
     "execution_count": 118,
     "metadata": {},
     "output_type": "execute_result"
    }
   ],
   "source": [
    "merged_group.Outcome.value_counts()"
   ]
  },
  {
   "cell_type": "code",
   "execution_count": 119,
   "metadata": {
    "collapsed": false
   },
   "outputs": [
    {
     "data": {
      "text/plain": [
       "(339991, 3)"
      ]
     },
     "execution_count": 119,
     "metadata": {},
     "output_type": "execute_result"
    }
   ],
   "source": [
    "merged_group.shape"
   ]
  },
  {
   "cell_type": "code",
   "execution_count": null,
   "metadata": {
    "collapsed": true
   },
   "outputs": [],
   "source": []
  },
  {
   "cell_type": "code",
   "execution_count": null,
   "metadata": {
    "collapsed": true
   },
   "outputs": [],
   "source": []
  },
  {
   "cell_type": "code",
   "execution_count": null,
   "metadata": {
    "collapsed": true
   },
   "outputs": [],
   "source": []
  },
  {
   "cell_type": "code",
   "execution_count": null,
   "metadata": {
    "collapsed": true
   },
   "outputs": [],
   "source": []
  },
  {
   "cell_type": "code",
   "execution_count": 120,
   "metadata": {
    "collapsed": false
   },
   "outputs": [
    {
     "data": {
      "text/html": [
       "<div>\n",
       "<table border=\"1\" class=\"dataframe\">\n",
       "  <thead>\n",
       "    <tr style=\"text-align: right;\">\n",
       "      <th></th>\n",
       "      <th>PGM_SYS_ID</th>\n",
       "      <th>Year</th>\n",
       "      <th>Outcome</th>\n",
       "    </tr>\n",
       "  </thead>\n",
       "  <tbody>\n",
       "    <tr>\n",
       "      <th>0</th>\n",
       "      <td>020000000003605590</td>\n",
       "      <td>2015</td>\n",
       "      <td>0.0</td>\n",
       "    </tr>\n",
       "    <tr>\n",
       "      <th>1</th>\n",
       "      <td>020000003400500100</td>\n",
       "      <td>2014</td>\n",
       "      <td>0.0</td>\n",
       "    </tr>\n",
       "    <tr>\n",
       "      <th>2</th>\n",
       "      <td>020000003400546143</td>\n",
       "      <td>2010</td>\n",
       "      <td>0.0</td>\n",
       "    </tr>\n",
       "    <tr>\n",
       "      <th>3</th>\n",
       "      <td>020000003400710001</td>\n",
       "      <td>2015</td>\n",
       "      <td>0.0</td>\n",
       "    </tr>\n",
       "    <tr>\n",
       "      <th>4</th>\n",
       "      <td>020000003400900010</td>\n",
       "      <td>2013</td>\n",
       "      <td>0.0</td>\n",
       "    </tr>\n",
       "  </tbody>\n",
       "</table>\n",
       "</div>"
      ],
      "text/plain": [
       "           PGM_SYS_ID  Year  Outcome\n",
       "0  020000000003605590  2015      0.0\n",
       "1  020000003400500100  2014      0.0\n",
       "2  020000003400546143  2010      0.0\n",
       "3  020000003400710001  2015      0.0\n",
       "4  020000003400900010  2013      0.0"
      ]
     },
     "execution_count": 120,
     "metadata": {},
     "output_type": "execute_result"
    }
   ],
   "source": [
    "merged_group.head()"
   ]
  },
  {
   "cell_type": "code",
   "execution_count": 121,
   "metadata": {
    "collapsed": false
   },
   "outputs": [],
   "source": [
    "merged_group.ix[merged_group.Outcome > 1, 'Outcome'] = 1"
   ]
  },
  {
   "cell_type": "code",
   "execution_count": 122,
   "metadata": {
    "collapsed": true
   },
   "outputs": [],
   "source": [
    "final = pd.merge(merged, merged_group, how='left', left_on=['PGM_SYS_ID','ACTUAL_END_DATE_year'], right_on=['PGM_SYS_ID','Year'])"
   ]
  },
  {
   "cell_type": "code",
   "execution_count": 180,
   "metadata": {
    "collapsed": true
   },
   "outputs": [],
   "source": [
    "final = final[['PGM_SYS_ID','ACTIVITY_ID_x','Year']]"
   ]
  },
  {
   "cell_type": "code",
   "execution_count": 181,
   "metadata": {
    "collapsed": false
   },
   "outputs": [],
   "source": [
    "final.ACTIVITY_ID_x.fillna(0, inplace = True)"
   ]
  },
  {
   "cell_type": "code",
   "execution_count": 182,
   "metadata": {
    "collapsed": false
   },
   "outputs": [],
   "source": [
    "final.ix[final.ACTIVITY_ID_x > 1, 'ACTIVITY_ID_x'] = 1"
   ]
  },
  {
   "cell_type": "code",
   "execution_count": 183,
   "metadata": {
    "collapsed": false
   },
   "outputs": [],
   "source": [
    "final.rename(columns={'ACTIVITY_ID_x': 'Outcome'}, inplace=True)"
   ]
  },
  {
   "cell_type": "code",
   "execution_count": 184,
   "metadata": {
    "collapsed": false
   },
   "outputs": [
    {
     "data": {
      "text/html": [
       "<div>\n",
       "<table border=\"1\" class=\"dataframe\">\n",
       "  <thead>\n",
       "    <tr style=\"text-align: right;\">\n",
       "      <th></th>\n",
       "      <th>PGM_SYS_ID</th>\n",
       "      <th>Outcome</th>\n",
       "      <th>Year</th>\n",
       "    </tr>\n",
       "  </thead>\n",
       "  <tbody>\n",
       "    <tr>\n",
       "      <th>0</th>\n",
       "      <td>CT0000000900508907</td>\n",
       "      <td>1.0</td>\n",
       "      <td>2010</td>\n",
       "    </tr>\n",
       "    <tr>\n",
       "      <th>1</th>\n",
       "      <td>CT0000000900900016</td>\n",
       "      <td>1.0</td>\n",
       "      <td>2010</td>\n",
       "    </tr>\n",
       "    <tr>\n",
       "      <th>2</th>\n",
       "      <td>MA0000002511900766</td>\n",
       "      <td>1.0</td>\n",
       "      <td>2011</td>\n",
       "    </tr>\n",
       "    <tr>\n",
       "      <th>3</th>\n",
       "      <td>NY0000002620500175</td>\n",
       "      <td>1.0</td>\n",
       "      <td>2011</td>\n",
       "    </tr>\n",
       "    <tr>\n",
       "      <th>4</th>\n",
       "      <td>NY0000002600500578</td>\n",
       "      <td>1.0</td>\n",
       "      <td>2011</td>\n",
       "    </tr>\n",
       "    <tr>\n",
       "      <th>5</th>\n",
       "      <td>NY0000002620100208</td>\n",
       "      <td>1.0</td>\n",
       "      <td>2011</td>\n",
       "    </tr>\n",
       "    <tr>\n",
       "      <th>6</th>\n",
       "      <td>NY0000002630100392</td>\n",
       "      <td>1.0</td>\n",
       "      <td>2011</td>\n",
       "    </tr>\n",
       "    <tr>\n",
       "      <th>7</th>\n",
       "      <td>VA0000005102300039</td>\n",
       "      <td>1.0</td>\n",
       "      <td>2011</td>\n",
       "    </tr>\n",
       "    <tr>\n",
       "      <th>8</th>\n",
       "      <td>NY0000002620600068</td>\n",
       "      <td>1.0</td>\n",
       "      <td>2010</td>\n",
       "    </tr>\n",
       "    <tr>\n",
       "      <th>9</th>\n",
       "      <td>NY0000002600500572</td>\n",
       "      <td>1.0</td>\n",
       "      <td>2010</td>\n",
       "    </tr>\n",
       "    <tr>\n",
       "      <th>10</th>\n",
       "      <td>MD0000002404300005</td>\n",
       "      <td>1.0</td>\n",
       "      <td>2011</td>\n",
       "    </tr>\n",
       "    <tr>\n",
       "      <th>11</th>\n",
       "      <td>MD0000002403300667</td>\n",
       "      <td>1.0</td>\n",
       "      <td>2012</td>\n",
       "    </tr>\n",
       "    <tr>\n",
       "      <th>12</th>\n",
       "      <td>PA000262770</td>\n",
       "      <td>1.0</td>\n",
       "      <td>2012</td>\n",
       "    </tr>\n",
       "    <tr>\n",
       "      <th>13</th>\n",
       "      <td>NC0000003706500179</td>\n",
       "      <td>1.0</td>\n",
       "      <td>2012</td>\n",
       "    </tr>\n",
       "    <tr>\n",
       "      <th>14</th>\n",
       "      <td>IL000203809AAD</td>\n",
       "      <td>1.0</td>\n",
       "      <td>2012</td>\n",
       "    </tr>\n",
       "    <tr>\n",
       "      <th>15</th>\n",
       "      <td>OH0000000370010023</td>\n",
       "      <td>1.0</td>\n",
       "      <td>2010</td>\n",
       "    </tr>\n",
       "    <tr>\n",
       "      <th>16</th>\n",
       "      <td>KYJFC0002111100189</td>\n",
       "      <td>1.0</td>\n",
       "      <td>2010</td>\n",
       "    </tr>\n",
       "    <tr>\n",
       "      <th>17</th>\n",
       "      <td>ALJEF0000107300052</td>\n",
       "      <td>1.0</td>\n",
       "      <td>2010</td>\n",
       "    </tr>\n",
       "    <tr>\n",
       "      <th>18</th>\n",
       "      <td>IL000031600GXD</td>\n",
       "      <td>1.0</td>\n",
       "      <td>2010</td>\n",
       "    </tr>\n",
       "    <tr>\n",
       "      <th>19</th>\n",
       "      <td>IL000197815AAR</td>\n",
       "      <td>1.0</td>\n",
       "      <td>2011</td>\n",
       "    </tr>\n",
       "    <tr>\n",
       "      <th>20</th>\n",
       "      <td>IL000143805AAB</td>\n",
       "      <td>1.0</td>\n",
       "      <td>2011</td>\n",
       "    </tr>\n",
       "    <tr>\n",
       "      <th>21</th>\n",
       "      <td>IL000141817AAI</td>\n",
       "      <td>1.0</td>\n",
       "      <td>2012</td>\n",
       "    </tr>\n",
       "    <tr>\n",
       "      <th>22</th>\n",
       "      <td>IL000141050ABP</td>\n",
       "      <td>1.0</td>\n",
       "      <td>2012</td>\n",
       "    </tr>\n",
       "    <tr>\n",
       "      <th>23</th>\n",
       "      <td>IL000031600ADY</td>\n",
       "      <td>1.0</td>\n",
       "      <td>2010</td>\n",
       "    </tr>\n",
       "    <tr>\n",
       "      <th>24</th>\n",
       "      <td>TN0000004701700012</td>\n",
       "      <td>1.0</td>\n",
       "      <td>2011</td>\n",
       "    </tr>\n",
       "    <tr>\n",
       "      <th>25</th>\n",
       "      <td>TN0000004711700061</td>\n",
       "      <td>1.0</td>\n",
       "      <td>2010</td>\n",
       "    </tr>\n",
       "    <tr>\n",
       "      <th>26</th>\n",
       "      <td>MN0000002714100004</td>\n",
       "      <td>1.0</td>\n",
       "      <td>2010</td>\n",
       "    </tr>\n",
       "    <tr>\n",
       "      <th>27</th>\n",
       "      <td>OH0000000322010062</td>\n",
       "      <td>1.0</td>\n",
       "      <td>2010</td>\n",
       "    </tr>\n",
       "    <tr>\n",
       "      <th>28</th>\n",
       "      <td>OH0000000121010005</td>\n",
       "      <td>1.0</td>\n",
       "      <td>2012</td>\n",
       "    </tr>\n",
       "    <tr>\n",
       "      <th>29</th>\n",
       "      <td>IL000043419AAR</td>\n",
       "      <td>1.0</td>\n",
       "      <td>2010</td>\n",
       "    </tr>\n",
       "    <tr>\n",
       "      <th>...</th>\n",
       "      <td>...</td>\n",
       "      <td>...</td>\n",
       "      <td>...</td>\n",
       "    </tr>\n",
       "    <tr>\n",
       "      <th>188916</th>\n",
       "      <td>TN0000004709900055</td>\n",
       "      <td>0.0</td>\n",
       "      <td>2012</td>\n",
       "    </tr>\n",
       "    <tr>\n",
       "      <th>188917</th>\n",
       "      <td>TN0000004709900055</td>\n",
       "      <td>0.0</td>\n",
       "      <td>2011</td>\n",
       "    </tr>\n",
       "    <tr>\n",
       "      <th>188918</th>\n",
       "      <td>TN0000004716300052</td>\n",
       "      <td>0.0</td>\n",
       "      <td>2010</td>\n",
       "    </tr>\n",
       "    <tr>\n",
       "      <th>188919</th>\n",
       "      <td>TN0000004717300036</td>\n",
       "      <td>0.0</td>\n",
       "      <td>2010</td>\n",
       "    </tr>\n",
       "    <tr>\n",
       "      <th>188920</th>\n",
       "      <td>TN0000004717300036</td>\n",
       "      <td>0.0</td>\n",
       "      <td>2011</td>\n",
       "    </tr>\n",
       "    <tr>\n",
       "      <th>188921</th>\n",
       "      <td>TN0000004717300036</td>\n",
       "      <td>0.0</td>\n",
       "      <td>2012</td>\n",
       "    </tr>\n",
       "    <tr>\n",
       "      <th>188922</th>\n",
       "      <td>TN0000004717300036</td>\n",
       "      <td>0.0</td>\n",
       "      <td>2012</td>\n",
       "    </tr>\n",
       "    <tr>\n",
       "      <th>188923</th>\n",
       "      <td>TN0000004717700009</td>\n",
       "      <td>0.0</td>\n",
       "      <td>2012</td>\n",
       "    </tr>\n",
       "    <tr>\n",
       "      <th>188924</th>\n",
       "      <td>NY0000002620500202</td>\n",
       "      <td>0.0</td>\n",
       "      <td>2010</td>\n",
       "    </tr>\n",
       "    <tr>\n",
       "      <th>188925</th>\n",
       "      <td>NY0000002620501562</td>\n",
       "      <td>0.0</td>\n",
       "      <td>2011</td>\n",
       "    </tr>\n",
       "    <tr>\n",
       "      <th>188926</th>\n",
       "      <td>NY0000003335200291</td>\n",
       "      <td>0.0</td>\n",
       "      <td>2012</td>\n",
       "    </tr>\n",
       "    <tr>\n",
       "      <th>188927</th>\n",
       "      <td>NY0000003514800070</td>\n",
       "      <td>0.0</td>\n",
       "      <td>2011</td>\n",
       "    </tr>\n",
       "    <tr>\n",
       "      <th>188928</th>\n",
       "      <td>NY0000006302200014</td>\n",
       "      <td>0.0</td>\n",
       "      <td>2011</td>\n",
       "    </tr>\n",
       "    <tr>\n",
       "      <th>188929</th>\n",
       "      <td>NY0000006402600001</td>\n",
       "      <td>0.0</td>\n",
       "      <td>2012</td>\n",
       "    </tr>\n",
       "    <tr>\n",
       "      <th>188930</th>\n",
       "      <td>NY0000008073400042</td>\n",
       "      <td>0.0</td>\n",
       "      <td>2011</td>\n",
       "    </tr>\n",
       "    <tr>\n",
       "      <th>188931</th>\n",
       "      <td>NY0000008261400203</td>\n",
       "      <td>0.0</td>\n",
       "      <td>2011</td>\n",
       "    </tr>\n",
       "    <tr>\n",
       "      <th>188932</th>\n",
       "      <td>NY0000008261400341</td>\n",
       "      <td>0.0</td>\n",
       "      <td>2012</td>\n",
       "    </tr>\n",
       "    <tr>\n",
       "      <th>188933</th>\n",
       "      <td>NY0000008261400341</td>\n",
       "      <td>0.0</td>\n",
       "      <td>2012</td>\n",
       "    </tr>\n",
       "    <tr>\n",
       "      <th>188934</th>\n",
       "      <td>NY0000008261400448</td>\n",
       "      <td>0.0</td>\n",
       "      <td>2010</td>\n",
       "    </tr>\n",
       "    <tr>\n",
       "      <th>188935</th>\n",
       "      <td>WABCA0005300500002</td>\n",
       "      <td>0.0</td>\n",
       "      <td>2010</td>\n",
       "    </tr>\n",
       "    <tr>\n",
       "      <th>188936</th>\n",
       "      <td>PA0003787</td>\n",
       "      <td>0.0</td>\n",
       "      <td>2012</td>\n",
       "    </tr>\n",
       "    <tr>\n",
       "      <th>188937</th>\n",
       "      <td>PA000254610</td>\n",
       "      <td>0.0</td>\n",
       "      <td>2012</td>\n",
       "    </tr>\n",
       "    <tr>\n",
       "      <th>188938</th>\n",
       "      <td>PA00050751</td>\n",
       "      <td>0.0</td>\n",
       "      <td>2012</td>\n",
       "    </tr>\n",
       "    <tr>\n",
       "      <th>188939</th>\n",
       "      <td>PA000491575</td>\n",
       "      <td>0.0</td>\n",
       "      <td>2012</td>\n",
       "    </tr>\n",
       "    <tr>\n",
       "      <th>188940</th>\n",
       "      <td>NY0000006302200014</td>\n",
       "      <td>0.0</td>\n",
       "      <td>2011</td>\n",
       "    </tr>\n",
       "    <tr>\n",
       "      <th>188941</th>\n",
       "      <td>NY0000006405000141</td>\n",
       "      <td>0.0</td>\n",
       "      <td>2012</td>\n",
       "    </tr>\n",
       "    <tr>\n",
       "      <th>188942</th>\n",
       "      <td>NY0000008460300012</td>\n",
       "      <td>0.0</td>\n",
       "      <td>2011</td>\n",
       "    </tr>\n",
       "    <tr>\n",
       "      <th>188943</th>\n",
       "      <td>TN0000004709100001</td>\n",
       "      <td>0.0</td>\n",
       "      <td>2011</td>\n",
       "    </tr>\n",
       "    <tr>\n",
       "      <th>188944</th>\n",
       "      <td>TN0000004709100001</td>\n",
       "      <td>0.0</td>\n",
       "      <td>2012</td>\n",
       "    </tr>\n",
       "    <tr>\n",
       "      <th>188945</th>\n",
       "      <td>TN0000004709100001</td>\n",
       "      <td>0.0</td>\n",
       "      <td>2012</td>\n",
       "    </tr>\n",
       "  </tbody>\n",
       "</table>\n",
       "<p>188946 rows × 3 columns</p>\n",
       "</div>"
      ],
      "text/plain": [
       "                PGM_SYS_ID  Outcome  Year\n",
       "0       CT0000000900508907      1.0  2010\n",
       "1       CT0000000900900016      1.0  2010\n",
       "2       MA0000002511900766      1.0  2011\n",
       "3       NY0000002620500175      1.0  2011\n",
       "4       NY0000002600500578      1.0  2011\n",
       "5       NY0000002620100208      1.0  2011\n",
       "6       NY0000002630100392      1.0  2011\n",
       "7       VA0000005102300039      1.0  2011\n",
       "8       NY0000002620600068      1.0  2010\n",
       "9       NY0000002600500572      1.0  2010\n",
       "10      MD0000002404300005      1.0  2011\n",
       "11      MD0000002403300667      1.0  2012\n",
       "12             PA000262770      1.0  2012\n",
       "13      NC0000003706500179      1.0  2012\n",
       "14          IL000203809AAD      1.0  2012\n",
       "15      OH0000000370010023      1.0  2010\n",
       "16      KYJFC0002111100189      1.0  2010\n",
       "17      ALJEF0000107300052      1.0  2010\n",
       "18          IL000031600GXD      1.0  2010\n",
       "19          IL000197815AAR      1.0  2011\n",
       "20          IL000143805AAB      1.0  2011\n",
       "21          IL000141817AAI      1.0  2012\n",
       "22          IL000141050ABP      1.0  2012\n",
       "23          IL000031600ADY      1.0  2010\n",
       "24      TN0000004701700012      1.0  2011\n",
       "25      TN0000004711700061      1.0  2010\n",
       "26      MN0000002714100004      1.0  2010\n",
       "27      OH0000000322010062      1.0  2010\n",
       "28      OH0000000121010005      1.0  2012\n",
       "29          IL000043419AAR      1.0  2010\n",
       "...                    ...      ...   ...\n",
       "188916  TN0000004709900055      0.0  2012\n",
       "188917  TN0000004709900055      0.0  2011\n",
       "188918  TN0000004716300052      0.0  2010\n",
       "188919  TN0000004717300036      0.0  2010\n",
       "188920  TN0000004717300036      0.0  2011\n",
       "188921  TN0000004717300036      0.0  2012\n",
       "188922  TN0000004717300036      0.0  2012\n",
       "188923  TN0000004717700009      0.0  2012\n",
       "188924  NY0000002620500202      0.0  2010\n",
       "188925  NY0000002620501562      0.0  2011\n",
       "188926  NY0000003335200291      0.0  2012\n",
       "188927  NY0000003514800070      0.0  2011\n",
       "188928  NY0000006302200014      0.0  2011\n",
       "188929  NY0000006402600001      0.0  2012\n",
       "188930  NY0000008073400042      0.0  2011\n",
       "188931  NY0000008261400203      0.0  2011\n",
       "188932  NY0000008261400341      0.0  2012\n",
       "188933  NY0000008261400341      0.0  2012\n",
       "188934  NY0000008261400448      0.0  2010\n",
       "188935  WABCA0005300500002      0.0  2010\n",
       "188936           PA0003787      0.0  2012\n",
       "188937         PA000254610      0.0  2012\n",
       "188938          PA00050751      0.0  2012\n",
       "188939         PA000491575      0.0  2012\n",
       "188940  NY0000006302200014      0.0  2011\n",
       "188941  NY0000006405000141      0.0  2012\n",
       "188942  NY0000008460300012      0.0  2011\n",
       "188943  TN0000004709100001      0.0  2011\n",
       "188944  TN0000004709100001      0.0  2012\n",
       "188945  TN0000004709100001      0.0  2012\n",
       "\n",
       "[188946 rows x 3 columns]"
      ]
     },
     "execution_count": 184,
     "metadata": {},
     "output_type": "execute_result"
    }
   ],
   "source": [
    "final"
   ]
  },
  {
   "cell_type": "code",
   "execution_count": 185,
   "metadata": {
    "collapsed": false
   },
   "outputs": [
    {
     "data": {
      "text/plain": [
       "0.0    188252\n",
       "1.0       694\n",
       "Name: Outcome, dtype: int64"
      ]
     },
     "execution_count": 185,
     "metadata": {},
     "output_type": "execute_result"
    }
   ],
   "source": [
    "final.Outcome.value_counts()"
   ]
  },
  {
   "cell_type": "code",
   "execution_count": null,
   "metadata": {
    "collapsed": true
   },
   "outputs": [],
   "source": []
  }
 ],
 "metadata": {
  "kernelspec": {
   "display_name": "Python 3",
   "language": "python",
   "name": "python3"
  },
  "language_info": {
   "codemirror_mode": {
    "name": "ipython",
    "version": 3
   },
   "file_extension": ".py",
   "mimetype": "text/x-python",
   "name": "python",
   "nbconvert_exporter": "python",
   "pygments_lexer": "ipython3",
   "version": "3.6.0"
  }
 },
 "nbformat": 4,
 "nbformat_minor": 2
}
